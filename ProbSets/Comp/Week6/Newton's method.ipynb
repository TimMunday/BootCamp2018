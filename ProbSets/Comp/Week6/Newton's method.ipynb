{
 "cells": [
  {
   "cell_type": "markdown",
   "metadata": {},
   "source": [
    "# Newton's"
   ]
  },
  {
   "cell_type": "code",
   "execution_count": 1,
   "metadata": {},
   "outputs": [],
   "source": [
    "import numpy as np\n",
    "from matplotlib import pyplot as plt\n",
    "from scipy import optimize as opt\n",
    "import math\n",
    "import pandas as pd\n",
    "import scipy\n",
    "plt.style.use('seaborn-darkgrid')\n",
    "palette = plt.get_cmap('Dark2')\n",
    "from scipy import stats\n",
    "import sympy as sy"
   ]
  },
  {
   "cell_type": "markdown",
   "metadata": {},
   "source": [
    "### Problem 1"
   ]
  },
  {
   "cell_type": "code",
   "execution_count": 5,
   "metadata": {},
   "outputs": [],
   "source": [
    "def p_1(f, x_0, f_prime, tol=10e-5, maxiters=15):\n",
    "    x_k = x_0\n",
    "    dist = 10.0\n",
    "    iters = 0\n",
    "    converge = False\n",
    "    while converge == False and iters < maxiters:\n",
    "        x_kp1 = x_k - f(x_k)/f_prime(x_k)\n",
    "        dist = x_kp1 - x_k\n",
    "        if np.abs(dist) < tol:\n",
    "            converge = True\n",
    "        x_k = x_kp1\n",
    "        iters += 1\n",
    "    return x_k, converge, iters"
   ]
  },
  {
   "cell_type": "code",
   "execution_count": 6,
   "metadata": {},
   "outputs": [],
   "source": [
    "def f_1(x):\n",
    "    output = np.exp(x) -2\n",
    "    return output\n",
    "\n",
    "def f_1_prime(x):\n",
    "    output = np.exp(x)\n",
    "    return output"
   ]
  },
  {
   "cell_type": "code",
   "execution_count": 7,
   "metadata": {},
   "outputs": [
    {
     "data": {
      "text/plain": [
       "(0.6931471814512683, True, 5)"
      ]
     },
     "execution_count": 7,
     "metadata": {},
     "output_type": "execute_result"
    }
   ],
   "source": [
    "p_1(f_1, 2.0, f_1_prime)"
   ]
  },
  {
   "cell_type": "markdown",
   "metadata": {},
   "source": [
    "### Problem 2"
   ]
  },
  {
   "cell_type": "code",
   "execution_count": 8,
   "metadata": {},
   "outputs": [],
   "source": [
    "def f_2(r):\n",
    "    N1 = 30\n",
    "    N2 = 20\n",
    "    P1 = 2000\n",
    "    P2 = 8000\n",
    "    output = P1*((1+r)**N1 - 1) - P2*(1-(1+r)**(-N2))\n",
    "    return output\n",
    "\n",
    "def f_2_prime(r):\n",
    "    N1 = 30\n",
    "    N2 = 20\n",
    "    P1 = 2000\n",
    "    P2 = 8000\n",
    "    output = P1*N1*(1 + r)**(N1 - 1) - P1 - P2 + N2*P2*(1 + r)**(-N2 - 1)\n",
    "    return output"
   ]
  },
  {
   "cell_type": "code",
   "execution_count": 9,
   "metadata": {},
   "outputs": [
    {
     "data": {
      "text/plain": [
       "(0.03888406054094741, True, 10)"
      ]
     },
     "execution_count": 9,
     "metadata": {},
     "output_type": "execute_result"
    }
   ],
   "source": [
    "p_1(f_2, 0.1, f_2_prime)"
   ]
  },
  {
   "cell_type": "markdown",
   "metadata": {},
   "source": [
    "### Problem 3"
   ]
  },
  {
   "cell_type": "code",
   "execution_count": 10,
   "metadata": {},
   "outputs": [],
   "source": [
    "def p_3(f, x_0, f_prime, tol=10e-5, maxiters=15, alpha=1):\n",
    "    x_k = x_0\n",
    "    dist = 10.0\n",
    "    iters = 0\n",
    "    converge = False\n",
    "    while converge == False and iters < maxiters:\n",
    "        x_kp1 = x_k - alpha*f(x_k)/f_prime(x_k)\n",
    "        dist = x_kp1 - x_k\n",
    "        if np.abs(dist) < tol:\n",
    "            converge = True\n",
    "        x_k = x_kp1\n",
    "        iters += 1\n",
    "    return x_k, converge, iters"
   ]
  },
  {
   "cell_type": "code",
   "execution_count": 11,
   "metadata": {},
   "outputs": [],
   "source": [
    "f_3 = lambda x: np.sign(x) * np.power(np.abs(x), 1./3)\n",
    "f_3_prime = lambda x: (1./3)*np.power(np.abs(x), -2./3)"
   ]
  },
  {
   "cell_type": "code",
   "execution_count": 12,
   "metadata": {},
   "outputs": [
    {
     "data": {
      "text/plain": [
       "(-327.6800000000003, False, 15)"
      ]
     },
     "execution_count": 12,
     "metadata": {},
     "output_type": "execute_result"
    }
   ],
   "source": [
    "p_3(f_3, 0.01, f_3_prime)"
   ]
  },
  {
   "cell_type": "code",
   "execution_count": 13,
   "metadata": {},
   "outputs": [
    {
     "data": {
      "text/plain": [
       "(4.096000000000262e-11, True, 12)"
      ]
     },
     "execution_count": 13,
     "metadata": {},
     "output_type": "execute_result"
    }
   ],
   "source": [
    "p_3(f_3, 0.01, f_3_prime, tol = 10e-10, maxiters = 50, alpha=0.4)"
   ]
  },
  {
   "cell_type": "code",
   "execution_count": 14,
   "metadata": {},
   "outputs": [
    {
     "data": {
      "text/plain": [
       "0.00034470955040510155"
      ]
     },
     "execution_count": 14,
     "metadata": {},
     "output_type": "execute_result"
    }
   ],
   "source": [
    "f_3(4.096e-11)"
   ]
  },
  {
   "cell_type": "markdown",
   "metadata": {},
   "source": [
    "### Problem 4"
   ]
  },
  {
   "cell_type": "code",
   "execution_count": 15,
   "metadata": {},
   "outputs": [
    {
     "data": {
      "image/png": "[encoded data removed]",
      "text/plain": [
       "<Figure size 432x288 with 1 Axes>"
      ]
     },
     "metadata": {},
     "output_type": "display_data"
    }
   ],
   "source": [
    "alpha_dom = np.linspace(0.1, 1.0, 1000)\n",
    "\n",
    "iter_vec = np.zeros(1000)\n",
    "\n",
    "for i in range(len(alpha_dom)):\n",
    "    x_k, con, iters = p_3(f_3, 0.01, f_3_prime, tol=10e-10, maxiters = 100, alpha = alpha_dom[i])\n",
    "    iter_vec[i] = iters\n",
    "    \n",
    "plt.plot(alpha_dom, iter_vec)\n",
    "plt.xlabel('alpha')\n",
    "plt.ylabel('iterations, max at 100')\n",
    "plt.show()"
   ]
  },
  {
   "cell_type": "markdown",
   "metadata": {},
   "source": [
    "### Problem 5"
   ]
  },
  {
   "cell_type": "code",
   "execution_count": 89,
   "metadata": {},
   "outputs": [],
   "source": [
    "def err_5(y_k, errargs):\n",
    "    f, x_k, f_prime = errargs\n",
    "    errors = f_prime(x_k) @ y_k.reshape((len(x_k), 1)) - f(x_k).reshape((len(x_k), 1))\n",
    "    return errors.flatten()"
   ]
  },
  {
   "cell_type": "code",
   "execution_count": 90,
   "metadata": {},
   "outputs": [],
   "source": [
    "def p_5(f, x_0, f_prime, tol=10e-5, maxiters=15, alpha=1):\n",
    "    if np.isscalar(x_0) == True:\n",
    "        x_k, converge, iters = p_3(f, x_0, f_prime, tol, maxiters, alpha)\n",
    "    else:\n",
    "        x_k = x_0\n",
    "        dist = 10.0\n",
    "        iters = 0\n",
    "        converge = False\n",
    "        while converge == False and iters < maxiters:\n",
    "            results = opt.root(err_5, np.ones(len(x_k)).reshape((len(x_k), 1)), [f, x_k, f_prime])\n",
    "            y_k = results.x\n",
    "            x_kp1 = x_k - alpha*y_k\n",
    "            dist = x_kp1 - x_k\n",
    "            if np.linalg.norm(dist) < tol:\n",
    "                converge = True\n",
    "            x_k = x_kp1\n",
    "            iters += 1\n",
    "    return x_k, converge, iters"
   ]
  },
  {
   "cell_type": "code",
   "execution_count": 92,
   "metadata": {},
   "outputs": [],
   "source": [
    "def f_5_prime(x):\n",
    "    output = np.diag(f_3_prime(x))\n",
    "    return output"
   ]
  },
  {
   "cell_type": "code",
   "execution_count": 97,
   "metadata": {},
   "outputs": [
    {
     "data": {
      "text/plain": [
       "(array([1.e-06, 2.e-06]), True, 6)"
      ]
     },
     "execution_count": 97,
     "metadata": {},
     "output_type": "execute_result"
    }
   ],
   "source": [
    "x_5 = np.array([1, 2])\n",
    "p_5(f_3, x_5, f_5_prime, alpha=0.3)"
   ]
  },
  {
   "cell_type": "markdown",
   "metadata": {},
   "source": [
    "### Problem 6"
   ]
  },
  {
   "cell_type": "code",
   "execution_count": 100,
   "metadata": {},
   "outputs": [],
   "source": [
    "def f_6(x):\n",
    "    gamma, delta = 5.0, 1.0\n",
    "    output = np.zeros(2)\n",
    "    output[0] =  gamma*x[0]*x[1] - x[0]*(1 + x[1])\n",
    "    output[1] = -x[0]*x[1] + (delta - x[1])*(1 + x[1])\n",
    "    return output\n",
    "\n",
    "def f_6_prime(x):\n",
    "    gamma, delta = 5.0, 1.0\n",
    "    output = np.zeros((2,2))\n",
    "    output[0, 0] = gamma*x[1] - (1 + x[1])\n",
    "    output[0, 1] = gamma*x[0] - x[0]\n",
    "    output[1, 0] = -x[1]\n",
    "    output[1, 1] = -x[0] + delta - 1 - 2*x[1]\n",
    "    return output"
   ]
  },
  {
   "cell_type": "code",
   "execution_count": 105,
   "metadata": {},
   "outputs": [
    {
     "data": {
      "text/plain": [
       "1.000056996097502"
      ]
     },
     "execution_count": 105,
     "metadata": {},
     "output_type": "execute_result"
    }
   ],
   "source": [
    "one, two, three = p_5(f_6, x_5, f_6_prime, alpha=0.4, maxiters = 100) #check function is OK\n",
    "one[1]"
   ]
  },
  {
   "cell_type": "code",
   "execution_count": 142,
   "metadata": {},
   "outputs": [],
   "source": [
    "def p_6_err(N):\n",
    "    dom_1 = np.linspace(-0.25, 0.0, N)\n",
    "    dom_2 = np.linspace(0.0, 0.25, N)\n",
    "    save1 = 'no result'\n",
    "    save2 = 'no result'\n",
    "    x_0 = np.array([0.0, 0.0])\n",
    "    \n",
    "    for i in range(N):\n",
    "        for j in range(N):\n",
    "            x_init = np.array([dom_1[i], dom_2[j]])\n",
    "            result1, converge1, iters1 = p_5(f_6, x_init, f_6_prime, alpha=1.0, maxiters=100)\n",
    "            result2, converge2, iters2 = p_5(f_6, x_init, f_6_prime, alpha=0.55, maxiters=100)\n",
    "            if (np.abs(result1[0])<1e-4 and np.abs(result1[1])-1<1e-4 and np.abs(result2[0]-3.75)<1e-4 and np.abs(result2[1]-.25)<1e-4):\n",
    "                save1 = result1\n",
    "                save2 = result2\n",
    "                x_0 = x_init\n",
    "                break\n",
    "        if (np.abs(result1[0])<1e-4 and np.abs(result1[1])-1<1e-4 and np.abs(result2[0]-3.75)<1e-4 and np.abs(result2[1]-0.25)<1e-4):\n",
    "            break\n",
    "        \n",
    "    print(save1, save2, x_0)"
   ]
  },
  {
   "cell_type": "code",
   "execution_count": 143,
   "metadata": {},
   "outputs": [
    {
     "name": "stdout",
     "output_type": "stream",
     "text": [
      "[-2.10506715e-11 -1.00000000e+00] [3.75006575 0.25002053] [-0.25       0.1969697]\n"
     ]
    }
   ],
   "source": [
    "p_6_err(100)"
   ]
  },
  {
   "cell_type": "code",
   "execution_count": 144,
   "metadata": {},
   "outputs": [],
   "source": [
    "#roughly -0.25, 0.2 will work we can see"
   ]
  },
  {
   "cell_type": "code",
   "execution_count": null,
   "metadata": {},
   "outputs": [],
   "source": []
  }
 ],
 "metadata": {
  "kernelspec": {
   "display_name": "Python 3",
   "language": "python",
   "name": "python3"
  },
  "language_info": {
   "codemirror_mode": {
    "name": "ipython",
    "version": 3
   },
   "file_extension": ".py",
   "mimetype": "text/x-python",
   "name": "python",
   "nbconvert_exporter": "python",
   "pygments_lexer": "ipython3",
   "version": "3.6.5"
  }
 },
 "nbformat": 4,
 "nbformat_minor": 2
}
