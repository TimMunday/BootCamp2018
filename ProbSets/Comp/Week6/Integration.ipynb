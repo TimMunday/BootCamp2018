{
 "cells": [
  {
   "cell_type": "markdown",
   "metadata": {},
   "source": [
    "# Integration"
   ]
  },
  {
   "cell_type": "code",
   "execution_count": 2,
   "metadata": {},
   "outputs": [],
   "source": [
    "import numpy as np\n",
    "from matplotlib import pyplot as plt\n",
    "from scipy import optimize as opt\n",
    "import math\n",
    "import pandas as pd\n",
    "import scipy\n",
    "plt.style.use('seaborn-darkgrid')\n",
    "palette = plt.get_cmap('Dark2')\n",
    "from scipy import stats\n",
    "import sympy as sy"
   ]
  },
  {
   "cell_type": "markdown",
   "metadata": {},
   "source": [
    "### Ex 14.1"
   ]
  },
  {
   "cell_type": "code",
   "execution_count": 23,
   "metadata": {},
   "outputs": [],
   "source": [
    "def g_1(x):\n",
    "    output = 0.1*x**4 - 1.5*x**3 + 0.53*x**2 + 2*x + 1\n",
    "    return output"
   ]
  },
  {
   "cell_type": "code",
   "execution_count": null,
   "metadata": {},
   "outputs": [],
   "source": [
    "test = np.array()"
   ]
  },
  {
   "cell_type": "code",
   "execution_count": 45,
   "metadata": {},
   "outputs": [],
   "source": [
    "def p_1(g, a, b, N, method):\n",
    "    \n",
    "    \n",
    "    if method == 'midpoint':\n",
    "        i = np.linspace(0, N, N)\n",
    "        dom = a + (2*i+1)*(b-a)/(2*N)\n",
    "        out = ((b-a)/N)*(g(dom).sum())\n",
    "    \n",
    "    elif method == 'trapezoid':\n",
    "        i = np.linspace(0, N, N)\n",
    "        dom = a + i*(b-a)/N\n",
    "        out = ((b-a)/(2*N))*(g(dom[0])\n",
    "                           + 2*(g(dom[1:N-1]).sum())\n",
    "                           + g(dom[N-1]))\n",
    "        \n",
    "    elif method == 'simpson':\n",
    "        i = np.linspace(0, 2*N, 2*N)\n",
    "        dom = a + i*(b-a)/(2*N)\n",
    "        out = ((b-a)/(6*(N+1)))*(g(dom[0])\n",
    "                               + 4*(g(dom[1:2*N-1:2]).sum())\n",
    "                               + 2*(g(dom[2:2*N-2:2]).sum())\n",
    "                               + g(dom[2*N-1]))\n",
    "    \n",
    "    else:\n",
    "        print('Please enter a correct method')\n",
    "    \n",
    "    return out"
   ]
  },
  {
   "cell_type": "code",
   "execution_count": 49,
   "metadata": {},
   "outputs": [
    {
     "data": {
      "text/plain": [
       "4360.448450763388"
      ]
     },
     "execution_count": 49,
     "metadata": {},
     "output_type": "execute_result"
    }
   ],
   "source": [
    "p_1(g_1, -10.0, 10.0, 1000, method='midpoint')"
   ]
  },
  {
   "cell_type": "code",
   "execution_count": 50,
   "metadata": {},
   "outputs": [
    {
     "data": {
      "text/plain": [
       "4368.987400723368"
      ]
     },
     "execution_count": 50,
     "metadata": {},
     "output_type": "execute_result"
    }
   ],
   "source": [
    "p_1(g_1, -10.0, 10.0, 1000, method='trapezoid')"
   ]
  },
  {
   "cell_type": "code",
   "execution_count": 51,
   "metadata": {},
   "outputs": [
    {
     "data": {
      "text/plain": [
       "4371.032505588872"
      ]
     },
     "execution_count": 51,
     "metadata": {},
     "output_type": "execute_result"
    }
   ],
   "source": [
    "p_1(g_1, -10, 10.0, 1000, method='simpson')"
   ]
  },
  {
   "cell_type": "markdown",
   "metadata": {},
   "source": [
    "### Ex 14.2"
   ]
  },
  {
   "cell_type": "code",
   "execution_count": 57,
   "metadata": {},
   "outputs": [],
   "source": [
    "def p_2(mu, sigma, N, k):\n",
    "    nodes = np.linspace(mu - k*sigma, mu + k*sigma, N)\n",
    "    \n",
    "    w = np.zeros(N)\n",
    "    \n",
    "    w[0] = stats.norm.cdf((nodes[0]+nodes[1])/2, mu, sigma)\n",
    "    \n",
    "    zmin = (nodes[0:N-2] + nodes[1:N-1])/2\n",
    "    zmax = (nodes[1:N-1] + nodes[2:N])/2\n",
    "    w[1:N-1] = stats.norm.cdf(zmax, mu, sigma) - stats.norm.cdf(zmin, mu, sigma)\n",
    "    \n",
    "    w[N-1] = 1 - stats.norm.cdf((nodes[N-1]+nodes[N-2])/2, mu, sigma)\n",
    "    \n",
    "    return nodes, w"
   ]
  },
  {
   "cell_type": "code",
   "execution_count": 58,
   "metadata": {},
   "outputs": [],
   "source": [
    "nodes_2, w_2 = p_2(0, 1, 11, 2)"
   ]
  },
  {
   "cell_type": "code",
   "execution_count": 59,
   "metadata": {},
   "outputs": [
    {
     "data": {
      "text/plain": [
       "array([-2. , -1.6, -1.2, -0.8, -0.4,  0. ,  0.4,  0.8,  1.2,  1.6,  2. ])"
      ]
     },
     "execution_count": 59,
     "metadata": {},
     "output_type": "execute_result"
    }
   ],
   "source": [
    "nodes_2"
   ]
  },
  {
   "cell_type": "code",
   "execution_count": 60,
   "metadata": {},
   "outputs": [
    {
     "data": {
      "text/plain": [
       "array([0.03593032, 0.04482634, 0.07789859, 0.11559786, 0.14648717,\n",
       "       0.15851942, 0.14648717, 0.11559786, 0.07789859, 0.04482634,\n",
       "       0.03593032])"
      ]
     },
     "execution_count": 60,
     "metadata": {},
     "output_type": "execute_result"
    }
   ],
   "source": [
    "w_2"
   ]
  },
  {
   "cell_type": "code",
   "execution_count": 61,
   "metadata": {},
   "outputs": [
    {
     "data": {
      "image/png": "[encoded data removed]",
      "text/plain": [
       "<Figure size 432x288 with 1 Axes>"
      ]
     },
     "metadata": {},
     "output_type": "display_data"
    }
   ],
   "source": [
    "plt.plot(nodes_2, w_2)\n",
    "plt.show()"
   ]
  },
  {
   "cell_type": "markdown",
   "metadata": {},
   "source": [
    "### Ex 14.3"
   ]
  },
  {
   "cell_type": "code",
   "execution_count": 62,
   "metadata": {},
   "outputs": [],
   "source": [
    "def p_3(mu, sigma, N, k):\n",
    "    nodes, w = p_2(mu, sigma, N, k)\n",
    "    return np.exp(nodes), w"
   ]
  },
  {
   "cell_type": "code",
   "execution_count": 64,
   "metadata": {},
   "outputs": [
    {
     "data": {
      "image/png": "[encoded data removed]",
      "text/plain": [
       "<Figure size 432x288 with 1 Axes>"
      ]
     },
     "metadata": {},
     "output_type": "display_data"
    }
   ],
   "source": [
    "nodes_3, w_3 = p_3(0, 1, 11, 2)\n",
    "plt.plot(nodes_3, w_3)\n",
    "plt.show()"
   ]
  },
  {
   "cell_type": "markdown",
   "metadata": {},
   "source": [
    "### Ex 14.4"
   ]
  },
  {
   "cell_type": "code",
   "execution_count": 65,
   "metadata": {},
   "outputs": [
    {
     "data": {
      "text/plain": [
       "48389.882859453224"
      ]
     },
     "execution_count": 65,
     "metadata": {},
     "output_type": "execute_result"
    }
   ],
   "source": [
    "nodes_4, w_4 = p_3(10.5, 0.8, 100, 2)\n",
    "expected = (nodes_4*w_4).sum()\n",
    "expected"
   ]
  },
  {
   "cell_type": "code",
   "execution_count": 66,
   "metadata": {},
   "outputs": [
    {
     "data": {
      "text/plain": [
       "50011.087008521754"
      ]
     },
     "execution_count": 66,
     "metadata": {},
     "output_type": "execute_result"
    }
   ],
   "source": [
    "np.exp(10.5 + 0.5*0.8**2)"
   ]
  },
  {
   "cell_type": "markdown",
   "metadata": {},
   "source": [
    "### Ex 14.5"
   ]
  },
  {
   "cell_type": "code",
   "execution_count": 46,
   "metadata": {},
   "outputs": [],
   "source": [
    "def err_5(params): #Return a bunch of errors that we try to minimize\n",
    "    w_1, w_2, w_3, x_1, x_2, x_3 = params\n",
    "    a = -10.0\n",
    "    b = 10.0\n",
    "    \n",
    "    err_vec = np.zeros(6)\n",
    "    err_vec[0] = (b-a) - (w_1\n",
    "                          + w_2\n",
    "                          + w_3)\n",
    "    err_vec[1] = (0.5*b**2 - 0.5*a**2) - (w_1*x_1\n",
    "                                          + w_2*x_2\n",
    "                                          + w_3*x_3)\n",
    "    err_vec[2] = (1/3)*(b**3 - a**3) - (w_1*x_1**2\n",
    "                                        + w_2*x_2**2\n",
    "                                        + w_3*x_3**2)\n",
    "    err_vec[3] = (1/4)*(b**4 - a**4) - (w_1*x_1**3\n",
    "                                        + w_2*x_2**3\n",
    "                                        + w_3*x_3**3)\n",
    "    err_vec[4] = (1/5)*(b**5 - a**5) - (w_1*x_1**4\n",
    "                                        + w_2*x_2**4\n",
    "                                        + w_3*x_3**4)\n",
    "    err_vec[5] = (1/6)*(b**6 - a**6) - (w_1*x_1**5\n",
    "                                        + w_2*x_2**5\n",
    "                                        + w_3*x_3**5)\n",
    "    return err_vec"
   ]
  },
  {
   "cell_type": "code",
   "execution_count": 65,
   "metadata": {},
   "outputs": [
    {
     "data": {
      "text/plain": [
       "array([ 1.80000000e+01, -2.00000000e+00,  6.64666667e+02, -2.00000000e+00,\n",
       "        3.99980000e+04, -2.00000000e+00])"
      ]
     },
     "execution_count": 65,
     "metadata": {},
     "output_type": "execute_result"
    }
   ],
   "source": [
    "params_init_5 = np.array([0.5, 1, 0.5, 1, 1, 1])\n",
    "err_5(params_init_5)"
   ]
  },
  {
   "cell_type": "code",
   "execution_count": 75,
   "metadata": {},
   "outputs": [
    {
     "data": {
      "text/plain": [
       "array([ 5.55555556e+00,  5.55555556e+00,  8.88888889e+00,  7.74596669e+00,\n",
       "       -7.74596669e+00,  1.13221604e-09])"
      ]
     },
     "execution_count": 75,
     "metadata": {},
     "output_type": "execute_result"
    }
   ],
   "source": [
    "results = opt.root(err_5, params_init_5)\n",
    "output_5 = results.x\n",
    "output_5"
   ]
  },
  {
   "cell_type": "code",
   "execution_count": 76,
   "metadata": {},
   "outputs": [],
   "source": [
    "wvec = output_5[:3]\n",
    "zvec = output_5[3:]"
   ]
  },
  {
   "cell_type": "code",
   "execution_count": 77,
   "metadata": {},
   "outputs": [
    {
     "data": {
      "text/plain": [
       "5.555555555444037"
      ]
     },
     "execution_count": 77,
     "metadata": {},
     "output_type": "execute_result"
    }
   ],
   "source": [
    "wvec[0]"
   ]
  },
  {
   "cell_type": "code",
   "execution_count": 78,
   "metadata": {},
   "outputs": [
    {
     "data": {
      "text/plain": [
       "array([-2.88845069e+02,  1.07444507e+03,  1.00000000e+00])"
      ]
     },
     "execution_count": 78,
     "metadata": {},
     "output_type": "execute_result"
    }
   ],
   "source": [
    "g_1(zvec)"
   ]
  },
  {
   "cell_type": "code",
   "execution_count": 80,
   "metadata": {},
   "outputs": [
    {
     "data": {
      "text/plain": [
       "4373.333333380752"
      ]
     },
     "execution_count": 80,
     "metadata": {},
     "output_type": "execute_result"
    }
   ],
   "source": [
    "guassian_quad = wvec * g_1(zvec)\n",
    "guassian_quad.sum()"
   ]
  },
  {
   "cell_type": "markdown",
   "metadata": {},
   "source": [
    "### Ex 14.6"
   ]
  },
  {
   "cell_type": "code",
   "execution_count": 81,
   "metadata": {},
   "outputs": [
    {
     "data": {
      "text/plain": [
       "(4373.333333333334, 8.109531705284936e-11)"
      ]
     },
     "execution_count": 81,
     "metadata": {},
     "output_type": "execute_result"
    }
   ],
   "source": [
    "scipy.integrate.quad(g_1, -10.0, 10)"
   ]
  },
  {
   "cell_type": "markdown",
   "metadata": {},
   "source": [
    "### Ex 14.7"
   ]
  },
  {
   "cell_type": "code",
   "execution_count": null,
   "metadata": {},
   "outputs": [],
   "source": []
  }
 ],
 "metadata": {
  "kernelspec": {
   "display_name": "Python 3",
   "language": "python",
   "name": "python3"
  },
  "language_info": {
   "codemirror_mode": {
    "name": "ipython",
    "version": 3
   },
   "file_extension": ".py",
   "mimetype": "text/x-python",
   "name": "python",
   "nbconvert_exporter": "python",
   "pygments_lexer": "ipython3",
   "version": "3.6.5"
  }
 },
 "nbformat": 4,
 "nbformat_minor": 2
}
