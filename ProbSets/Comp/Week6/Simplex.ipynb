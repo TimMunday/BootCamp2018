{
 "cells": [
  {
   "cell_type": "markdown",
   "metadata": {},
   "source": [
    "# Simplex"
   ]
  },
  {
   "cell_type": "code",
   "execution_count": 1,
   "metadata": {},
   "outputs": [],
   "source": [
    "import numpy as np\n",
    "from matplotlib import pyplot as plt\n",
    "from scipy import optimize as opt\n",
    "import math\n",
    "import pandas as pd\n",
    "import scipy\n",
    "plt.style.use('seaborn-darkgrid')\n",
    "palette = plt.get_cmap('Dark2')\n",
    "from scipy import stats\n",
    "import sympy as sy"
   ]
  },
  {
   "cell_type": "markdown",
   "metadata": {},
   "source": [
    "### Problem 1"
   ]
  },
  {
   "cell_type": "code",
   "execution_count": 77,
   "metadata": {},
   "outputs": [],
   "source": [
    "class simplex:\n",
    "    '''An object class ?'''\n",
    "    def __init__(self, c, A, b):\n",
    "        self.c = c\n",
    "        self.A = A\n",
    "        self.b = b\n",
    "        self.n = len(c)\n",
    "        if (self.A@np.zeros((self.n, 1)) <= self.b).sum() != len(self.b):\n",
    "            raise ValueError('Not feasible')"
   ]
  },
  {
   "cell_type": "code",
   "execution_count": 78,
   "metadata": {},
   "outputs": [],
   "source": [
    "c_1 = np.array([[3], [2]])\n",
    "A_1 = np.array([[1, -1], [3, 1], [4, 3]])\n",
    "b_1 = np.array([[2], [5], [7]])\n",
    "testcase = simplex(c_1, A_1, b_1)"
   ]
  },
  {
   "cell_type": "markdown",
   "metadata": {},
   "source": [
    "### Problem 2"
   ]
  },
  {
   "cell_type": "code",
   "execution_count": 64,
   "metadata": {},
   "outputs": [],
   "source": [
    "class simplex:\n",
    "    '''An object class ?'''\n",
    "    def __init__(self, c, A, b):\n",
    "        self.c = c\n",
    "        self.A = A\n",
    "        self.b = b\n",
    "        self.n = len(c)\n",
    "        if (self.A@np.zeros((self.n, 1)) <= self.b).sum() != len(self.b):\n",
    "            raise ValueError('Not feasible')\n",
    "        \n",
    "        #track the variables\n",
    "        m, n = A.shape\n",
    "        self.L = list(range(n, n+m)) + list(range(n))"
   ]
  },
  {
   "cell_type": "code",
   "execution_count": 65,
   "metadata": {},
   "outputs": [
    {
     "data": {
      "text/plain": [
       "[2, 3, 4, 0, 1]"
      ]
     },
     "execution_count": 65,
     "metadata": {},
     "output_type": "execute_result"
    }
   ],
   "source": [
    "testcase = simplex(c_1, A_1, b_1)\n",
    "testcase.L"
   ]
  },
  {
   "cell_type": "markdown",
   "metadata": {},
   "source": [
    "### Problem 3"
   ]
  },
  {
   "cell_type": "code",
   "execution_count": 79,
   "metadata": {},
   "outputs": [],
   "source": [
    "class simplex:\n",
    "    '''An object class'''\n",
    "    def __init__(self, c, A, b):\n",
    "        self.c = c\n",
    "        self.A = A\n",
    "        self.b = b\n",
    "        self.n = len(c)\n",
    "        if (self.A@np.zeros((self.n, 1)) <= self.b).sum() != len(self.b):\n",
    "            raise ValueError('Not feasible')\n",
    "        \n",
    "        #track the variables\n",
    "        m, n = A.shape\n",
    "        self.L = list(range(n, n+m)) + list(range(n))\n",
    "        \n",
    "        #create initial tableau\n",
    "        A_bar = np.hstack((A, np.eye(m)))\n",
    "        c_bar = np.vstack((c, np.zeros((m, 1))))\n",
    "        T_1 = np.vstack((np.array([0]), b))\n",
    "        T_2 = np.vstack((-c_bar.T, A_bar))\n",
    "        T_3 = np.vstack((np.array([1]), np.zeros((m, 1))))\n",
    "        T = np.hstack((T_1, T_2, T_3))\n",
    "        self.T = T"
   ]
  },
  {
   "cell_type": "code",
   "execution_count": 98,
   "metadata": {
    "scrolled": true
   },
   "outputs": [
    {
     "data": {
      "text/plain": [
       "array([[ 0., -3., -2., -0., -0., -0.,  1.],\n",
       "       [ 2.,  1., -1.,  1.,  0.,  0.,  0.],\n",
       "       [ 5.,  3.,  1.,  0.,  1.,  0.,  0.],\n",
       "       [ 7.,  4.,  3.,  0.,  0.,  1.,  0.]])"
      ]
     },
     "execution_count": 98,
     "metadata": {},
     "output_type": "execute_result"
    }
   ],
   "source": [
    "testcase = simplex(c_1, A_1, b_1)\n",
    "testcase.T"
   ]
  },
  {
   "cell_type": "markdown",
   "metadata": {},
   "source": [
    "### Problem 4"
   ]
  },
  {
   "cell_type": "code",
   "execution_count": 96,
   "metadata": {},
   "outputs": [],
   "source": [
    "class simplex:\n",
    "    '''An object class'''\n",
    "    def __init__(self, c, A, b):\n",
    "        self.c = c\n",
    "        self.A = A\n",
    "        self.b = b\n",
    "        if (self.A@np.zeros((len(c), 1)) <= self.b).sum() != len(self.b):\n",
    "            raise ValueError('Not feasible')\n",
    "        \n",
    "        #track the variables\n",
    "        m, n = A.shape\n",
    "        self.n = n\n",
    "        self.m = m\n",
    "        self.L = list(range(n, n+m)) + list(range(n))\n",
    "        \n",
    "        #create initial tableau\n",
    "        A_bar = np.hstack((A, np.eye(m)))\n",
    "        c_bar = np.vstack((c, np.zeros((m, 1))))\n",
    "        T_1 = np.vstack((np.array([0]), b))\n",
    "        T_2 = np.vstack((-c_bar.T, A_bar))\n",
    "        T_3 = np.vstack((np.array([1]), np.zeros((m, 1))))\n",
    "        T = np.hstack((T_1, T_2, T_3))\n",
    "        self.T = T\n",
    "        \n",
    "    def pivwhere(self):\n",
    "        col = np.argmax(self.T[0, :]< -1e-5) #return column index\n",
    "        ratio = self.T[1:, 0]/self.T[1:, col]\n",
    "        row = np.argmin(ratio) + 1\n",
    "        return row, col\n",
    "    "
   ]
  },
  {
   "cell_type": "code",
   "execution_count": 99,
   "metadata": {},
   "outputs": [
    {
     "data": {
      "text/plain": [
       "(2, 1)"
      ]
     },
     "execution_count": 99,
     "metadata": {},
     "output_type": "execute_result"
    }
   ],
   "source": [
    "testcase.pivwhere()"
   ]
  },
  {
   "cell_type": "markdown",
   "metadata": {},
   "source": [
    "### Problem 5"
   ]
  },
  {
   "cell_type": "code",
   "execution_count": 178,
   "metadata": {},
   "outputs": [],
   "source": [
    "class simplex:\n",
    "    '''An object class'''\n",
    "    def __init__(self, c, A, b):\n",
    "        self.c = c\n",
    "        self.A = A\n",
    "        self.b = b\n",
    "        if (self.A@np.zeros((len(c), 1)) <= self.b).sum() != len(self.b):\n",
    "            raise ValueError('Not feasible')\n",
    "        \n",
    "        #track the variables\n",
    "        m, n = A.shape\n",
    "        self.n = n\n",
    "        self.m = m\n",
    "        self.L = list(range(n, n+m)) + list(range(n))\n",
    "        \n",
    "        #create initial tableau\n",
    "        A_bar = np.hstack((A, np.eye(m)))\n",
    "        c_bar = np.vstack((c, np.zeros((m, 1))))\n",
    "        T_1 = np.vstack((np.array([0]), b))\n",
    "        T_2 = np.vstack((-c_bar.T, A_bar))\n",
    "        T_3 = np.vstack((np.array([1]), np.zeros((m, 1))))\n",
    "        T = np.hstack((T_1, T_2, T_3))\n",
    "        self.T = T\n",
    "        \n",
    "    def pivwhere(self):\n",
    "        col = np.argmax(self.T[0, :]< -1e-5) #return column index\n",
    "        ratio = self.T[1:, 0]/self.T[1:, col]\n",
    "        row = np.argmin(ratio) + 1\n",
    "        return row, col\n",
    "    \n",
    "    def pivot(self):\n",
    "        row, col = self.pivwhere()\n",
    "        if np.all((self.T[1:, col]< -1e-5)):\n",
    "            raise ValueError('Problem is unbounded')\n",
    "        else:\n",
    "            L_1 = row + 1\n",
    "            L_2 = col - 1\n",
    "            ind_1 = self.L.index(L_1)\n",
    "            ind_2 = self.L.index(L_2)\n",
    "            self.L[ind_1], self.L[ind_2] = self.L[ind_2], self.L[ind_1]\n",
    "            \n",
    "            self.T[row, :] = self.T[row, :]/self.T[row, col] #divide pivot row\n",
    "            \n",
    "            #l, k = self.T.shape\n",
    "            fac = (-self.T[:, col]/self.T[row, col]).reshape(m+1, 1)\n",
    "            add = fac @ self.T[row, :].reshape(1, len(self.T[row, :]))\n",
    "            add[row, :] = 0\n",
    "            self.T = self.T + add\n",
    "        return self.T"
   ]
  },
  {
   "cell_type": "code",
   "execution_count": 121,
   "metadata": {},
   "outputs": [
    {
     "data": {
      "text/plain": [
       "[2, 0, 4, 3, 1]"
      ]
     },
     "execution_count": 121,
     "metadata": {},
     "output_type": "execute_result"
    }
   ],
   "source": [
    "testcase = simplex(c_1, A_1, b_1)\n",
    "testcase.pivot()\n",
    "testcase.L"
   ]
  },
  {
   "cell_type": "code",
   "execution_count": 179,
   "metadata": {},
   "outputs": [],
   "source": [
    "testcase = simplex(c_1, A_1, b_1)\n",
    "x = testcase.pivot()\n"
   ]
  },
  {
   "cell_type": "code",
   "execution_count": 180,
   "metadata": {},
   "outputs": [
    {
     "data": {
      "text/plain": [
       "array([[ 5.        ,  0.        , -1.        ,  0.        ,  1.        ,\n",
       "         0.        ,  1.        ],\n",
       "       [ 0.33333333,  0.        , -1.33333333,  1.        , -0.33333333,\n",
       "         0.        ,  0.        ],\n",
       "       [ 1.66666667,  1.        ,  0.33333333,  0.        ,  0.33333333,\n",
       "         0.        ,  0.        ],\n",
       "       [ 0.33333333,  0.        ,  1.66666667,  0.        , -1.33333333,\n",
       "         1.        ,  0.        ]])"
      ]
     },
     "execution_count": 180,
     "metadata": {},
     "output_type": "execute_result"
    }
   ],
   "source": [
    "x"
   ]
  },
  {
   "cell_type": "markdown",
   "metadata": {},
   "source": [
    "### Problem 6"
   ]
  },
  {
   "cell_type": "code",
   "execution_count": 255,
   "metadata": {},
   "outputs": [],
   "source": [
    "class simplex:\n",
    "    '''An object class'''\n",
    "    def __init__(self, c, A, b):\n",
    "        self.c = c\n",
    "        self.A = A\n",
    "        self.b = b\n",
    "        if (self.A@np.zeros((len(c), 1)) <= self.b).sum() != len(self.b):\n",
    "            raise ValueError('Not feasible')\n",
    "        \n",
    "        #track the variables\n",
    "        m, n = A.shape\n",
    "        self.n = n\n",
    "        self.m = m\n",
    "        self.L = list(range(n, n+m)) + list(range(n))\n",
    "        \n",
    "        #create initial tableau\n",
    "        A_bar = np.hstack((A, np.eye(m)))\n",
    "        c_bar = np.vstack((c, np.zeros((m, 1))))\n",
    "        T_1 = np.vstack((np.array([0]), b))\n",
    "        T_2 = np.vstack((-c_bar.T, A_bar))\n",
    "        T_3 = np.vstack((np.array([1]), np.zeros((m, 1))))\n",
    "        T = np.hstack((T_1, T_2, T_3))\n",
    "        self.T = T\n",
    "        \n",
    "    def pivwhere(self):\n",
    "        col = np.argmax(self.T[0, :]< -1e-5) #return column index\n",
    "        copyT = self.T.copy() #create a copy\n",
    "        copyT[1:, col][copyT[1:, col] < 1e-15] = np.nan\n",
    "        ratio = copyT[1:, 0]/copyT[1:, col]\n",
    "        row = np.nanargmin(ratio) + 1\n",
    "        return row, col\n",
    "    \n",
    "    def pivot(self):\n",
    "        row, col = self.pivwhere()\n",
    "        if np.all((self.T[1:, col]< -1e-5)):\n",
    "            raise ValueError('Problem is unbounded')\n",
    "        else:\n",
    "            L_1 = row + 1\n",
    "            L_2 = col - 1\n",
    "            ind_1 = self.L.index(L_1)\n",
    "            ind_2 = self.L.index(L_2)\n",
    "            self.L[ind_1], self.L[ind_2] = self.L[ind_2], self.L[ind_1]\n",
    "            \n",
    "            self.T[row, :] = self.T[row, :]/self.T[row, col] #divide pivot row\n",
    "            \n",
    "            fac = (-self.T[:, col]/self.T[row, col]).reshape(len((-self.T[:, col]/self.T[row, col])), 1)\n",
    "            add = fac @ self.T[row, :].reshape(1, len(self.T[row, :]))\n",
    "            add[row, :] = 0\n",
    "            self.T = self.T + add\n",
    "        return self.T\n",
    "    \n",
    "    def solve(self):\n",
    "        iters = 0\n",
    "        while np.any(self.T[0, 1:] < 0) and iters < 500:\n",
    "            self.pivot()\n",
    "            iters += 1\n",
    "        maximum = self.T[0, 0]\n",
    "        return maximum"
   ]
  },
  {
   "cell_type": "code",
   "execution_count": 256,
   "metadata": {},
   "outputs": [
    {
     "data": {
      "text/plain": [
       "5.2"
      ]
     },
     "execution_count": 256,
     "metadata": {},
     "output_type": "execute_result"
    }
   ],
   "source": [
    "testcase = simplex(c_1, A_1, b_1)\n",
    "testcase.solve()"
   ]
  },
  {
   "cell_type": "markdown",
   "metadata": {},
   "source": [
    "### Problem 7"
   ]
  },
  {
   "cell_type": "code",
   "execution_count": 213,
   "metadata": {},
   "outputs": [],
   "source": [
    "data = np.load('productMix.npz')"
   ]
  },
  {
   "cell_type": "code",
   "execution_count": 229,
   "metadata": {},
   "outputs": [],
   "source": [
    "A = np.vstack((data['A'], np.eye(data['A'].shape[1])))\n",
    "p = data['p'].reshape(len(data['p']), 1)\n",
    "m = data['m']\n",
    "d = data['d']\n",
    "b_temp = np.concatenate((m, d))\n",
    "b = b_temp.reshape(len(b_temp), 1)"
   ]
  },
  {
   "cell_type": "code",
   "execution_count": 257,
   "metadata": {},
   "outputs": [
    {
     "data": {
      "text/plain": [
       "7453.596491228071"
      ]
     },
     "execution_count": 257,
     "metadata": {},
     "output_type": "execute_result"
    }
   ],
   "source": [
    "prob = simplex(p, A, b)\n",
    "prob.solve()"
   ]
  }
 ],
 "metadata": {
  "kernelspec": {
   "display_name": "Python 3",
   "language": "python",
   "name": "python3"
  },
  "language_info": {
   "codemirror_mode": {
    "name": "ipython",
    "version": 3
   },
   "file_extension": ".py",
   "mimetype": "text/x-python",
   "name": "python",
   "nbconvert_exporter": "python",
   "pygments_lexer": "ipython3",
   "version": "3.6.5"
  }
 },
 "nbformat": 4,
 "nbformat_minor": 2
}
