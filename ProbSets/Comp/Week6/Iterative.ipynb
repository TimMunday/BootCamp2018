{
 "cells": [
  {
   "cell_type": "markdown",
   "metadata": {},
   "source": [
    "# Iterative solvers"
   ]
  },
  {
   "cell_type": "code",
   "execution_count": 37,
   "metadata": {},
   "outputs": [],
   "source": [
    "import numpy as np\n",
    "from matplotlib import pyplot as plt\n",
    "from scipy import optimize as opt\n",
    "import math\n",
    "import pandas as pd\n",
    "import scipy\n",
    "plt.style.use('seaborn-darkgrid')\n",
    "palette = plt.get_cmap('Dark2')\n",
    "from scipy import stats\n",
    "import sympy as sy\n",
    "from scipy import sparse"
   ]
  },
  {
   "cell_type": "markdown",
   "metadata": {},
   "source": [
    "### Problem 1"
   ]
  },
  {
   "cell_type": "code",
   "execution_count": 13,
   "metadata": {},
   "outputs": [],
   "source": [
    "def p_1(A, b, tol=1e-8, maxiters = 100):\n",
    "    x_k  =  np.zeros(len(b))\n",
    "    dist = 10.0\n",
    "    iters = 0\n",
    "    while np.linalg.norm(dist) > tol and iters < maxiters:\n",
    "        d = np.diag(A)\n",
    "        x_kp1 = x_k + (b - A @ x_k)/d\n",
    "        dist = x_kp1 - x_k\n",
    "        x_k = x_kp1\n",
    "    return x_k     "
   ]
  },
  {
   "cell_type": "code",
   "execution_count": 14,
   "metadata": {},
   "outputs": [],
   "source": [
    "def diag_dom(n, num_entries=None):\n",
    "    \"\"\"Generate a strictly diagonally dominant (n, n) matrix. \n",
    "    Parameters:\n",
    "        n (int): The dimension of the system.\n",
    "        num_entries (int): The number of nonzero values.\n",
    "            Defaults to n^(3/2)-n.\n",
    "    Returns:\n",
    "        A ((n,n) ndarray): A (n, n) strictly diagonally dominant matrix.\n",
    "    \"\"\"\n",
    "    if num_entries is None:\n",
    "            num_entries = int(n**1.5) - n\n",
    "    A = np.zeros((n,n))\n",
    "    rows = np.random.choice(np.arange(0,n), size=num_entries)\n",
    "    cols = np.random.choice(np.arange(0,n), size=num_entries)\n",
    "    data = np.random.randint(-4, 4, size=num_entries)\n",
    "    for i in range(num_entries):\n",
    "         A[rows[i], cols[i]] = data[i]\n",
    "    for i in range(n):\n",
    "        A[i,i] = np.sum(np.abs(A[i])) + 1\n",
    "    return A"
   ]
  },
  {
   "cell_type": "code",
   "execution_count": 15,
   "metadata": {},
   "outputs": [],
   "source": [
    "b_1 = np.random.random(10)\n",
    "A_1 = diag_dom(10)"
   ]
  },
  {
   "cell_type": "code",
   "execution_count": 16,
   "metadata": {},
   "outputs": [],
   "source": [
    "sol_1 = p_1(A_1, b_1)"
   ]
  },
  {
   "cell_type": "code",
   "execution_count": 17,
   "metadata": {},
   "outputs": [
    {
     "data": {
      "text/plain": [
       "True"
      ]
     },
     "execution_count": 17,
     "metadata": {},
     "output_type": "execute_result"
    }
   ],
   "source": [
    "np.allclose(A_1 @ sol_1, b_1)"
   ]
  },
  {
   "cell_type": "markdown",
   "metadata": {},
   "source": [
    "### Problem 2"
   ]
  },
  {
   "cell_type": "code",
   "execution_count": 26,
   "metadata": {},
   "outputs": [],
   "source": [
    "def p_2(A, b, tol=1e-8, maxiters = 100, plot=False):\n",
    "    x_k  =  np.zeros(len(b))\n",
    "    dist = 10.0\n",
    "    iters = 0\n",
    "    while dist > tol and iters < maxiters:\n",
    "        d = np.diag(A)\n",
    "        x_kp1 = x_k + (b - A @ x_k)/d\n",
    "        dist = np.linalg.norm(x_kp1 - x_k)\n",
    "        x_k = x_kp1\n",
    "        if iters == 0:\n",
    "            abserror = np.array([dist])\n",
    "        else:\n",
    "            abserror = np.vstack((abserror, dist))\n",
    "        iters += 1\n",
    "    if plot == True:\n",
    "        dom = np.arange(len(abserror))\n",
    "        plt.plot(dom, abserror)\n",
    "        plt.xlabel('Iteration')\n",
    "        plt.ylabel('Absolute error of approx')\n",
    "        plt.yscale('log')\n",
    "        plt.show()\n",
    "    return x_k     "
   ]
  },
  {
   "cell_type": "code",
   "execution_count": 27,
   "metadata": {},
   "outputs": [
    {
     "data": {
      "image/png": "[encoded data removed]",
      "text/plain": [
       "<Figure size 432x288 with 1 Axes>"
      ]
     },
     "metadata": {},
     "output_type": "display_data"
    },
    {
     "data": {
      "text/plain": [
       "array([ 0.79736239,  0.16333064,  0.00924654, -0.01877113,  0.25288897,\n",
       "        0.20863953,  0.2235134 ,  0.16371568,  0.14645313,  0.24247287])"
      ]
     },
     "execution_count": 27,
     "metadata": {},
     "output_type": "execute_result"
    }
   ],
   "source": [
    "p_2(A_1, b_1, plot=True)"
   ]
  },
  {
   "cell_type": "markdown",
   "metadata": {},
   "source": [
    "### Problem 3"
   ]
  },
  {
   "cell_type": "code",
   "execution_count": 34,
   "metadata": {},
   "outputs": [],
   "source": [
    "def p_3(A, b, tol=1e-8, maxiters = 100, plot=False):\n",
    "    x_k  =  np.zeros(len(b))\n",
    "    dist = 10.0\n",
    "    iters = 0\n",
    "    while dist > tol and iters < maxiters:\n",
    "        for i in range(len(x_k)):\n",
    "            x_old = x_k.copy()\n",
    "            x_k[i] = (1/A[i,i])*(b[i] - (A[i, 0:i-1]*x_k[0:i-1]).sum() - (A[i, i+1:]*x_k[i+1:]).sum())\n",
    "        x_kp1 = x_k.copy()\n",
    "        dist = np.linalg.norm(x_kp1 - x_old)\n",
    "        x_k = x_kp1\n",
    "        if iters == 0:\n",
    "            abserror = np.array([dist])\n",
    "        else:\n",
    "            abserror = np.vstack((abserror, dist))\n",
    "        iters += 1\n",
    "    if plot == True:\n",
    "        dom = np.arange(len(abserror))\n",
    "        plt.plot(dom, abserror)\n",
    "        plt.xlabel('Iteration')\n",
    "        plt.ylabel('Absolute error of approx')\n",
    "        plt.yscale('log')\n",
    "        plt.show()\n",
    "    return x_k"
   ]
  },
  {
   "cell_type": "code",
   "execution_count": 35,
   "metadata": {},
   "outputs": [
    {
     "data": {
      "image/png": "[encoded data removed]",
      "text/plain": [
       "<Figure size 432x288 with 1 Axes>"
      ]
     },
     "metadata": {},
     "output_type": "display_data"
    },
    {
     "data": {
      "text/plain": [
       "array([ 0.79736239,  0.17449306, -0.03741863,  0.01761014,  0.19831707,\n",
       "        0.20119791,  0.15529853,  0.13642974,  0.02366636,  0.22758963])"
      ]
     },
     "execution_count": 35,
     "metadata": {},
     "output_type": "execute_result"
    }
   ],
   "source": [
    "p_3(A_1, b_1, plot=True)"
   ]
  },
  {
   "cell_type": "markdown",
   "metadata": {},
   "source": [
    "### Problem 4"
   ]
  },
  {
   "cell_type": "code",
   "execution_count": 47,
   "metadata": {},
   "outputs": [],
   "source": [
    "def p_4(A, b, tol=1e-8, maxiters = 100):\n",
    "    x_k  =  np.zeros(len(b))\n",
    "    dist = 10.0\n",
    "    iters = 0\n",
    "    while dist > tol and iters < maxiters:\n",
    "        for i in range(len(x_k)):\n",
    "            x_old = x_k.copy()\n",
    "            rowstart = A.indptr[i]\n",
    "            rowend = A.indptr[i+1]\n",
    "            Aix = A.data[rowstart:rowend] @ x_k[A.indices[rowstart:rowend]]\n",
    "            x_k[i] = x_k[i] + (1/A[i,i])*(b[i] - Aix)\n",
    "        x_kp1 = x_k.copy()\n",
    "        dist = np.linalg.norm(x_kp1 - x_old)\n",
    "        x_k = x_kp1\n",
    "        iters += 1\n",
    "    return x_k"
   ]
  },
  {
   "cell_type": "code",
   "execution_count": 43,
   "metadata": {},
   "outputs": [],
   "source": [
    "A_4 = sparse.csr_matrix(diag_dom(5000))\n",
    "b_4 = np.random.random(5000)"
   ]
  },
  {
   "cell_type": "code",
   "execution_count": 48,
   "metadata": {},
   "outputs": [
    {
     "data": {
      "text/plain": [
       "array([0.00464304, 0.00288515, 0.00276371, ..., 0.00756095, 0.00677911,\n",
       "       0.00711984])"
      ]
     },
     "execution_count": 48,
     "metadata": {},
     "output_type": "execute_result"
    }
   ],
   "source": [
    "p_4(A_4, b_4)"
   ]
  },
  {
   "cell_type": "markdown",
   "metadata": {},
   "source": [
    "### Problem 5"
   ]
  },
  {
   "cell_type": "code",
   "execution_count": 136,
   "metadata": {},
   "outputs": [],
   "source": [
    "def p_5(A, b, w, tol=1e-8, maxiters = 100):\n",
    "    x_k  =  np.zeros(len(b))\n",
    "    dist = 10.0\n",
    "    iters = 0\n",
    "    while dist > tol and iters < maxiters:\n",
    "        x_old = x_k.copy()\n",
    "        for i in range(len(x_k)):\n",
    "            rowstart = A.indptr[i]\n",
    "            rowend = A.indptr[i+1]\n",
    "            Aix = A.data[rowstart:rowend] @ x_k[A.indices[rowstart:rowend]]\n",
    "            x_k[i] = x_k[i] + (w/A[i,i])*(b[i] - Aix)\n",
    "        x_kp1 = x_k.copy()\n",
    "        dist = np.linalg.norm(x_kp1 - x_old)\n",
    "        x_k = x_kp1\n",
    "        iters += 1\n",
    "    return x_k, iters"
   ]
  },
  {
   "cell_type": "code",
   "execution_count": 52,
   "metadata": {},
   "outputs": [
    {
     "data": {
      "text/plain": [
       "(array([0.00464304, 0.00288515, 0.00276371, ..., 0.00756095, 0.00677911,\n",
       "        0.00711984]), 7)"
      ]
     },
     "execution_count": 52,
     "metadata": {},
     "output_type": "execute_result"
    }
   ],
   "source": [
    "p_5(A_4, b_4, 1.0)"
   ]
  },
  {
   "cell_type": "code",
   "execution_count": 59,
   "metadata": {},
   "outputs": [
    {
     "data": {
      "text/plain": [
       "(array([0.00464299, 0.00288509, 0.00276371, ..., 0.00756094, 0.00677911,\n",
       "        0.00711984]), 5)"
      ]
     },
     "execution_count": 59,
     "metadata": {},
     "output_type": "execute_result"
    }
   ],
   "source": [
    "p_5(A_4, b_4, 1.03)"
   ]
  },
  {
   "cell_type": "markdown",
   "metadata": {},
   "source": [
    "### Problem 6"
   ]
  },
  {
   "cell_type": "code",
   "execution_count": 159,
   "metadata": {},
   "outputs": [],
   "source": [
    "def p_6(n, w, tol=10e-8, maxiters=100, plot=False):\n",
    "    \n",
    "    #Create B\n",
    "    ones = np.ones(n-1)\n",
    "    fours = -4*np.ones(n)\n",
    "    B = np.diag(fours)\n",
    "    np.fill_diagonal(B[1:], ones)\n",
    "    np.fill_diagonal(B[:, 1:], ones)\n",
    "    \n",
    "    #Create A\n",
    "    I = np.eye(n)\n",
    "    BB = np.eye(n)\n",
    "    II = np.zeros((n, n))\n",
    "    np.fill_diagonal(II[1:], ones)\n",
    "    np.fill_diagonal(II[:, 1:], ones)\n",
    "    A = np.kron(II, I) + np.kron(BB, B)\n",
    "    A_use = sparse.csr_matrix(A)\n",
    "    \n",
    "    #Create b\n",
    "    b_tile = np.zeros(n)\n",
    "    b_tile[0] = -100\n",
    "    b_tile[n-1] = -100\n",
    "    b = np.tile(b_tile, n)\n",
    "    \n",
    "    x_k, iters = p_5(A_use, b, w, tol=tol, maxiters=maxiters)\n",
    "    \n",
    "    if plot == True:\n",
    "        x_grid = np.reshape(x_k, (n,n))\n",
    "        plt.pcolormesh(np.linspace(0, n, n+1), np.linspace(0, n, n+1), x_grid, cmap='coolwarm')\n",
    "        plt.show()\n",
    "        \n",
    "    return iters"
   ]
  },
  {
   "cell_type": "code",
   "execution_count": 163,
   "metadata": {},
   "outputs": [
    {
     "data": {
      "image/png": "[encoded data removed]",
      "text/plain": [
       "<Figure size 432x288 with 1 Axes>"
      ]
     },
     "metadata": {},
     "output_type": "display_data"
    },
    {
     "data": {
      "text/plain": [
       "100"
      ]
     },
     "execution_count": 163,
     "metadata": {},
     "output_type": "execute_result"
    }
   ],
   "source": [
    "p_6(50, 1.0, plot=True)"
   ]
  },
  {
   "cell_type": "code",
   "execution_count": 172,
   "metadata": {},
   "outputs": [
    {
     "data": {
      "image/png": "[encoded data removed]",
      "text/plain": [
       "<Figure size 432x288 with 1 Axes>"
      ]
     },
     "metadata": {},
     "output_type": "display_data"
    },
    {
     "data": {
      "text/plain": [
       "100"
      ]
     },
     "execution_count": 172,
     "metadata": {},
     "output_type": "execute_result"
    }
   ],
   "source": [
    "p_6(10, 1.0, plot=True)"
   ]
  },
  {
   "cell_type": "markdown",
   "metadata": {},
   "source": [
    "### Problem 7"
   ]
  },
  {
   "cell_type": "code",
   "execution_count": 171,
   "metadata": {},
   "outputs": [
    {
     "data": {
      "image/png": "[encoded data removed]",
      "text/plain": [
       "<Figure size 432x288 with 1 Axes>"
      ]
     },
     "metadata": {},
     "output_type": "display_data"
    }
   ],
   "source": [
    "w_7 = np.linspace(1, 1.95, 20)\n",
    "iterations = np.zeros(20)\n",
    "for i in range(20):\n",
    "    iterations[i] = p_6(20, w_7[i], tol=1e-2, maxiters = 1000, plot=False)\n",
    "\n",
    "plt.plot(w_7, iterations)\n",
    "plt.show()"
   ]
  },
  {
   "cell_type": "code",
   "execution_count": null,
   "metadata": {},
   "outputs": [],
   "source": []
  }
 ],
 "metadata": {
  "kernelspec": {
   "display_name": "Python 3",
   "language": "python",
   "name": "python3"
  },
  "language_info": {
   "codemirror_mode": {
    "name": "ipython",
    "version": 3
   },
   "file_extension": ".py",
   "mimetype": "text/x-python",
   "name": "python",
   "nbconvert_exporter": "python",
   "pygments_lexer": "ipython3",
   "version": "3.6.5"
  }
 },
 "nbformat": 4,
 "nbformat_minor": 2
}
