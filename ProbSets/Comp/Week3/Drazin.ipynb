{
 "cells": [
  {
   "cell_type": "markdown",
   "metadata": {},
   "source": [
    "# Drazin inverse"
   ]
  },
  {
   "cell_type": "code",
   "execution_count": 1,
   "metadata": {},
   "outputs": [],
   "source": [
    "import numpy as np\n",
    "from matplotlib import pyplot as plt\n",
    "from scipy import linalg as la"
   ]
  },
  {
   "cell_type": "markdown",
   "metadata": {},
   "source": [
    "### Problem 1"
   ]
  },
  {
   "cell_type": "code",
   "execution_count": 6,
   "metadata": {},
   "outputs": [],
   "source": [
    "def p_1(A, k, A_D):\n",
    "    if (np.allclose((A @ A_D),\n",
    "                    (A_D @ A),\n",
    "                    rtol=1e-05)\n",
    "        and np.allclose((np.linalg.matrix_power(A, k+1) @ A_D),\n",
    "                        (np.linalg.matrix_power(A, k)),\n",
    "                        rtol=1e-05)\n",
    "        and np.allclose((A_D @ A @ A_D),\n",
    "                        (A_D),\n",
    "                        rtol=1e-05)):\n",
    "        \n",
    "        output = True\n",
    "    else:\n",
    "        output = False\n",
    "    print(output)\n",
    "    return\n"
   ]
  },
  {
   "cell_type": "code",
   "execution_count": 8,
   "metadata": {},
   "outputs": [],
   "source": [
    "A = np.array([[1,3,0,0],[0,1,3,0],[0,0,1,3],[0,0,0,0]])\n",
    "A_D = np.array([[1,-3,9,81],[0,1,-3,-18],[0,0,1,3],[0,0,0,0]])\n",
    "k_A=1\n",
    "\n",
    "B = np.array([[1,1,3],[5,2,6],[-2,-1,-3]])\n",
    "B_D = np.zeros((3,3))\n",
    "k_B = 3"
   ]
  },
  {
   "cell_type": "code",
   "execution_count": 7,
   "metadata": {},
   "outputs": [
    {
     "name": "stdout",
     "output_type": "stream",
     "text": [
      "True\n"
     ]
    }
   ],
   "source": [
    "p_1(A, k_A, A_D)"
   ]
  },
  {
   "cell_type": "code",
   "execution_count": 9,
   "metadata": {},
   "outputs": [
    {
     "name": "stdout",
     "output_type": "stream",
     "text": [
      "True\n"
     ]
    }
   ],
   "source": [
    "p_1(B, k_B, B_D)"
   ]
  },
  {
   "cell_type": "markdown",
   "metadata": {},
   "source": [
    "### Problem 2"
   ]
  },
  {
   "cell_type": "code",
   "execution_count": 24,
   "metadata": {},
   "outputs": [],
   "source": [
    "def p_2(A, tol=0.0000000001):\n",
    "    n, n = A.shape\n",
    "    f = lambda x: abs(x) > tol\n",
    "    Q_1, S, k_1 = la.schur(A, sort=f)\n",
    "    g = lambda x: abs(x) < tol\n",
    "    Q_2, T, k_2 = la.schur(A, sort=g)\n",
    "    U = np.column_stack((S[:,:k_1], T[:, :n-k_1]))\n",
    "    U_1 = np.linalg.inv(U)\n",
    "    V = U_1 @ A @ U\n",
    "    Z = np.zeros((n,n), dtype=float)\n",
    "    if k_1 != 0:\n",
    "        M_1 = np.linalg.inv(V[:k_1,:k_1])\n",
    "        Z[:k_1, :k_1] = M_1\n",
    "    return U @ Z @ U_1\n",
    "    "
   ]
  },
  {
   "cell_type": "code",
   "execution_count": 26,
   "metadata": {},
   "outputs": [
    {
     "data": {
      "text/plain": [
       "array([[  1.,  -3.,   9.,  81.],\n",
       "       [  0.,   1.,  -3., -18.],\n",
       "       [  0.,   0.,   1.,   3.],\n",
       "       [  0.,   0.,   0.,   0.]])"
      ]
     },
     "execution_count": 26,
     "metadata": {},
     "output_type": "execute_result"
    }
   ],
   "source": [
    "p2_dinverse = p_2(A)\n",
    "p2_dinverse"
   ]
  },
  {
   "cell_type": "markdown",
   "metadata": {},
   "source": [
    "### Problem 3"
   ]
  },
  {
   "cell_type": "code",
   "execution_count": 60,
   "metadata": {},
   "outputs": [],
   "source": [
    "def p_3(Ad):\n",
    "    n, n = Ad.shape\n",
    "    D = np.sum(Ad, 0)\n",
    "    Deg = np.diag(D)\n",
    "    Lap = Deg - Ad\n",
    "    \n",
    "    R = np.zeros((n,n))\n",
    "    I = np.eye(n)\n",
    "    \n",
    "    for i in range(n):\n",
    "        for j in range(n):\n",
    "            L_j = Lap.copy()\n",
    "            L_j[:, j] = I[:, j]\n",
    "            L_j_d = p_2(L_j)\n",
    "            if j == i:\n",
    "                R[i, j] = 0\n",
    "            else:\n",
    "                R[i, j] = L_j_d[i, i]\n",
    "    return R\n"
   ]
  },
  {
   "cell_type": "code",
   "execution_count": 61,
   "metadata": {},
   "outputs": [
    {
     "data": {
      "text/plain": [
       "array([[0., 1., 2., 3.],\n",
       "       [1., 0., 1., 2.],\n",
       "       [2., 1., 0., 1.],\n",
       "       [3., 2., 1., 0.]])"
      ]
     },
     "execution_count": 61,
     "metadata": {},
     "output_type": "execute_result"
    }
   ],
   "source": [
    "#Testing\n",
    "F1 = np.array([[0, 1, 0, 0], [1, 0, 1, 0], [0, 1, 0, 1], [0, 0, 1, 0]])\n",
    "p_3(F1)\n"
   ]
  },
  {
   "cell_type": "code",
   "execution_count": 62,
   "metadata": {},
   "outputs": [
    {
     "data": {
      "text/plain": [
       "array([[0., 1.],\n",
       "       [1., 0.]])"
      ]
     },
     "execution_count": 62,
     "metadata": {},
     "output_type": "execute_result"
    }
   ],
   "source": [
    "F2 = np.array([[0, 1], [1, 0]])\n",
    "p_3(F2)"
   ]
  },
  {
   "cell_type": "code",
   "execution_count": 63,
   "metadata": {},
   "outputs": [
    {
     "data": {
      "text/plain": [
       "array([[0.        , 0.66666667, 0.66666667],\n",
       "       [0.66666667, 0.        , 0.66666667],\n",
       "       [0.66666667, 0.66666667, 0.        ]])"
      ]
     },
     "execution_count": 63,
     "metadata": {},
     "output_type": "execute_result"
    }
   ],
   "source": [
    "F3 = np.array([[0, 1, 1], [1, 0, 1], [1, 1, 0]])\n",
    "p_3(F3)"
   ]
  },
  {
   "cell_type": "code",
   "execution_count": 65,
   "metadata": {},
   "outputs": [
    {
     "data": {
      "text/plain": [
       "array([[0.        , 0.33333333],\n",
       "       [0.33333333, 0.        ]])"
      ]
     },
     "execution_count": 65,
     "metadata": {},
     "output_type": "execute_result"
    }
   ],
   "source": [
    "F4 = np.array([[0, 3], [3, 0]])\n",
    "p_3(F4)"
   ]
  },
  {
   "cell_type": "code",
   "execution_count": 66,
   "metadata": {},
   "outputs": [
    {
     "data": {
      "text/plain": [
       "array([[0. , 0.5],\n",
       "       [0.5, 0. ]])"
      ]
     },
     "execution_count": 66,
     "metadata": {},
     "output_type": "execute_result"
    }
   ],
   "source": [
    "F5 = np.array([[0,2],[2,0]])\n",
    "p_3(F5)"
   ]
  },
  {
   "cell_type": "code",
   "execution_count": 67,
   "metadata": {},
   "outputs": [
    {
     "data": {
      "text/plain": [
       "array([[0.  , 0.25],\n",
       "       [0.25, 0.  ]])"
      ]
     },
     "execution_count": 67,
     "metadata": {},
     "output_type": "execute_result"
    }
   ],
   "source": [
    "F6 = np.array([[0,4],[4,0]])\n",
    "p_3(F6)"
   ]
  },
  {
   "cell_type": "markdown",
   "metadata": {},
   "source": [
    "### Problem 4 and 5"
   ]
  },
  {
   "cell_type": "code",
   "execution_count": 79,
   "metadata": {},
   "outputs": [],
   "source": [
    "import pandas as pd"
   ]
  },
  {
   "cell_type": "code",
   "execution_count": 175,
   "metadata": {},
   "outputs": [],
   "source": [
    "class LinkPredictor(object):\n",
    "    \n",
    "    def __init__(self, filename):\n",
    "        data = pd.read_csv(filename, header=None)\n",
    "        self.names = np.unique(np.concatenate((data[0], data[1])))\n",
    "        \n",
    "        n = len(self.names)\n",
    "        self.Adj = np.zeros((n,n))\n",
    "        for i in range(n):\n",
    "            for j in range(n):\n",
    "                self.Adj[i,j] = (data[0][((data[0]==self.names[i])\n",
    "                                       & (data[1]==self.names[j]))].count() +\n",
    "                                 data[1][((data[1]==self.names[i])\n",
    "                                        & (data[0]==self.names[j]))].count())\n",
    "        \n",
    "        self.R = p_3(self.Adj)\n",
    "        \n",
    "    def predict_link(self, node):\n",
    "        cmat = self.R * (1 - self.Adj) #zero out connected nodes\n",
    "        if node == None:\n",
    "            min_res = np.min(cmat[cmat>0])\n",
    "            loc = np.where(cmat == min_res)\n",
    "            Y = (self.names[loc[0]], self.names[loc[1]])\n",
    "        elif type(node) == str:\n",
    "            index = np.where(self.names == node)\n",
    "            col = cmat[:,index]\n",
    "            min_res = np.min(col[col > 0])\n",
    "            loc = np.where(col == min_res)\n",
    "            Y = (self.names[loc[0]])\n",
    "        print(Y)\n",
    "        return\n",
    "        \n",
    "    def add_link(self, node1, node2):\n",
    "        loc1 = np.where(self.names==node1)\n",
    "        loc2 = np.where(self.names==node2)\n",
    "        self.Adj[loc1, loc2] = 1\n",
    "        self.Adj[loc2, loc1] = 1\n",
    "        return"
   ]
  },
  {
   "cell_type": "code",
   "execution_count": 153,
   "metadata": {},
   "outputs": [
    {
     "data": {
      "text/plain": [
       "'Alan'"
      ]
     },
     "execution_count": 153,
     "metadata": {},
     "output_type": "execute_result"
    }
   ],
   "source": [
    "data = pd.read_csv('social_network.csv', header=None)\n",
    "names = np.unique(np.concatenate((data[0], data[1])))\n",
    "#data[0][data[0] == names[23]].count()\n",
    "names[1]"
   ]
  },
  {
   "cell_type": "code",
   "execution_count": 170,
   "metadata": {},
   "outputs": [
    {
     "data": {
      "text/plain": [
       "(array(['Emily'], dtype=object), array(['Oliver'], dtype=object))"
      ]
     },
     "execution_count": 170,
     "metadata": {},
     "output_type": "execute_result"
    }
   ],
   "source": [
    "test_1 = LinkPredictor('social_network.csv')\n",
    "test.predict_link(node=None)\n"
   ]
  },
  {
   "cell_type": "code",
   "execution_count": 171,
   "metadata": {},
   "outputs": [
    {
     "data": {
      "text/plain": [
       "array(['Carol'], dtype=object)"
      ]
     },
     "execution_count": 171,
     "metadata": {},
     "output_type": "execute_result"
    }
   ],
   "source": [
    "test.predict_link(node='Melanie')"
   ]
  },
  {
   "cell_type": "code",
   "execution_count": 173,
   "metadata": {},
   "outputs": [
    {
     "data": {
      "text/plain": [
       "array(['Sonia'], dtype=object)"
      ]
     },
     "execution_count": 173,
     "metadata": {},
     "output_type": "execute_result"
    }
   ],
   "source": [
    "test.predict_link(node='Alan')"
   ]
  },
  {
   "cell_type": "code",
   "execution_count": 176,
   "metadata": {},
   "outputs": [
    {
     "name": "stdout",
     "output_type": "stream",
     "text": [
      "['Piers']\n"
     ]
    }
   ],
   "source": [
    "test = LinkPredictor('social_network.csv')\n",
    "test.add_link('Sonia', 'Alan')\n",
    "test.predict_link('Alan')"
   ]
  }
 ],
 "metadata": {
  "kernelspec": {
   "display_name": "Python 3",
   "language": "python",
   "name": "python3"
  },
  "language_info": {
   "codemirror_mode": {
    "name": "ipython",
    "version": 3
   },
   "file_extension": ".py",
   "mimetype": "text/x-python",
   "name": "python",
   "nbconvert_exporter": "python",
   "pygments_lexer": "ipython3",
   "version": "3.6.5"
  }
 },
 "nbformat": 4,
 "nbformat_minor": 2
}
