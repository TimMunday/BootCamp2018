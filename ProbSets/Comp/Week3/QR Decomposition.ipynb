{
 "cells": [
  {
   "cell_type": "markdown",
   "metadata": {},
   "source": [
    "# QR Decomposition"
   ]
  },
  {
   "cell_type": "markdown",
   "metadata": {},
   "source": [
    "## Problem 1"
   ]
  },
  {
   "cell_type": "code",
   "execution_count": 1,
   "metadata": {},
   "outputs": [],
   "source": [
    "import numpy as np\n",
    "import pandas as pd\n",
    "from matplotlib import pyplot as plt\n",
    "from scipy import linalg as la"
   ]
  },
  {
   "cell_type": "code",
   "execution_count": 38,
   "metadata": {},
   "outputs": [],
   "source": [
    "def p_1(A):\n",
    "    dim = np.shape(A) \n",
    "    Q = np.copy(A)\n",
    "    m = dim[0]\n",
    "    n = dim[1]\n",
    "    R = np.zeros((n, n))\n",
    "    for i in range(n):\n",
    "        R[i,i] = la.norm(Q[:,i])\n",
    "        temp = Q[:, i]/R[i,i]\n",
    "        Q[:, i] = temp\n",
    "        for j in range(i+1, n):\n",
    "            R[i, j] = np.matmul(np.transpose(Q[:,j]), Q[:,i])\n",
    "            Q[:, j] = Q[:, j] - R[i, j]*Q[:, i]\n",
    "    return Q, R"
   ]
  },
  {
   "cell_type": "markdown",
   "metadata": {},
   "source": [
    "## Problem  2"
   ]
  },
  {
   "cell_type": "code",
   "execution_count": 40,
   "metadata": {},
   "outputs": [],
   "source": [
    "def p_2(A):\n",
    "    decomp = p_1(A)\n",
    "    diag = np.diag(decomp[1])\n",
    "    diag_abs = np.absolute(diag)\n",
    "    moddet = np.prod(diag_abs)\n",
    "    return moddet    "
   ]
  },
  {
   "cell_type": "markdown",
   "metadata": {},
   "source": [
    "## Problem 3"
   ]
  },
  {
   "cell_type": "code",
   "execution_count": 64,
   "metadata": {},
   "outputs": [],
   "source": [
    "def p_3(A, b):\n",
    "    decomp = p_1(A)\n",
    "    n = len(A)\n",
    "    x = np.zeros_like(b)\n",
    "    Q = decomp[0]\n",
    "    R = decomp[1]\n",
    "    y = np.matmul(np.transpose(Q), b)\n",
    "    for i in range(n-1, -1, -1):\n",
    "        temp = 0\n",
    "        for j in range(i+1, n):\n",
    "            temp += R[i,j]*x[j]\n",
    "        x[i] = (y[i] - temp)/R[i,i]\n",
    "    return x"
   ]
  },
  {
   "cell_type": "markdown",
   "metadata": {},
   "source": [
    "## Problem 4"
   ]
  },
  {
   "cell_type": "code",
   "execution_count": 1,
   "metadata": {},
   "outputs": [],
   "source": [
    "sign = lambda x: 1 if x >= 0 else -1\n",
    "\n",
    "def p_4(A):\n",
    "    R = A.copy()\n",
    "    Q = np.eye(m)\n",
    "    for k in range(n):\n",
    "        u = R[k:, k].copy()\n",
    "        u[0] = u[0] + sign(u[0]) * la.norm(u)\n",
    "        u = u / la.norm(u)\n",
    "        R[k:, k:] = R[k:, k:] - 2 * np.outer(u, u.T @ R[k:, k:])\n",
    "        Q[k:, :] = Q[k:, :] - 2 * np.outer(u, u.T @ Q[k:, :])\n",
    "    return Q.T, R"
   ]
  },
  {
   "cell_type": "markdown",
   "metadata": {},
   "source": [
    "## Problem 5"
   ]
  },
  {
   "cell_type": "code",
   "execution_count": 2,
   "metadata": {},
   "outputs": [],
   "source": [
    "def p_5(A):\n",
    "    m, n = A.shape\n",
    "    H = A.copy()\n",
    "    Q = np.eye(m)\n",
    "    for k in range(n - 2):\n",
    "        u = H[k+1:, k].copy()\n",
    "        u[0] = u[0] + sign(u[0]) * la.norm(u)\n",
    "        u = u / la.norm(u)\n",
    "        H[k+1:, k:] = H[k+1:, k:] - 2 * np.outer(u, u.T @ H[k+1:, k:])\n",
    "        H[:, k+1:] = H[:, k+1:] - 2 * np.outer(H[:, k+1:] @ u, u.T)\n",
    "        Q[k+1:, :] = Q[k+1:, :] - 2 * np.outer(u, u.T @ Q[k+1:, :])\n",
    "    return H, Q.T"
   ]
  }
 ],
 "metadata": {
  "kernelspec": {
   "display_name": "Python 3",
   "language": "python",
   "name": "python3"
  },
  "language_info": {
   "codemirror_mode": {
    "name": "ipython",
    "version": 3
   },
   "file_extension": ".py",
   "mimetype": "text/x-python",
   "name": "python",
   "nbconvert_exporter": "python",
   "pygments_lexer": "ipython3",
   "version": "3.6.5"
  }
 },
 "nbformat": 4,
 "nbformat_minor": 2
}
