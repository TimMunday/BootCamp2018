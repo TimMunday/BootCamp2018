{
 "cells": [
  {
   "cell_type": "markdown",
   "metadata": {},
   "source": [
    "# SVD"
   ]
  },
  {
   "cell_type": "code",
   "execution_count": 1,
   "metadata": {},
   "outputs": [],
   "source": [
    "import numpy as np\n",
    "from matplotlib import pyplot as plt\n",
    "from scipy import linalg as la"
   ]
  },
  {
   "cell_type": "markdown",
   "metadata": {},
   "source": [
    "### Problem 1"
   ]
  },
  {
   "cell_type": "code",
   "execution_count": 77,
   "metadata": {},
   "outputs": [],
   "source": [
    "def p_1(A, tol=0.00001):\n",
    "    herm = A.conj().T\n",
    "    eigs, vecs = la.eig(herm @ A) #find eigenvalues and vectors\n",
    "    \n",
    "    sigma =  np.sqrt(eigs).real #calc singular values\n",
    "    place = np.argsort(-sigma) #find places to sort singular values\n",
    "    sigma =  sigma[place] #sort singular values\n",
    "    vecs = vecs[place, :]\n",
    "    r = (sigma > tol).sum()\n",
    "    sigma_1 = sigma[0:r]\n",
    "    vecs_1 = vecs[:, 0:r]\n",
    "    u_1 = A @ vecs_1 / sigma_1\n",
    "    return u_1, sigma_1, vecs_1.conj().T\n"
   ]
  },
  {
   "cell_type": "code",
   "execution_count": 79,
   "metadata": {},
   "outputs": [
    {
     "name": "stdout",
     "output_type": "stream",
     "text": [
      "[1.84427136 0.50732451 0.03538984]\n",
      "[1.84427136 0.50732451 0.03538984]\n"
     ]
    }
   ],
   "source": [
    "A = np.random.random((3, 3))\n",
    "U, s, Vh = la.svd(A, full_matrices=False)\n",
    "myu, mys, myV = p_1(A)\n",
    "print(mys)\n",
    "print(s)"
   ]
  },
  {
   "cell_type": "markdown",
   "metadata": {},
   "source": [
    "### Problem 2"
   ]
  },
  {
   "cell_type": "code",
   "execution_count": null,
   "metadata": {},
   "outputs": [],
   "source": []
  },
  {
   "cell_type": "code",
   "execution_count": 4,
   "metadata": {},
   "outputs": [
    {
     "data": {
      "text/plain": [
       "array([[1.41421356],\n",
       "       [2.        ],\n",
       "       [3.        ]])"
      ]
     },
     "execution_count": 4,
     "metadata": {},
     "output_type": "execute_result"
    }
   ],
   "source": [
    "test = np.array([[2], [4], [9]])\n",
    "np.sqrt(test)"
   ]
  },
  {
   "cell_type": "code",
   "execution_count": 45,
   "metadata": {},
   "outputs": [],
   "source": [
    "A = np.random.random((2,2))\n",
    "eigs, vecs = la.eig(A)\n",
    "#loc=np.argmax(eigs)\n",
    "#lamb, x = eigs[loc], vecs[:, loc]\n",
    "c = eigs"
   ]
  },
  {
   "cell_type": "code",
   "execution_count": 51,
   "metadata": {},
   "outputs": [
    {
     "data": {
      "text/plain": [
       "array([ 1.04944183+0.j, -0.44580731+0.j])"
      ]
     },
     "execution_count": 51,
     "metadata": {},
     "output_type": "execute_result"
    }
   ],
   "source": [
    "c[0:2]"
   ]
  },
  {
   "cell_type": "code",
   "execution_count": 18,
   "metadata": {},
   "outputs": [
    {
     "data": {
      "text/plain": [
       "array([[ 0.65817978,  0.65818877],\n",
       "       [ 0.7528608 , -0.75285293]])"
      ]
     },
     "execution_count": 18,
     "metadata": {},
     "output_type": "execute_result"
    }
   ],
   "source": [
    "b = vecs[(1, 0), :]\n",
    "b"
   ]
  },
  {
   "cell_type": "code",
   "execution_count": 38,
   "metadata": {},
   "outputs": [
    {
     "data": {
      "text/plain": [
       "array([[2, 3]])"
      ]
     },
     "execution_count": 38,
     "metadata": {},
     "output_type": "execute_result"
    }
   ],
   "source": [
    "c = np.array([[2, 3, 4]])\n",
    "d = c[:,0:2]\n",
    "d"
   ]
  }
 ],
 "metadata": {
  "kernelspec": {
   "display_name": "Python 3",
   "language": "python",
   "name": "python3"
  },
  "language_info": {
   "codemirror_mode": {
    "name": "ipython",
    "version": 3
   },
   "file_extension": ".py",
   "mimetype": "text/x-python",
   "name": "python",
   "nbconvert_exporter": "python",
   "pygments_lexer": "ipython3",
   "version": "3.6.5"
  }
 },
 "nbformat": 4,
 "nbformat_minor": 2
}
