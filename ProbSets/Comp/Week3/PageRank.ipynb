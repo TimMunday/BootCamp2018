{
 "cells": [
  {
   "cell_type": "markdown",
   "metadata": {},
   "source": [
    "# PageRank"
   ]
  },
  {
   "cell_type": "code",
   "execution_count": 52,
   "metadata": {},
   "outputs": [],
   "source": [
    "import numpy as np\n",
    "import pandas as pd\n",
    "from matplotlib import pyplot as plt\n",
    "from scipy import linalg as la\n",
    "from scipy import sparse as spa"
   ]
  },
  {
   "cell_type": "markdown",
   "metadata": {},
   "source": [
    "### Problem 1"
   ]
  },
  {
   "cell_type": "code",
   "execution_count": 53,
   "metadata": {},
   "outputs": [],
   "source": [
    "A = np.array([[ 0, 0, 0, 0, 0, 0, 0, 1],\n",
    "              [ 1, 0, 0, 0, 0, 0, 0, 0],\n",
    "              [ 0, 0, 0, 0, 0, 0, 0, 0],\n",
    "              [ 1, 0, 1, 0, 0, 0, 1, 0],\n",
    "              [ 1, 0, 0, 0, 0, 1, 1, 0],\n",
    "              [ 1, 0, 0, 0, 0, 0, 1, 0],\n",
    "              [ 1, 0, 0, 0, 0, 0, 0, 0],\n",
    "              [ 1, 0, 0, 0, 0, 0, 0, 0]])"
   ]
  },
  {
   "cell_type": "code",
   "execution_count": 50,
   "metadata": {},
   "outputs": [],
   "source": [
    "def p_1(filename, N):\n",
    "    rawdata = pd.read_csv(filename, delimiter='\\t')\n",
    "    Adj = np.zeros((N,N))\n",
    "    for i in range(N):\n",
    "        for j in range(N):\n",
    "            Adj[i,j] = (rawdata['From Node'][((rawdata['From Node'] == i)\n",
    "                                              & (rawdata['To Node'] == j))].count())\n",
    "    return Adj"
   ]
  },
  {
   "cell_type": "code",
   "execution_count": 48,
   "metadata": {},
   "outputs": [
    {
     "data": {
      "text/plain": [
       "array([[0., 0., 0., 0., 0., 0., 0., 1.],\n",
       "       [1., 0., 0., 0., 0., 0., 0., 0.],\n",
       "       [0., 0., 0., 0., 0., 0., 0., 0.],\n",
       "       [1., 0., 1., 0., 0., 0., 1., 0.],\n",
       "       [1., 0., 0., 0., 0., 1., 1., 0.],\n",
       "       [1., 0., 0., 0., 0., 0., 1., 0.],\n",
       "       [1., 0., 0., 0., 0., 0., 0., 0.],\n",
       "       [1., 0., 0., 0., 0., 0., 0., 0.]])"
      ]
     },
     "execution_count": 48,
     "metadata": {},
     "output_type": "execute_result"
    }
   ],
   "source": [
    "adj_1 = p_1('matrix.txt', N=8)\n",
    "adj_1"
   ]
  },
  {
   "cell_type": "markdown",
   "metadata": {},
   "source": [
    "### Problem 2"
   ]
  },
  {
   "cell_type": "code",
   "execution_count": 97,
   "metadata": {},
   "outputs": [],
   "source": [
    "def p_2(A):\n",
    "    n, n = A.shape\n",
    "    ones = np.ones((n, n))\n",
    "    D = np.empty((n,1)) #note D is a column vector\n",
    "    for i in range(n):\n",
    "        if A[i, :].sum() == 0:\n",
    "            A[i, :] = ones[i, :]\n",
    "        D[i,0] = A[i, :].sum()\n",
    "    temp = A/D\n",
    "    K = temp.T\n",
    "    return K, D"
   ]
  },
  {
   "cell_type": "code",
   "execution_count": 64,
   "metadata": {},
   "outputs": [
    {
     "name": "stdout",
     "output_type": "stream",
     "text": [
      "[[0.         1.         0.125      0.33333333 0.33333333 0.5\n",
      "  1.         1.        ]\n",
      " [0.         0.         0.125      0.         0.         0.\n",
      "  0.         0.        ]\n",
      " [0.         0.         0.125      0.33333333 0.         0.\n",
      "  0.         0.        ]\n",
      " [0.         0.         0.125      0.         0.         0.\n",
      "  0.         0.        ]\n",
      " [0.         0.         0.125      0.         0.         0.\n",
      "  0.         0.        ]\n",
      " [0.         0.         0.125      0.         0.33333333 0.\n",
      "  0.         0.        ]\n",
      " [0.         0.         0.125      0.33333333 0.33333333 0.5\n",
      "  0.         0.        ]\n",
      " [1.         0.         0.125      0.         0.         0.\n",
      "  0.         0.        ]]\n"
     ]
    }
   ],
   "source": [
    "K = p_2(A)\n",
    "print(K)"
   ]
  },
  {
   "cell_type": "markdown",
   "metadata": {},
   "source": [
    "### Problem 3"
   ]
  },
  {
   "cell_type": "code",
   "execution_count": 98,
   "metadata": {},
   "outputs": [],
   "source": [
    "def p_3(A, N = None, d=0.85, tol=1e-5):\n",
    "    \n",
    "    if N == None:\n",
    "        n,n = A.shape \n",
    "    if N != None:\n",
    "        n = N\n",
    "    \n",
    "    p = np.random.rand(n)\n",
    "    p = p/p.sum() #make probabilities sum to one for initial guess\n",
    "    \n",
    "    diff = 98.2\n",
    "    maxiters =  500\n",
    "    iters = 0\n",
    "    \n",
    "    K, D = p_2(A[0:n, 0:n])\n",
    "    while diff > tol and iters < maxiters:\n",
    "        p_1 = d*(K @ p) + (1-d)/n\n",
    "        diff = np.sqrt(np.inner((p_1 - p), (p_1 - p)))\n",
    "        p = p_1\n",
    "        iters += 1\n",
    "\n",
    "    return p"
   ]
  },
  {
   "cell_type": "code",
   "execution_count": 99,
   "metadata": {},
   "outputs": [
    {
     "data": {
      "text/plain": [
       "array([0.43868972, 0.02171029, 0.02786154, 0.02171029, 0.02171029,\n",
       "       0.02786154, 0.04585394, 0.3946024 ])"
      ]
     },
     "execution_count": 99,
     "metadata": {},
     "output_type": "execute_result"
    }
   ],
   "source": [
    "p_3(A, N=8)"
   ]
  },
  {
   "cell_type": "markdown",
   "metadata": {},
   "source": [
    "### Problem 4"
   ]
  },
  {
   "cell_type": "code",
   "execution_count": 157,
   "metadata": {},
   "outputs": [],
   "source": [
    "def p_4(A, N=None, d=0.85):\n",
    "    \n",
    "    if N == None:\n",
    "        n,n = A.shape \n",
    "    if N != None:\n",
    "        n = N\n",
    "        \n",
    "    K, D = p_2(A)\n",
    "    E = np.ones((n,n))\n",
    "    B = d*K + ((1-d)/n)*E\n",
    "    \n",
    "    eigs, vecs = np.linalg.eig(B)\n",
    "    \n",
    "    loc = np.where((eigs-1)**2 < 1e-8)\n",
    "    temp = np.abs(vecs[loc]) #make sure all are positive\n",
    "    sol = temp / temp.sum()\n",
    "    \n",
    "    return loc, sol, vecs, eigs, B"
   ]
  },
  {
   "cell_type": "code",
   "execution_count": 159,
   "metadata": {},
   "outputs": [
    {
     "data": {
      "text/plain": [
       "1.0"
      ]
     },
     "execution_count": 159,
     "metadata": {},
     "output_type": "execute_result"
    }
   ],
   "source": [
    "loc, sol, vecs, eigs, B = p_4(A) # check w/ someone"
   ]
  },
  {
   "cell_type": "markdown",
   "metadata": {},
   "source": [
    "### Problem 5"
   ]
  },
  {
   "cell_type": "code",
   "execution_count": 236,
   "metadata": {},
   "outputs": [],
   "source": [
    "from numba import vectorize, jit, njit, float64, prange\n",
    "rawdata = pd.read_csv('ncaa2013.csv',header=0)\n",
    "rawdatanp = rawdata.values #convert pandas to numpy array so we can use jit"
   ]
  },
  {
   "cell_type": "code",
   "execution_count": 288,
   "metadata": {},
   "outputs": [],
   "source": [
    "q, m = rawdatanp.shape #q is length, m is width\n",
    "names = np.unique(np.concatenate((rawdatanp[:,0], rawdatanp[:,1])))\n",
    "n = len(names)\n",
    "Adj = np.zeros((n,n))"
   ]
  },
  {
   "cell_type": "code",
   "execution_count": 304,
   "metadata": {},
   "outputs": [],
   "source": [
    "def filladj_1(Adj, q, names, rawdatanp):\n",
    "    for i in range(q):\n",
    "        loc1 = np.where(names[names == rawdatanp[i,0]] == names)\n",
    "        loc2 = np.where(names[names == rawdatanp[i,1]] == names)\n",
    "        Adj[loc2, loc1] = 1\n",
    "    return Adj"
   ]
  },
  {
   "cell_type": "code",
   "execution_count": 307,
   "metadata": {},
   "outputs": [],
   "source": [
    "filledad = filladj_1(Adj, q, names, rawdatanp)"
   ]
  },
  {
   "cell_type": "code",
   "execution_count": 308,
   "metadata": {},
   "outputs": [
    {
     "data": {
      "text/plain": [
       "11.0"
      ]
     },
     "execution_count": 308,
     "metadata": {},
     "output_type": "execute_result"
    }
   ],
   "source": [
    "filledad[0].sum()"
   ]
  },
  {
   "cell_type": "code",
   "execution_count": 311,
   "metadata": {},
   "outputs": [
    {
     "data": {
      "text/plain": [
       "1.0"
      ]
     },
     "execution_count": 311,
     "metadata": {},
     "output_type": "execute_result"
    }
   ],
   "source": [
    "probs = p_3(filledad, d=0.7)\n",
    "probs.sum()"
   ]
  },
  {
   "cell_type": "code",
   "execution_count": 312,
   "metadata": {},
   "outputs": [
    {
     "data": {
      "text/plain": [
       "['Duke', 'Butler', 'Louisville', 'Illinois', 'Indiana']"
      ]
     },
     "execution_count": 312,
     "metadata": {},
     "output_type": "execute_result"
    }
   ],
   "source": [
    "rank_id = probs.argsort()[-5:][::-1]  # Top 5 teams\n",
    "\n",
    "list(names[rank_id])"
   ]
  }
 ],
 "metadata": {
  "kernelspec": {
   "display_name": "Python 3",
   "language": "python",
   "name": "python3"
  },
  "language_info": {
   "codemirror_mode": {
    "name": "ipython",
    "version": 3
   },
   "file_extension": ".py",
   "mimetype": "text/x-python",
   "name": "python",
   "nbconvert_exporter": "python",
   "pygments_lexer": "ipython3",
   "version": "3.6.5"
  }
 },
 "nbformat": 4,
 "nbformat_minor": 2
}
