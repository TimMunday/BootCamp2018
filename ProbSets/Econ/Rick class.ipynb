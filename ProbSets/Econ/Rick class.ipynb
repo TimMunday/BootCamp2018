{
 "cells": [
  {
   "cell_type": "code",
   "execution_count": 1,
   "metadata": {},
   "outputs": [],
   "source": [
    "import numpy as np\n",
    "\n",
    "# set paramters\n",
    "beta = 0.96**(20)\n",
    "sigma = 2.2\n",
    "n_vec = np.array([1.0, 1.0, 0.2])\n",
    "alpha = 0.35\n",
    "A = 1.0\n",
    "delta = 1 - (1-0.05)**(20)\n",
    "T = 50\n",
    "path_toler = 1e-9\n",
    "xi = 0.2 #paramter for convex combo of Kpath and Kpath prime\n"
   ]
  },
  {
   "cell_type": "code",
   "execution_count": null,
   "metadata": {},
   "outputs": [],
   "source": [
    "# solve for the steady state (done in previous part)\n",
    "b2bar, b3bar = get_ss()"
   ]
  },
  {
   "cell_type": "code",
   "execution_count": null,
   "metadata": {},
   "outputs": [],
   "source": [
    "#set initial contions\n",
    "\n",
    "b21 = 0.8*b2bar\n",
    "b31 = 1.1*b3bar\n",
    "\n",
    "#Guess path for K\n",
    "K1 = b21 +b31\n",
    "Kbar = b2bar + b3bar\n",
    "Kpath = np.linspace(K1, Kbar, T)\n",
    "\n",
    "#create the rpaths  and wpaths\n"
   ]
  },
  {
   "cell_type": "code",
   "execution_count": null,
   "metadata": {},
   "outputs": [],
   "source": [
    "#Write a function that will solve for one individuals lifetime decisions, given some guess at the path of K\n",
    "\n",
    "def get_a_life(b2, rpath, wpath, nvec, beta, sigma)\n",
    "#this will give us b3,2. i.e. just one thing to return.\n",
    "#returns b3\n",
    "\n",
    "\n",
    "def get_some_lives(b1, rpath, wpath, beta, sigma, nvec):\n",
    "    #needs paths of 2 interest rates, 3 wages and initial wealth\n",
    "    #calls some optimiser\n",
    "    #returns b2, b3\n",
    "    \n",
    "#Now we need to write a loop that will go through the above equations to give us an entire timepath of  b's given some guess at path of K\n",
    "\n"
   ]
  },
  {
   "cell_type": "code",
   "execution_count": null,
   "metadata": {},
   "outputs": [],
   "source": [
    "bmat = np.zeros((T+1, 2)) #intialise matrix to store b's\n",
    "diag_mask = np.eye(2, dytpe = bool)\n",
    "for t in range(T+1):\n",
    "    #solve for b2 and b3\n",
    "\n",
    "kpathprime = bmat[:-1].sum(axis=1) #sum from first element to second to last element\n",
    "\n",
    "dist = ((kpath_rime - kapth)**2).sum()\n",
    "\n",
    "kpathnew = xi * kpathprime + (1-xi)*kpath\n",
    "\n",
    "#then puut the above in a while loop that says\n",
    "#while dist < tol and iters < maxiters, keep going."
   ]
  }
 ],
 "metadata": {
  "kernelspec": {
   "display_name": "Python 3",
   "language": "python",
   "name": "python3"
  },
  "language_info": {
   "codemirror_mode": {
    "name": "ipython",
    "version": 3
   },
   "file_extension": ".py",
   "mimetype": "text/x-python",
   "name": "python",
   "nbconvert_exporter": "python",
   "pygments_lexer": "ipython3",
   "version": "3.6.5"
  }
 },
 "nbformat": 4,
 "nbformat_minor": 2
}
