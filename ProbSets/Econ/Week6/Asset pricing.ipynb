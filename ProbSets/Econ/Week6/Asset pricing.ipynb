{
 "cells": [
  {
   "cell_type": "markdown",
   "metadata": {},
   "source": [
    "# Asset Pricing"
   ]
  },
  {
   "cell_type": "code",
   "execution_count": 1,
   "metadata": {},
   "outputs": [],
   "source": [
    "import pandas as pd\n",
    "import numpy as np\n",
    "import pandas_datareader.data as web\n",
    "import matplotlib.pyplot as plt\n",
    "import datetime\n",
    "from scipy.optimize import fsolve\n",
    "from scipy.optimize import broyden1\n",
    "from scipy.optimize import minimize\n",
    "from scipy import optimize as opt\n",
    "import math\n",
    "import scipy\n",
    "plt.style.use('seaborn-darkgrid')\n",
    "palette = plt.get_cmap('Dark2')\n",
    "from scipy import stats\n",
    "import sympy as sy\n",
    "import pickle"
   ]
  },
  {
   "cell_type": "markdown",
   "metadata": {},
   "source": [
    "### Problem 1"
   ]
  },
  {
   "cell_type": "code",
   "execution_count": 2,
   "metadata": {},
   "outputs": [
    {
     "data": {
      "text/html": [
       "<div>\n",
       "<style scoped>\n",
       "    .dataframe tbody tr th:only-of-type {\n",
       "        vertical-align: middle;\n",
       "    }\n",
       "\n",
       "    .dataframe tbody tr th {\n",
       "        vertical-align: top;\n",
       "    }\n",
       "\n",
       "    .dataframe thead th {\n",
       "        text-align: right;\n",
       "    }\n",
       "</style>\n",
       "<table border=\"1\" class=\"dataframe\">\n",
       "  <thead>\n",
       "    <tr style=\"text-align: right;\">\n",
       "      <th></th>\n",
       "      <th>rpce</th>\n",
       "      <th>w5000</th>\n",
       "      <th>tb</th>\n",
       "      <th>gdef</th>\n",
       "      <th>inf</th>\n",
       "      <th>R_nom</th>\n",
       "      <th>R</th>\n",
       "      <th>rpce_1</th>\n",
       "    </tr>\n",
       "    <tr>\n",
       "      <th>DATE</th>\n",
       "      <th></th>\n",
       "      <th></th>\n",
       "      <th></th>\n",
       "      <th></th>\n",
       "      <th></th>\n",
       "      <th></th>\n",
       "      <th></th>\n",
       "      <th></th>\n",
       "    </tr>\n",
       "  </thead>\n",
       "  <tbody>\n",
       "    <tr>\n",
       "      <th>1971-01-01</th>\n",
       "      <td>3156.978</td>\n",
       "      <td>1.00</td>\n",
       "      <td>1.0444</td>\n",
       "      <td>22.391</td>\n",
       "      <td>1.015189</td>\n",
       "      <td>1.120000</td>\n",
       "      <td>1.103243</td>\n",
       "      <td>3185.993</td>\n",
       "    </tr>\n",
       "    <tr>\n",
       "      <th>1971-04-01</th>\n",
       "      <td>3185.993</td>\n",
       "      <td>1.12</td>\n",
       "      <td>1.0386</td>\n",
       "      <td>22.685</td>\n",
       "      <td>1.013130</td>\n",
       "      <td>1.008929</td>\n",
       "      <td>0.995853</td>\n",
       "      <td>3211.394</td>\n",
       "    </tr>\n",
       "    <tr>\n",
       "      <th>1971-07-01</th>\n",
       "      <td>3211.394</td>\n",
       "      <td>1.13</td>\n",
       "      <td>1.0540</td>\n",
       "      <td>22.916</td>\n",
       "      <td>1.010183</td>\n",
       "      <td>0.991150</td>\n",
       "      <td>0.981159</td>\n",
       "      <td>3264.679</td>\n",
       "    </tr>\n",
       "    <tr>\n",
       "      <th>1971-10-01</th>\n",
       "      <td>3264.679</td>\n",
       "      <td>1.12</td>\n",
       "      <td>1.0446</td>\n",
       "      <td>23.107</td>\n",
       "      <td>1.008335</td>\n",
       "      <td>1.053571</td>\n",
       "      <td>1.044863</td>\n",
       "      <td>3307.767</td>\n",
       "    </tr>\n",
       "    <tr>\n",
       "      <th>1972-01-01</th>\n",
       "      <td>3307.767</td>\n",
       "      <td>1.18</td>\n",
       "      <td>1.0338</td>\n",
       "      <td>23.458</td>\n",
       "      <td>1.015190</td>\n",
       "      <td>1.067797</td>\n",
       "      <td>1.051819</td>\n",
       "      <td>3370.736</td>\n",
       "    </tr>\n",
       "    <tr>\n",
       "      <th>1972-04-01</th>\n",
       "      <td>3370.736</td>\n",
       "      <td>1.26</td>\n",
       "      <td>1.0371</td>\n",
       "      <td>23.604</td>\n",
       "      <td>1.006224</td>\n",
       "      <td>1.007937</td>\n",
       "      <td>1.001702</td>\n",
       "      <td>3422.682</td>\n",
       "    </tr>\n",
       "    <tr>\n",
       "      <th>1972-07-01</th>\n",
       "      <td>3422.682</td>\n",
       "      <td>1.27</td>\n",
       "      <td>1.0398</td>\n",
       "      <td>23.830</td>\n",
       "      <td>1.009575</td>\n",
       "      <td>1.023622</td>\n",
       "      <td>1.013914</td>\n",
       "      <td>3503.001</td>\n",
       "    </tr>\n",
       "    <tr>\n",
       "      <th>1972-10-01</th>\n",
       "      <td>3503.001</td>\n",
       "      <td>1.30</td>\n",
       "      <td>1.0474</td>\n",
       "      <td>24.134</td>\n",
       "      <td>1.012757</td>\n",
       "      <td>1.069231</td>\n",
       "      <td>1.055762</td>\n",
       "      <td>3566.957</td>\n",
       "    </tr>\n",
       "    <tr>\n",
       "      <th>1973-01-01</th>\n",
       "      <td>3566.957</td>\n",
       "      <td>1.39</td>\n",
       "      <td>1.0541</td>\n",
       "      <td>24.412</td>\n",
       "      <td>1.011519</td>\n",
       "      <td>0.920863</td>\n",
       "      <td>0.910377</td>\n",
       "      <td>3565.349</td>\n",
       "    </tr>\n",
       "    <tr>\n",
       "      <th>1973-04-01</th>\n",
       "      <td>3565.349</td>\n",
       "      <td>1.28</td>\n",
       "      <td>1.0626</td>\n",
       "      <td>24.787</td>\n",
       "      <td>1.015361</td>\n",
       "      <td>0.921875</td>\n",
       "      <td>0.907928</td>\n",
       "      <td>3577.898</td>\n",
       "    </tr>\n",
       "  </tbody>\n",
       "</table>\n",
       "</div>"
      ],
      "text/plain": [
       "                rpce  w5000      tb    gdef       inf     R_nom         R  \\\n",
       "DATE                                                                        \n",
       "1971-01-01  3156.978   1.00  1.0444  22.391  1.015189  1.120000  1.103243   \n",
       "1971-04-01  3185.993   1.12  1.0386  22.685  1.013130  1.008929  0.995853   \n",
       "1971-07-01  3211.394   1.13  1.0540  22.916  1.010183  0.991150  0.981159   \n",
       "1971-10-01  3264.679   1.12  1.0446  23.107  1.008335  1.053571  1.044863   \n",
       "1972-01-01  3307.767   1.18  1.0338  23.458  1.015190  1.067797  1.051819   \n",
       "1972-04-01  3370.736   1.26  1.0371  23.604  1.006224  1.007937  1.001702   \n",
       "1972-07-01  3422.682   1.27  1.0398  23.830  1.009575  1.023622  1.013914   \n",
       "1972-10-01  3503.001   1.30  1.0474  24.134  1.012757  1.069231  1.055762   \n",
       "1973-01-01  3566.957   1.39  1.0541  24.412  1.011519  0.920863  0.910377   \n",
       "1973-04-01  3565.349   1.28  1.0626  24.787  1.015361  0.921875  0.907928   \n",
       "\n",
       "              rpce_1  \n",
       "DATE                  \n",
       "1971-01-01  3185.993  \n",
       "1971-04-01  3211.394  \n",
       "1971-07-01  3264.679  \n",
       "1971-10-01  3307.767  \n",
       "1972-01-01  3370.736  \n",
       "1972-04-01  3422.682  \n",
       "1972-07-01  3503.001  \n",
       "1972-10-01  3566.957  \n",
       "1973-01-01  3565.349  \n",
       "1973-04-01  3577.898  "
      ]
     },
     "execution_count": 2,
     "metadata": {},
     "output_type": "execute_result"
    }
   ],
   "source": [
    "### Use data cleaning from scott\n",
    "\n",
    "def convert_to_daily_with_ffill(df):\n",
    "    '''convert_to_daily_with_ffill\n",
    "\n",
    "    This method converts a dataframe to have a daily index and forward fills all of the missing days.  Useful for converting (for example) stock market data to quarterly data when the quarterly return is wanted.\n",
    "\n",
    "    :param df: a pandas.DataFrame to be converted\n",
    "    :returns: a pandas.DataFrame that has been converted\n",
    "    '''\n",
    "\n",
    "    new_idx = pd.date_range('01-01-1950', '07-01-2018')\n",
    "    df = df.reindex(new_idx)\n",
    "    df = df.fillna(method=\"ffill\")\n",
    "    return df\n",
    "\n",
    "start = datetime.datetime(1950, 1,1)\n",
    "end = datetime.datetime(2018, 7, 1)\n",
    "rpce = web.DataReader('PCECC96', 'fred', start, end)\n",
    "w5000 = web.DataReader('WILL5000INDFC', 'fred', start, end)\n",
    "w5000 = convert_to_daily_with_ffill(w5000)\n",
    "gdef = web.DataReader('GDPDEF', 'fred', start, end)\n",
    "tb = web.DataReader('TB3MS', 'fred', start, end)\n",
    "\n",
    "df = pd.DataFrame(columns=['rpce', 'w5000', 'tb', 'gdef'], index = rpce.index)\n",
    "df['rpce'] = rpce\n",
    "df['w5000'] = w5000\n",
    "df['gdef'] = gdef\n",
    "df['inf'] = df['gdef']/df['gdef'].shift(1)\n",
    "#df['w5000_d'] = df['w5000']/df['inf']      # Deflated asset price returns\n",
    "df['R_nom'] = df['w5000'].shift(-1)/df['w5000']\n",
    "df['R'] = df['R_nom']/df['inf']# Returns to asset prices\n",
    "df['tb'] = tb/100. + 1    # Convert to percentage and make a gross return\n",
    "df['rpce_1'] = rpce.shift(-1)\n",
    "df  = df.dropna(axis=0)   # Drop NaNs\n",
    "df.head(10)"
   ]
  },
  {
   "cell_type": "code",
   "execution_count": 3,
   "metadata": {},
   "outputs": [
    {
     "data": {
      "text/plain": [
       "[<matplotlib.lines.Line2D at 0x24f54bd3d68>]"
      ]
     },
     "execution_count": 3,
     "metadata": {},
     "output_type": "execute_result"
    },
    {
     "data": {
      "image/png": "[encoded data removed]",
      "text/plain": [
       "<Figure size 432x288 with 1 Axes>"
      ]
     },
     "metadata": {},
     "output_type": "display_data"
    }
   ],
   "source": [
    "plt.plot(df['R'])"
   ]
  },
  {
   "cell_type": "markdown",
   "metadata": {},
   "source": [
    "#### 1.1\n"
   ]
  },
  {
   "cell_type": "code",
   "execution_count": 4,
   "metadata": {},
   "outputs": [],
   "source": [
    "def sdf(gamma):\n",
    "    m_tp1 = 0.99*(df['rpce_1']**(-gamma))/(df['rpce']**(-gamma))\n",
    "    return m_tp1"
   ]
  },
  {
   "cell_type": "code",
   "execution_count": 5,
   "metadata": {},
   "outputs": [],
   "source": [
    "def err_1(gamma):\n",
    "    cov = sdf(gamma).cov(df['R'])\n",
    "    error = 1 - cov - (sdf(gamma).mean())*(df['R'].mean())\n",
    "    return error"
   ]
  },
  {
   "cell_type": "code",
   "execution_count": 6,
   "metadata": {},
   "outputs": [
    {
     "data": {
      "text/plain": [
       "    fjac: array([[-1.]])\n",
       "     fun: 0.0\n",
       " message: 'The solution converged.'\n",
       "    nfev: 6\n",
       "     qtf: array([9.70334924e-14])\n",
       "       r: array([-0.0075478])\n",
       "  status: 1\n",
       " success: True\n",
       "       x: array([1.37995685])"
      ]
     },
     "execution_count": 6,
     "metadata": {},
     "output_type": "execute_result"
    }
   ],
   "source": [
    "opt.root(err_1, 1.0)"
   ]
  },
  {
   "cell_type": "markdown",
   "metadata": {},
   "source": [
    "#### 1.3"
   ]
  },
  {
   "cell_type": "code",
   "execution_count": 7,
   "metadata": {},
   "outputs": [
    {
     "data": {
      "text/plain": [
       "[<matplotlib.lines.Line2D at 0x24f54f9e470>]"
      ]
     },
     "execution_count": 7,
     "metadata": {},
     "output_type": "execute_result"
    },
    {
     "data": {
      "image/png": "[encoded data removed]",
      "text/plain": [
       "<Figure size 432x288 with 1 Axes>"
      ]
     },
     "metadata": {},
     "output_type": "display_data"
    }
   ],
   "source": [
    "plt.plot(df['tb'])"
   ]
  },
  {
   "cell_type": "code",
   "execution_count": 8,
   "metadata": {},
   "outputs": [],
   "source": [
    "def err_3(gamma):\n",
    "    error = df['tb'] - 1/sdf(gamma)\n",
    "    #errorabs = np.abs(error)\n",
    "    dist = (error**2).sum()\n",
    "    return dist"
   ]
  },
  {
   "cell_type": "code",
   "execution_count": 9,
   "metadata": {},
   "outputs": [
    {
     "data": {
      "text/plain": [
       " final_simplex: (array([[2.77023438],\n",
       "       [2.77015625]]), array([0.33358455, 0.33358455]))\n",
       "           fun: 0.3335845464433694\n",
       "       message: 'Optimization terminated successfully.'\n",
       "          nfev: 38\n",
       "           nit: 19\n",
       "        status: 0\n",
       "       success: True\n",
       "             x: array([2.77023438])"
      ]
     },
     "execution_count": 9,
     "metadata": {},
     "output_type": "execute_result"
    }
   ],
   "source": [
    "opt.minimize(err_3, 0.8, method = 'Nelder-Mead')"
   ]
  },
  {
   "cell_type": "markdown",
   "metadata": {},
   "source": [
    "#### 1.4"
   ]
  },
  {
   "cell_type": "code",
   "execution_count": 10,
   "metadata": {},
   "outputs": [],
   "source": [
    "def sdf(gamma, beta):\n",
    "    m_tp1 = beta*(df['rpce_1']**(-gamma))/(df['rpce']**(-gamma))\n",
    "    return m_tp1"
   ]
  },
  {
   "cell_type": "code",
   "execution_count": 11,
   "metadata": {},
   "outputs": [],
   "source": [
    "def err_4_1(params):\n",
    "    gamma, beta = params\n",
    "    cov = sdf(gamma, beta).cov(df['R'])\n",
    "    error_1 = 1 - cov - (sdf(gamma, beta).mean())*(df['R'].mean())\n",
    "    \n",
    "    error_temp = df['tb'] - 1/sdf(gamma, beta)\n",
    "    #errorabs = np.abs(error_temp)\n",
    "    error_2 = (error_temp**2).sum()\n",
    "    \n",
    "    error = np.zeros(2)\n",
    "    error[0] = error_1\n",
    "    error[1] = error_2\n",
    "    \n",
    "    return error"
   ]
  },
  {
   "cell_type": "code",
   "execution_count": 12,
   "metadata": {},
   "outputs": [],
   "source": [
    "def criterion(params, *args):\n",
    "    gamma, beta = params\n",
    "    W = args\n",
    "    error = err_4_1(params)\n",
    "    crit_val = (error**2).sum()\n",
    "    return crit_val"
   ]
  },
  {
   "cell_type": "code",
   "execution_count": 13,
   "metadata": {},
   "outputs": [],
   "source": [
    "W_4 = np.eye(2)\n",
    "params_init = np.array([5, 0.5])\n",
    "gmm_args = W_4"
   ]
  },
  {
   "cell_type": "code",
   "execution_count": 14,
   "metadata": {},
   "outputs": [
    {
     "data": {
      "text/plain": [
       "      fun: 0.049870438643526846\n",
       " hess_inv: <2x2 LbfgsInvHessProduct with dtype=float64>\n",
       "      jac: array([ 6.18170098e-04, -3.08086889e-07])\n",
       "  message: b'CONVERGENCE: NORM_OF_PROJECTED_GRADIENT_<=_PGTOL'\n",
       "     nfev: 45\n",
       "      nit: 14\n",
       "   status: 0\n",
       "  success: True\n",
       "        x: array([1.00000000e-10, 9.55379318e-01])"
      ]
     },
     "execution_count": 14,
     "metadata": {},
     "output_type": "execute_result"
    }
   ],
   "source": [
    "opt.minimize(criterion, params_init, args = gmm_args,\n",
    "            method = 'L-BFGS-B', bounds = ((1e-10, None), (0.9, 1)))"
   ]
  },
  {
   "cell_type": "code",
   "execution_count": 15,
   "metadata": {},
   "outputs": [],
   "source": [
    "n = 60\n",
    "N = 5\n",
    "gamma_grid = np.linspace(0, 5, n)\n",
    "beta_grid = np.linspace(0.95, 0.99, N)\n",
    "gmm_values = np.zeros((n, N))\n",
    "for i in range(n):\n",
    "    for j in range(N):\n",
    "        gmm_values[i, j] = criterion((gamma_grid[i], beta_grid[j]), W_4)"
   ]
  },
  {
   "cell_type": "code",
   "execution_count": 16,
   "metadata": {},
   "outputs": [
    {
     "data": {
      "image/png": "[encoded data removed]",
      "text/plain": [
       "<Figure size 432x288 with 1 Axes>"
      ]
     },
     "metadata": {},
     "output_type": "display_data"
    }
   ],
   "source": [
    "for j in range(N):\n",
    "    plt.plot(gamma_grid, gmm_values[:, j], label=rf'$beta$ = {beta_grid[j]:.2f}')\n",
    "plt.xlabel('gamma')\n",
    "plt.ylabel('Objective function value')\n",
    "plt.legend()\n",
    "plt.show()"
   ]
  },
  {
   "cell_type": "markdown",
   "metadata": {},
   "source": [
    "### Problem 2"
   ]
  },
  {
   "cell_type": "code",
   "execution_count": 17,
   "metadata": {},
   "outputs": [
    {
     "ename": "ValueError",
     "evalue": "could not convert string to float",
     "output_type": "error",
     "traceback": [
      "\u001b[1;31m---------------------------------------------------------------------------\u001b[0m",
      "\u001b[1;31mValueError\u001b[0m                                Traceback (most recent call last)",
      "\u001b[1;32m<ipython-input-17-edd00fd37a68>\u001b[0m in \u001b[0;36m<module>\u001b[1;34m()\u001b[0m\n\u001b[0;32m      1\u001b[0m \u001b[1;32mwith\u001b[0m \u001b[0mopen\u001b[0m\u001b[1;33m(\u001b[0m\u001b[1;34m'AAPL'\u001b[0m\u001b[1;33m,\u001b[0m \u001b[1;34m'rb'\u001b[0m\u001b[1;33m)\u001b[0m \u001b[1;32mas\u001b[0m \u001b[0mf\u001b[0m\u001b[1;33m:\u001b[0m\u001b[1;33m\u001b[0m\u001b[0m\n\u001b[1;32m----> 2\u001b[1;33m     \u001b[0md\u001b[0m \u001b[1;33m=\u001b[0m \u001b[0mpickle\u001b[0m\u001b[1;33m.\u001b[0m\u001b[0mload\u001b[0m\u001b[1;33m(\u001b[0m\u001b[0mf\u001b[0m\u001b[1;33m,\u001b[0m \u001b[0mencoding\u001b[0m\u001b[1;33m=\u001b[0m\u001b[1;34m'latin1'\u001b[0m\u001b[1;33m)\u001b[0m\u001b[1;33m\u001b[0m\u001b[0m\n\u001b[0m",
      "\u001b[1;31mValueError\u001b[0m: could not convert string to float"
     ]
    }
   ],
   "source": [
    "with open('AAPL', 'rb') as f:\n",
    "    d = pickle.load(f, encoding='latin1')"
   ]
  },
  {
   "cell_type": "code",
   "execution_count": 38,
   "metadata": {},
   "outputs": [
    {
     "ename": "ValueError",
     "evalue": "could not convert string to float",
     "output_type": "error",
     "traceback": [
      "\u001b[1;31m---------------------------------------------------------------------------\u001b[0m",
      "\u001b[1;31mValueError\u001b[0m                                Traceback (most recent call last)",
      "\u001b[1;32m<ipython-input-38-e3bf2c14fb3b>\u001b[0m in \u001b[0;36m<module>\u001b[1;34m()\u001b[0m\n\u001b[0;32m      4\u001b[0m \u001b[1;32mfor\u001b[0m \u001b[0mfile\u001b[0m \u001b[1;32min\u001b[0m \u001b[0mfiles\u001b[0m\u001b[1;33m:\u001b[0m\u001b[1;33m\u001b[0m\u001b[0m\n\u001b[0;32m      5\u001b[0m     \u001b[1;32mwith\u001b[0m \u001b[0mopen\u001b[0m\u001b[1;33m(\u001b[0m\u001b[0mfile\u001b[0m\u001b[1;33m,\u001b[0m \u001b[1;34m'rb'\u001b[0m\u001b[1;33m)\u001b[0m \u001b[1;32mas\u001b[0m \u001b[0mpickle_file\u001b[0m\u001b[1;33m:\u001b[0m\u001b[1;33m\u001b[0m\u001b[0m\n\u001b[1;32m----> 6\u001b[1;33m         \u001b[0mfile_objs\u001b[0m\u001b[1;33m.\u001b[0m\u001b[0mappend\u001b[0m\u001b[1;33m(\u001b[0m\u001b[0mpickle\u001b[0m\u001b[1;33m.\u001b[0m\u001b[0mload\u001b[0m\u001b[1;33m(\u001b[0m\u001b[0mpickle_file\u001b[0m\u001b[1;33m)\u001b[0m\u001b[1;33m)\u001b[0m\u001b[1;33m\u001b[0m\u001b[0m\n\u001b[0m",
      "\u001b[1;31mValueError\u001b[0m: could not convert string to float"
     ]
    }
   ],
   "source": [
    "# Import data\n",
    "files = ['AAPL', 'C', 'GBX', 'SPY', 'THO']\n",
    "file_objs = []\n",
    "for file in files:\n",
    "    with open(file, 'rb') as pickle_file:\n",
    "        file_objs.append(pickle.load(pickle_file))"
   ]
  },
  {
   "cell_type": "code",
   "execution_count": 45,
   "metadata": {},
   "outputs": [
    {
     "ename": "ValueError",
     "evalue": "could not convert string to float",
     "output_type": "error",
     "traceback": [
      "\u001b[1;31m---------------------------------------------------------------------------\u001b[0m",
      "\u001b[1;31mValueError\u001b[0m                                Traceback (most recent call last)",
      "\u001b[1;32m<ipython-input-45-cb881ce76ad0>\u001b[0m in \u001b[0;36m<module>\u001b[1;34m()\u001b[0m\n\u001b[0;32m      1\u001b[0m \u001b[1;31m#AAPLraw = pickle.load(open('AAPL.txt', 'rb'))\u001b[0m\u001b[1;33m\u001b[0m\u001b[1;33m\u001b[0m\u001b[0m\n\u001b[1;32m----> 2\u001b[1;33m \u001b[0mCraw\u001b[0m \u001b[1;33m=\u001b[0m \u001b[0mpickle\u001b[0m\u001b[1;33m.\u001b[0m\u001b[0mload\u001b[0m\u001b[1;33m(\u001b[0m\u001b[0mopen\u001b[0m\u001b[1;33m(\u001b[0m\u001b[1;34m'C.txt.txt'\u001b[0m\u001b[1;33m,\u001b[0m \u001b[1;34m'rb'\u001b[0m\u001b[1;33m)\u001b[0m\u001b[1;33m)\u001b[0m\u001b[1;33m\u001b[0m\u001b[0m\n\u001b[0m\u001b[0;32m      3\u001b[0m \u001b[1;31m#GBXraw = pickle.load(open('GBX.txt', 'rb'))\u001b[0m\u001b[1;33m\u001b[0m\u001b[1;33m\u001b[0m\u001b[0m\n\u001b[0;32m      4\u001b[0m \u001b[1;31m#SPYraw = pickle.load(open('SPY.txt', 'rb'))\u001b[0m\u001b[1;33m\u001b[0m\u001b[1;33m\u001b[0m\u001b[0m\n\u001b[0;32m      5\u001b[0m \u001b[1;31m#THOraw = pickle.load(open('THO.txt', 'rb'))\u001b[0m\u001b[1;33m\u001b[0m\u001b[1;33m\u001b[0m\u001b[0m\n",
      "\u001b[1;31mValueError\u001b[0m: could not convert string to float"
     ]
    }
   ],
   "source": [
    "#AAPLraw = pickle.load(open('AAPL.txt', 'rb'))\n",
    "Craw = pickle.load(open('C.txt.txt', 'rb'))\n",
    "#GBXraw = pickle.load(open('GBX.txt', 'rb'))\n",
    "#SPYraw = pickle.load(open('SPY.txt', 'rb'))\n",
    "#THOraw = pickle.load(open('THO.txt', 'rb'))"
   ]
  },
  {
   "cell_type": "code",
   "execution_count": 40,
   "metadata": {},
   "outputs": [
    {
     "ename": "FileNotFoundError",
     "evalue": "[Errno 2] No such file or directory: 'C.txt'",
     "output_type": "error",
     "traceback": [
      "\u001b[1;31m---------------------------------------------------------------------------\u001b[0m",
      "\u001b[1;31mFileNotFoundError\u001b[0m                         Traceback (most recent call last)",
      "\u001b[1;32m<ipython-input-40-bdd13889908a>\u001b[0m in \u001b[0;36m<module>\u001b[1;34m()\u001b[0m\n\u001b[1;32m----> 1\u001b[1;33m \u001b[0mgbxRAW\u001b[0m \u001b[1;33m=\u001b[0m \u001b[0mpd\u001b[0m\u001b[1;33m.\u001b[0m\u001b[0mread_fwf\u001b[0m\u001b[1;33m(\u001b[0m\u001b[1;34m'C.txt'\u001b[0m\u001b[1;33m,\u001b[0m \u001b[0mheader\u001b[0m \u001b[1;33m=\u001b[0m \u001b[1;32mNone\u001b[0m\u001b[1;33m)\u001b[0m\u001b[1;33m\u001b[0m\u001b[0m\n\u001b[0m\u001b[0;32m      2\u001b[0m \u001b[0mgbxRAW\u001b[0m\u001b[1;33m.\u001b[0m\u001b[0mhead\u001b[0m\u001b[1;33m(\u001b[0m\u001b[1;33m)\u001b[0m\u001b[1;33m\u001b[0m\u001b[0m\n",
      "\u001b[1;32m~\\Anaconda3\\lib\\site-packages\\pandas\\io\\parsers.py\u001b[0m in \u001b[0;36mread_fwf\u001b[1;34m(filepath_or_buffer, colspecs, widths, **kwds)\u001b[0m\n\u001b[0;32m    708\u001b[0m     \u001b[0mkwds\u001b[0m\u001b[1;33m[\u001b[0m\u001b[1;34m'colspecs'\u001b[0m\u001b[1;33m]\u001b[0m \u001b[1;33m=\u001b[0m \u001b[0mcolspecs\u001b[0m\u001b[1;33m\u001b[0m\u001b[0m\n\u001b[0;32m    709\u001b[0m     \u001b[0mkwds\u001b[0m\u001b[1;33m[\u001b[0m\u001b[1;34m'engine'\u001b[0m\u001b[1;33m]\u001b[0m \u001b[1;33m=\u001b[0m \u001b[1;34m'python-fwf'\u001b[0m\u001b[1;33m\u001b[0m\u001b[0m\n\u001b[1;32m--> 710\u001b[1;33m     \u001b[1;32mreturn\u001b[0m \u001b[0m_read\u001b[0m\u001b[1;33m(\u001b[0m\u001b[0mfilepath_or_buffer\u001b[0m\u001b[1;33m,\u001b[0m \u001b[0mkwds\u001b[0m\u001b[1;33m)\u001b[0m\u001b[1;33m\u001b[0m\u001b[0m\n\u001b[0m\u001b[0;32m    711\u001b[0m \u001b[1;33m\u001b[0m\u001b[0m\n\u001b[0;32m    712\u001b[0m \u001b[1;33m\u001b[0m\u001b[0m\n",
      "\u001b[1;32m~\\Anaconda3\\lib\\site-packages\\pandas\\io\\parsers.py\u001b[0m in \u001b[0;36m_read\u001b[1;34m(filepath_or_buffer, kwds)\u001b[0m\n\u001b[0;32m    438\u001b[0m \u001b[1;33m\u001b[0m\u001b[0m\n\u001b[0;32m    439\u001b[0m     \u001b[1;31m# Create the parser.\u001b[0m\u001b[1;33m\u001b[0m\u001b[1;33m\u001b[0m\u001b[0m\n\u001b[1;32m--> 440\u001b[1;33m     \u001b[0mparser\u001b[0m \u001b[1;33m=\u001b[0m \u001b[0mTextFileReader\u001b[0m\u001b[1;33m(\u001b[0m\u001b[0mfilepath_or_buffer\u001b[0m\u001b[1;33m,\u001b[0m \u001b[1;33m**\u001b[0m\u001b[0mkwds\u001b[0m\u001b[1;33m)\u001b[0m\u001b[1;33m\u001b[0m\u001b[0m\n\u001b[0m\u001b[0;32m    441\u001b[0m \u001b[1;33m\u001b[0m\u001b[0m\n\u001b[0;32m    442\u001b[0m     \u001b[1;32mif\u001b[0m \u001b[0mchunksize\u001b[0m \u001b[1;32mor\u001b[0m \u001b[0miterator\u001b[0m\u001b[1;33m:\u001b[0m\u001b[1;33m\u001b[0m\u001b[0m\n",
      "\u001b[1;32m~\\Anaconda3\\lib\\site-packages\\pandas\\io\\parsers.py\u001b[0m in \u001b[0;36m__init__\u001b[1;34m(self, f, engine, **kwds)\u001b[0m\n\u001b[0;32m    785\u001b[0m             \u001b[0mself\u001b[0m\u001b[1;33m.\u001b[0m\u001b[0moptions\u001b[0m\u001b[1;33m[\u001b[0m\u001b[1;34m'has_index_names'\u001b[0m\u001b[1;33m]\u001b[0m \u001b[1;33m=\u001b[0m \u001b[0mkwds\u001b[0m\u001b[1;33m[\u001b[0m\u001b[1;34m'has_index_names'\u001b[0m\u001b[1;33m]\u001b[0m\u001b[1;33m\u001b[0m\u001b[0m\n\u001b[0;32m    786\u001b[0m \u001b[1;33m\u001b[0m\u001b[0m\n\u001b[1;32m--> 787\u001b[1;33m         \u001b[0mself\u001b[0m\u001b[1;33m.\u001b[0m\u001b[0m_make_engine\u001b[0m\u001b[1;33m(\u001b[0m\u001b[0mself\u001b[0m\u001b[1;33m.\u001b[0m\u001b[0mengine\u001b[0m\u001b[1;33m)\u001b[0m\u001b[1;33m\u001b[0m\u001b[0m\n\u001b[0m\u001b[0;32m    788\u001b[0m \u001b[1;33m\u001b[0m\u001b[0m\n\u001b[0;32m    789\u001b[0m     \u001b[1;32mdef\u001b[0m \u001b[0mclose\u001b[0m\u001b[1;33m(\u001b[0m\u001b[0mself\u001b[0m\u001b[1;33m)\u001b[0m\u001b[1;33m:\u001b[0m\u001b[1;33m\u001b[0m\u001b[0m\n",
      "\u001b[1;32m~\\Anaconda3\\lib\\site-packages\\pandas\\io\\parsers.py\u001b[0m in \u001b[0;36m_make_engine\u001b[1;34m(self, engine)\u001b[0m\n\u001b[0;32m   1022\u001b[0m                                  ' \"c\", \"python\", or' ' \"python-fwf\")'.format(\n\u001b[0;32m   1023\u001b[0m                                      engine=engine))\n\u001b[1;32m-> 1024\u001b[1;33m             \u001b[0mself\u001b[0m\u001b[1;33m.\u001b[0m\u001b[0m_engine\u001b[0m \u001b[1;33m=\u001b[0m \u001b[0mklass\u001b[0m\u001b[1;33m(\u001b[0m\u001b[0mself\u001b[0m\u001b[1;33m.\u001b[0m\u001b[0mf\u001b[0m\u001b[1;33m,\u001b[0m \u001b[1;33m**\u001b[0m\u001b[0mself\u001b[0m\u001b[1;33m.\u001b[0m\u001b[0moptions\u001b[0m\u001b[1;33m)\u001b[0m\u001b[1;33m\u001b[0m\u001b[0m\n\u001b[0m\u001b[0;32m   1025\u001b[0m \u001b[1;33m\u001b[0m\u001b[0m\n\u001b[0;32m   1026\u001b[0m     \u001b[1;32mdef\u001b[0m \u001b[0m_failover_to_python\u001b[0m\u001b[1;33m(\u001b[0m\u001b[0mself\u001b[0m\u001b[1;33m)\u001b[0m\u001b[1;33m:\u001b[0m\u001b[1;33m\u001b[0m\u001b[0m\n",
      "\u001b[1;32m~\\Anaconda3\\lib\\site-packages\\pandas\\io\\parsers.py\u001b[0m in \u001b[0;36m__init__\u001b[1;34m(self, f, **kwds)\u001b[0m\n\u001b[0;32m   3433\u001b[0m         \u001b[1;31m# Support iterators, convert to a list.\u001b[0m\u001b[1;33m\u001b[0m\u001b[1;33m\u001b[0m\u001b[0m\n\u001b[0;32m   3434\u001b[0m         \u001b[0mself\u001b[0m\u001b[1;33m.\u001b[0m\u001b[0mcolspecs\u001b[0m \u001b[1;33m=\u001b[0m \u001b[0mkwds\u001b[0m\u001b[1;33m.\u001b[0m\u001b[0mpop\u001b[0m\u001b[1;33m(\u001b[0m\u001b[1;34m'colspecs'\u001b[0m\u001b[1;33m)\u001b[0m\u001b[1;33m\u001b[0m\u001b[0m\n\u001b[1;32m-> 3435\u001b[1;33m         \u001b[0mPythonParser\u001b[0m\u001b[1;33m.\u001b[0m\u001b[0m__init__\u001b[0m\u001b[1;33m(\u001b[0m\u001b[0mself\u001b[0m\u001b[1;33m,\u001b[0m \u001b[0mf\u001b[0m\u001b[1;33m,\u001b[0m \u001b[1;33m**\u001b[0m\u001b[0mkwds\u001b[0m\u001b[1;33m)\u001b[0m\u001b[1;33m\u001b[0m\u001b[0m\n\u001b[0m\u001b[0;32m   3436\u001b[0m \u001b[1;33m\u001b[0m\u001b[0m\n\u001b[0;32m   3437\u001b[0m     \u001b[1;32mdef\u001b[0m \u001b[0m_make_reader\u001b[0m\u001b[1;33m(\u001b[0m\u001b[0mself\u001b[0m\u001b[1;33m,\u001b[0m \u001b[0mf\u001b[0m\u001b[1;33m)\u001b[0m\u001b[1;33m:\u001b[0m\u001b[1;33m\u001b[0m\u001b[0m\n",
      "\u001b[1;32m~\\Anaconda3\\lib\\site-packages\\pandas\\io\\parsers.py\u001b[0m in \u001b[0;36m__init__\u001b[1;34m(self, f, **kwds)\u001b[0m\n\u001b[0;32m   2075\u001b[0m         f, handles = _get_handle(f, mode, encoding=self.encoding,\n\u001b[0;32m   2076\u001b[0m                                  \u001b[0mcompression\u001b[0m\u001b[1;33m=\u001b[0m\u001b[0mself\u001b[0m\u001b[1;33m.\u001b[0m\u001b[0mcompression\u001b[0m\u001b[1;33m,\u001b[0m\u001b[1;33m\u001b[0m\u001b[0m\n\u001b[1;32m-> 2077\u001b[1;33m                                  memory_map=self.memory_map)\n\u001b[0m\u001b[0;32m   2078\u001b[0m         \u001b[0mself\u001b[0m\u001b[1;33m.\u001b[0m\u001b[0mhandles\u001b[0m\u001b[1;33m.\u001b[0m\u001b[0mextend\u001b[0m\u001b[1;33m(\u001b[0m\u001b[0mhandles\u001b[0m\u001b[1;33m)\u001b[0m\u001b[1;33m\u001b[0m\u001b[0m\n\u001b[0;32m   2079\u001b[0m \u001b[1;33m\u001b[0m\u001b[0m\n",
      "\u001b[1;32m~\\Anaconda3\\lib\\site-packages\\pandas\\io\\common.py\u001b[0m in \u001b[0;36m_get_handle\u001b[1;34m(path_or_buf, mode, encoding, compression, memory_map, is_text)\u001b[0m\n\u001b[0;32m    401\u001b[0m         \u001b[1;32melif\u001b[0m \u001b[0mis_text\u001b[0m\u001b[1;33m:\u001b[0m\u001b[1;33m\u001b[0m\u001b[0m\n\u001b[0;32m    402\u001b[0m             \u001b[1;31m# Python 3 and no explicit encoding\u001b[0m\u001b[1;33m\u001b[0m\u001b[1;33m\u001b[0m\u001b[0m\n\u001b[1;32m--> 403\u001b[1;33m             \u001b[0mf\u001b[0m \u001b[1;33m=\u001b[0m \u001b[0mopen\u001b[0m\u001b[1;33m(\u001b[0m\u001b[0mpath_or_buf\u001b[0m\u001b[1;33m,\u001b[0m \u001b[0mmode\u001b[0m\u001b[1;33m,\u001b[0m \u001b[0merrors\u001b[0m\u001b[1;33m=\u001b[0m\u001b[1;34m'replace'\u001b[0m\u001b[1;33m)\u001b[0m\u001b[1;33m\u001b[0m\u001b[0m\n\u001b[0m\u001b[0;32m    404\u001b[0m         \u001b[1;32melse\u001b[0m\u001b[1;33m:\u001b[0m\u001b[1;33m\u001b[0m\u001b[0m\n\u001b[0;32m    405\u001b[0m             \u001b[1;31m# Python 3 and binary mode\u001b[0m\u001b[1;33m\u001b[0m\u001b[1;33m\u001b[0m\u001b[0m\n",
      "\u001b[1;31mFileNotFoundError\u001b[0m: [Errno 2] No such file or directory: 'C.txt'"
     ]
    }
   ],
   "source": [
    "gbxRAW = pd.read_fwf('C.txt', header = None)\n",
    "gbxRAW.head()"
   ]
  },
  {
   "cell_type": "code",
   "execution_count": null,
   "metadata": {},
   "outputs": [],
   "source": [
    "import pickle\n",
    "\n",
    "file_list = [\"C\", \"GBX\", \"SPY\", \"THO\"]\n",
    "\n",
    "\n",
    "file_objects = [open(os.path.join(ii), 'rb') for ii in file_list]\n",
    "data = {ii: pickle.load(jj) for (ii,jj) in zip(file_list, file_objects)}\n",
    "\n",
    "\n",
    "#data = pickle.load(open(\"C:/Users/Tim/Documents/OSM/Mybootcampcopy/BootCamp2018/ProbSets/Econ/Week6/AAPL.pickle\", \"str\"))\n",
    "\n",
    "\n",
    "#pickle.load(open(\"D:/New/ud120-projects/final_project/final_project_dataset.pkl\", \"r\"))"
   ]
  },
  {
   "cell_type": "code",
   "execution_count": 7,
   "metadata": {},
   "outputs": [
    {
     "ename": "ValueError",
     "evalue": "could not convert string to float",
     "output_type": "error",
     "traceback": [
      "\u001b[1;31m---------------------------------------------------------------------------\u001b[0m",
      "\u001b[1;31mValueError\u001b[0m                                Traceback (most recent call last)",
      "\u001b[1;32m<ipython-input-7-ea7cab5c1b4a>\u001b[0m in \u001b[0;36m<module>\u001b[1;34m()\u001b[0m\n\u001b[1;32m----> 1\u001b[1;33m \u001b[0mpickle\u001b[0m\u001b[1;33m.\u001b[0m\u001b[0mload\u001b[0m\u001b[1;33m(\u001b[0m\u001b[0mopen\u001b[0m\u001b[1;33m(\u001b[0m\u001b[1;34m\"C\"\u001b[0m\u001b[1;33m,\u001b[0m \u001b[1;34m\"rb\"\u001b[0m\u001b[1;33m)\u001b[0m\u001b[1;33m)\u001b[0m\u001b[1;33m.\u001b[0m\u001b[0mstrip\u001b[0m\u001b[1;33m(\u001b[0m\u001b[1;34m\" \"\u001b[0m\u001b[1;33m)\u001b[0m\u001b[1;33m\u001b[0m\u001b[0m\n\u001b[0m",
      "\u001b[1;31mValueError\u001b[0m: could not convert string to float"
     ]
    }
   ],
   "source": [
    "pickle.load(open(\"C\", \"rb\")).strip(\" \")"
   ]
  },
  {
   "cell_type": "code",
   "execution_count": 9,
   "metadata": {},
   "outputs": [],
   "source": [
    "data_1 = pd.read_pickle('test.pkl')"
   ]
  },
  {
   "cell_type": "code",
   "execution_count": 14,
   "metadata": {},
   "outputs": [
    {
     "data": {
      "text/plain": [
       "0      34260\n",
       "1      34320\n",
       "2      34380\n",
       "3      34440\n",
       "4      34500\n",
       "5      34560\n",
       "6      34620\n",
       "7      34680\n",
       "8      34740\n",
       "9      34800\n",
       "10     34860\n",
       "11     34920\n",
       "12     34980\n",
       "13     35040\n",
       "14     35100\n",
       "15     35160\n",
       "16     35220\n",
       "17     35280\n",
       "18     35340\n",
       "19     35400\n",
       "20     35460\n",
       "21     35520\n",
       "22     35580\n",
       "23     35640\n",
       "24     35700\n",
       "25     35760\n",
       "26     35820\n",
       "27     35880\n",
       "28     35940\n",
       "29     36000\n",
       "       ...  \n",
       "360    55860\n",
       "361    55920\n",
       "362    55980\n",
       "363    56040\n",
       "364    56100\n",
       "365    56160\n",
       "366    56220\n",
       "367    56280\n",
       "368    56340\n",
       "369    56400\n",
       "370    56460\n",
       "371    56520\n",
       "372    56580\n",
       "373    56640\n",
       "374    56700\n",
       "375    56760\n",
       "376    56820\n",
       "377    56880\n",
       "378    56940\n",
       "379    57000\n",
       "380    57060\n",
       "381    57120\n",
       "382    57180\n",
       "383    57240\n",
       "384    57300\n",
       "385    57360\n",
       "386    57420\n",
       "387    57480\n",
       "388    57540\n",
       "389    57600\n",
       "Name: 0, Length: 390, dtype: int64"
      ]
     },
     "execution_count": 14,
     "metadata": {},
     "output_type": "execute_result"
    }
   ],
   "source": [
    "data_1[0]"
   ]
  },
  {
   "cell_type": "code",
   "execution_count": null,
   "metadata": {},
   "outputs": [],
   "source": []
  }
 ],
 "metadata": {
  "kernelspec": {
   "display_name": "Python 3",
   "language": "python",
   "name": "python3"
  },
  "language_info": {
   "codemirror_mode": {
    "name": "ipython",
    "version": 3
   },
   "file_extension": ".py",
   "mimetype": "text/x-python",
   "name": "python",
   "nbconvert_exporter": "python",
   "pygments_lexer": "ipython3",
   "version": "3.6.5"
  }
 },
 "nbformat": 4,
 "nbformat_minor": 2
}
