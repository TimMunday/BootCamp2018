{
 "cells": [
  {
   "cell_type": "markdown",
   "metadata": {},
   "source": [
    "# Asset Pricing"
   ]
  },
  {
   "cell_type": "code",
   "execution_count": 1,
   "metadata": {},
   "outputs": [],
   "source": [
    "import pandas as pd\n",
    "import numpy as np\n",
    "import pandas_datareader.data as web\n",
    "import matplotlib.pyplot as plt\n",
    "import datetime\n",
    "from scipy.optimize import fsolve\n",
    "from scipy.optimize import broyden1\n",
    "from scipy.optimize import minimize\n",
    "from scipy import optimize as opt\n",
    "import math\n",
    "import scipy\n",
    "plt.style.use('seaborn-darkgrid')\n",
    "palette = plt.get_cmap('Dark2')\n",
    "from scipy import stats\n",
    "import sympy as sy"
   ]
  },
  {
   "cell_type": "markdown",
   "metadata": {},
   "source": [
    "### Problem 1"
   ]
  },
  {
   "cell_type": "code",
   "execution_count": 24,
   "metadata": {},
   "outputs": [
    {
     "data": {
      "text/html": [
       "<div>\n",
       "<style scoped>\n",
       "    .dataframe tbody tr th:only-of-type {\n",
       "        vertical-align: middle;\n",
       "    }\n",
       "\n",
       "    .dataframe tbody tr th {\n",
       "        vertical-align: top;\n",
       "    }\n",
       "\n",
       "    .dataframe thead th {\n",
       "        text-align: right;\n",
       "    }\n",
       "</style>\n",
       "<table border=\"1\" class=\"dataframe\">\n",
       "  <thead>\n",
       "    <tr style=\"text-align: right;\">\n",
       "      <th></th>\n",
       "      <th>rpce</th>\n",
       "      <th>w5000</th>\n",
       "      <th>tb</th>\n",
       "      <th>gdef</th>\n",
       "      <th>inf</th>\n",
       "      <th>R_nom</th>\n",
       "      <th>R</th>\n",
       "      <th>rpce_1</th>\n",
       "    </tr>\n",
       "    <tr>\n",
       "      <th>DATE</th>\n",
       "      <th></th>\n",
       "      <th></th>\n",
       "      <th></th>\n",
       "      <th></th>\n",
       "      <th></th>\n",
       "      <th></th>\n",
       "      <th></th>\n",
       "      <th></th>\n",
       "    </tr>\n",
       "  </thead>\n",
       "  <tbody>\n",
       "    <tr>\n",
       "      <th>1971-01-01</th>\n",
       "      <td>2968.902</td>\n",
       "      <td>1.00</td>\n",
       "      <td>1.0444</td>\n",
       "      <td>23.536</td>\n",
       "      <td>1.015270</td>\n",
       "      <td>1.120000</td>\n",
       "      <td>1.103154</td>\n",
       "      <td>2996.124</td>\n",
       "    </tr>\n",
       "    <tr>\n",
       "      <th>1971-04-01</th>\n",
       "      <td>2996.124</td>\n",
       "      <td>1.12</td>\n",
       "      <td>1.0386</td>\n",
       "      <td>23.846</td>\n",
       "      <td>1.013171</td>\n",
       "      <td>1.008929</td>\n",
       "      <td>0.995812</td>\n",
       "      <td>3020.036</td>\n",
       "    </tr>\n",
       "    <tr>\n",
       "      <th>1971-07-01</th>\n",
       "      <td>3020.036</td>\n",
       "      <td>1.13</td>\n",
       "      <td>1.0540</td>\n",
       "      <td>24.088</td>\n",
       "      <td>1.010148</td>\n",
       "      <td>0.991150</td>\n",
       "      <td>0.981193</td>\n",
       "      <td>3070.230</td>\n",
       "    </tr>\n",
       "    <tr>\n",
       "      <th>1971-10-01</th>\n",
       "      <td>3070.230</td>\n",
       "      <td>1.12</td>\n",
       "      <td>1.0446</td>\n",
       "      <td>24.288</td>\n",
       "      <td>1.008303</td>\n",
       "      <td>1.053571</td>\n",
       "      <td>1.044896</td>\n",
       "      <td>3110.801</td>\n",
       "    </tr>\n",
       "    <tr>\n",
       "      <th>1972-01-01</th>\n",
       "      <td>3110.801</td>\n",
       "      <td>1.18</td>\n",
       "      <td>1.0338</td>\n",
       "      <td>24.664</td>\n",
       "      <td>1.015481</td>\n",
       "      <td>1.067797</td>\n",
       "      <td>1.051518</td>\n",
       "      <td>3170.159</td>\n",
       "    </tr>\n",
       "    <tr>\n",
       "      <th>1972-04-01</th>\n",
       "      <td>3170.159</td>\n",
       "      <td>1.26</td>\n",
       "      <td>1.0371</td>\n",
       "      <td>24.815</td>\n",
       "      <td>1.006122</td>\n",
       "      <td>1.007937</td>\n",
       "      <td>1.001803</td>\n",
       "      <td>3219.095</td>\n",
       "    </tr>\n",
       "    <tr>\n",
       "      <th>1972-07-01</th>\n",
       "      <td>3219.095</td>\n",
       "      <td>1.27</td>\n",
       "      <td>1.0398</td>\n",
       "      <td>25.048</td>\n",
       "      <td>1.009389</td>\n",
       "      <td>1.023622</td>\n",
       "      <td>1.014100</td>\n",
       "      <td>3294.606</td>\n",
       "    </tr>\n",
       "    <tr>\n",
       "      <th>1972-10-01</th>\n",
       "      <td>3294.606</td>\n",
       "      <td>1.30</td>\n",
       "      <td>1.0474</td>\n",
       "      <td>25.366</td>\n",
       "      <td>1.012696</td>\n",
       "      <td>1.069231</td>\n",
       "      <td>1.055826</td>\n",
       "      <td>3354.764</td>\n",
       "    </tr>\n",
       "    <tr>\n",
       "      <th>1973-01-01</th>\n",
       "      <td>3354.764</td>\n",
       "      <td>1.39</td>\n",
       "      <td>1.0541</td>\n",
       "      <td>25.661</td>\n",
       "      <td>1.011630</td>\n",
       "      <td>0.920863</td>\n",
       "      <td>0.910277</td>\n",
       "      <td>3353.357</td>\n",
       "    </tr>\n",
       "    <tr>\n",
       "      <th>1973-04-01</th>\n",
       "      <td>3353.357</td>\n",
       "      <td>1.28</td>\n",
       "      <td>1.0626</td>\n",
       "      <td>26.052</td>\n",
       "      <td>1.015237</td>\n",
       "      <td>0.921875</td>\n",
       "      <td>0.908039</td>\n",
       "      <td>3365.331</td>\n",
       "    </tr>\n",
       "  </tbody>\n",
       "</table>\n",
       "</div>"
      ],
      "text/plain": [
       "                rpce  w5000      tb    gdef       inf     R_nom         R  \\\n",
       "DATE                                                                        \n",
       "1971-01-01  2968.902   1.00  1.0444  23.536  1.015270  1.120000  1.103154   \n",
       "1971-04-01  2996.124   1.12  1.0386  23.846  1.013171  1.008929  0.995812   \n",
       "1971-07-01  3020.036   1.13  1.0540  24.088  1.010148  0.991150  0.981193   \n",
       "1971-10-01  3070.230   1.12  1.0446  24.288  1.008303  1.053571  1.044896   \n",
       "1972-01-01  3110.801   1.18  1.0338  24.664  1.015481  1.067797  1.051518   \n",
       "1972-04-01  3170.159   1.26  1.0371  24.815  1.006122  1.007937  1.001803   \n",
       "1972-07-01  3219.095   1.27  1.0398  25.048  1.009389  1.023622  1.014100   \n",
       "1972-10-01  3294.606   1.30  1.0474  25.366  1.012696  1.069231  1.055826   \n",
       "1973-01-01  3354.764   1.39  1.0541  25.661  1.011630  0.920863  0.910277   \n",
       "1973-04-01  3353.357   1.28  1.0626  26.052  1.015237  0.921875  0.908039   \n",
       "\n",
       "              rpce_1  \n",
       "DATE                  \n",
       "1971-01-01  2996.124  \n",
       "1971-04-01  3020.036  \n",
       "1971-07-01  3070.230  \n",
       "1971-10-01  3110.801  \n",
       "1972-01-01  3170.159  \n",
       "1972-04-01  3219.095  \n",
       "1972-07-01  3294.606  \n",
       "1972-10-01  3354.764  \n",
       "1973-01-01  3353.357  \n",
       "1973-04-01  3365.331  "
      ]
     },
     "execution_count": 24,
     "metadata": {},
     "output_type": "execute_result"
    }
   ],
   "source": [
    "### Use data cleaning from scott\n",
    "\n",
    "def convert_to_daily_with_ffill(df):\n",
    "    '''convert_to_daily_with_ffill\n",
    "\n",
    "    This method converts a dataframe to have a daily index and forward fills all of the missing days.  Useful for converting (for example) stock market data to quarterly data when the quarterly return is wanted.\n",
    "\n",
    "    :param df: a pandas.DataFrame to be converted\n",
    "    :returns: a pandas.DataFrame that has been converted\n",
    "    '''\n",
    "\n",
    "    new_idx = pd.date_range('01-01-1950', '07-01-2018')\n",
    "    df = df.reindex(new_idx)\n",
    "    df = df.fillna(method=\"ffill\")\n",
    "    return df\n",
    "\n",
    "start = datetime.datetime(1950, 1,1)\n",
    "end = datetime.datetime(2018, 7, 1)\n",
    "rpce = web.DataReader('PCECC96', 'fred', start, end)\n",
    "w5000 = web.DataReader('WILL5000INDFC', 'fred', start, end)\n",
    "w5000 = convert_to_daily_with_ffill(w5000)\n",
    "gdef = web.DataReader('GDPDEF', 'fred', start, end)\n",
    "tb = web.DataReader('TB3MS', 'fred', start, end)\n",
    "\n",
    "df = pd.DataFrame(columns=['rpce', 'w5000', 'tb', 'gdef'], index = rpce.index)\n",
    "df['rpce'] = rpce\n",
    "df['w5000'] = w5000\n",
    "df['gdef'] = gdef\n",
    "df['inf'] = df['gdef']/df['gdef'].shift(1)\n",
    "#df['w5000_d'] = df['w5000']/df['inf']      # Deflated asset price returns\n",
    "df['R_nom'] = df['w5000'].shift(-1)/df['w5000']\n",
    "df['R'] = df['R_nom']/df['inf']# Returns to asset prices\n",
    "df['tb'] = tb/100. + 1    # Convert to percentage and make a gross return\n",
    "df['rpce_1'] = rpce.shift(-1)\n",
    "df  = df.dropna(axis=0)   # Drop NaNs\n",
    "df.head(10)"
   ]
  },
  {
   "cell_type": "code",
   "execution_count": 25,
   "metadata": {},
   "outputs": [
    {
     "data": {
      "text/plain": [
       "[<matplotlib.lines.Line2D at 0x26aeca519b0>]"
      ]
     },
     "execution_count": 25,
     "metadata": {},
     "output_type": "execute_result"
    },
    {
     "data": {
      "image/png": "[encoded data removed]",
      "text/plain": [
       "<Figure size 432x288 with 1 Axes>"
      ]
     },
     "metadata": {},
     "output_type": "display_data"
    }
   ],
   "source": [
    "plt.plot(df['R'])"
   ]
  },
  {
   "cell_type": "markdown",
   "metadata": {},
   "source": [
    "#### 1.1\n"
   ]
  },
  {
   "cell_type": "code",
   "execution_count": 13,
   "metadata": {},
   "outputs": [],
   "source": [
    "def sdf(gamma):\n",
    "    m_tp1 = 0.99*(df['rpce_1']**(-gamma))/(df['rpce']**(-gamma))\n",
    "    return m_tp1"
   ]
  },
  {
   "cell_type": "code",
   "execution_count": 17,
   "metadata": {},
   "outputs": [],
   "source": [
    "def err_1(gamma):\n",
    "    cov = sdf(gamma).cov(df['R'])\n",
    "    error = 1 - cov - (sdf(gamma).mean())*(df['R'].mean())\n",
    "    return error"
   ]
  },
  {
   "cell_type": "code",
   "execution_count": 27,
   "metadata": {},
   "outputs": [
    {
     "data": {
      "text/plain": [
       "    fjac: array([[-1.]])\n",
       "     fun: 0.0\n",
       " message: 'The solution converged.'\n",
       "    nfev: 6\n",
       "     qtf: array([1.24567023e-13])\n",
       "       r: array([-0.00758188])\n",
       "  status: 1\n",
       " success: True\n",
       "       x: array([1.3966694])"
      ]
     },
     "execution_count": 27,
     "metadata": {},
     "output_type": "execute_result"
    }
   ],
   "source": [
    "opt.root(err_1, 1.0)"
   ]
  },
  {
   "cell_type": "markdown",
   "metadata": {},
   "source": [
    "#### 1.3"
   ]
  },
  {
   "cell_type": "code",
   "execution_count": 28,
   "metadata": {},
   "outputs": [
    {
     "data": {
      "text/plain": [
       "[<matplotlib.lines.Line2D at 0x26aeceb6cc0>]"
      ]
     },
     "execution_count": 28,
     "metadata": {},
     "output_type": "execute_result"
    },
    {
     "data": {
      "image/png": "[encoded data removed]",
      "text/plain": [
       "<Figure size 432x288 with 1 Axes>"
      ]
     },
     "metadata": {},
     "output_type": "display_data"
    }
   ],
   "source": [
    "plt.plot(df['tb'])"
   ]
  },
  {
   "cell_type": "code",
   "execution_count": 39,
   "metadata": {},
   "outputs": [],
   "source": [
    "def err_3(gamma):\n",
    "    error = df['tb'] - 1/sdf(gamma)\n",
    "    errorabs = np.abs(error)\n",
    "    dist = errorabs.sum()\n",
    "    return dist"
   ]
  },
  {
   "cell_type": "code",
   "execution_count": 41,
   "metadata": {},
   "outputs": [
    {
     "data": {
      "text/plain": [
       " final_simplex: (array([[2.71890625],\n",
       "       [2.71882813]]), array([5.74803343, 5.74803459]))\n",
       "           fun: 5.748033431193163\n",
       "       message: 'Optimization terminated successfully.'\n",
       "          nfev: 38\n",
       "           nit: 19\n",
       "        status: 0\n",
       "       success: True\n",
       "             x: array([2.71890625])"
      ]
     },
     "execution_count": 41,
     "metadata": {},
     "output_type": "execute_result"
    }
   ],
   "source": [
    "opt.minimize(err_3, 0.8, method = 'Nelder-Mead')"
   ]
  },
  {
   "cell_type": "markdown",
   "metadata": {},
   "source": [
    "#### 1.4"
   ]
  },
  {
   "cell_type": "code",
   "execution_count": 67,
   "metadata": {},
   "outputs": [],
   "source": [
    "def sdf(gamma, beta):\n",
    "    m_tp1 = beta*(df['rpce_1']**(-gamma))/(df['rpce']**(-gamma))\n",
    "    return m_tp1"
   ]
  },
  {
   "cell_type": "code",
   "execution_count": 68,
   "metadata": {},
   "outputs": [],
   "source": [
    "def err_4_1(params):\n",
    "    gamma, beta = params\n",
    "    cov = sdf(gamma, beta).cov(df['R'])\n",
    "    error_1 = 1 - cov - (sdf(gamma, beta).mean())*(df['R'].mean())\n",
    "    \n",
    "    error_temp = df['tb'] - 1/sdf(gamma, beta)\n",
    "    errorabs = np.abs(error_temp)\n",
    "    error_2 = errorabs.sum()\n",
    "    \n",
    "    error = np.zeros(2)\n",
    "    error[0] = error_1\n",
    "    error[1] = error_2\n",
    "    \n",
    "    return error"
   ]
  },
  {
   "cell_type": "code",
   "execution_count": 69,
   "metadata": {},
   "outputs": [],
   "source": [
    "def criterion(params, *args):\n",
    "    gamma, beta = params\n",
    "    W = args\n",
    "    error = err_4_1(params)\n",
    "    crit_val = error.T @ W @ error\n",
    "    return crit_val"
   ]
  },
  {
   "cell_type": "code",
   "execution_count": 72,
   "metadata": {},
   "outputs": [],
   "source": [
    "W_4 = np.eye(2)\n",
    "params_init = np.array([5, 0.5])\n",
    "gmm_args = W_4"
   ]
  },
  {
   "cell_type": "code",
   "execution_count": 73,
   "metadata": {},
   "outputs": [
    {
     "data": {
      "text/plain": [
       "      fun: array([25.03196971])\n",
       " hess_inv: <2x2 LbfgsInvHessProduct with dtype=float64>\n",
       "      jac: array([-0.4755158 , 87.66608488])\n",
       "  message: b'CONVERGENCE: REL_REDUCTION_OF_F_<=_FACTR*EPSMCH'\n",
       "     nfev: 324\n",
       "      nit: 22\n",
       "   status: 0\n",
       "  success: True\n",
       "        x: array([0.24393552, 0.9560938 ])"
      ]
     },
     "execution_count": 73,
     "metadata": {},
     "output_type": "execute_result"
    }
   ],
   "source": [
    "opt.minimize(criterion, params_init, args = gmm_args,\n",
    "            method = 'L-BFGS-B', bounds = ((1e-10, None), (1e-10, 1)))"
   ]
  },
  {
   "cell_type": "code",
   "execution_count": 77,
   "metadata": {},
   "outputs": [],
   "source": [
    "n = 60\n",
    "N = 5\n",
    "gamma_grid = np.linspace(0, 5, n)\n",
    "beta_grid = np.linspace(0.95, 0.99, N)\n",
    "gmm_values = np.zeros((n, N))\n",
    "for i in range(n):\n",
    "    for j in range(N):\n",
    "        gmm_values[i, j] = criterion((gamma_grid[i], beta_grid[j]), W_4)"
   ]
  },
  {
   "cell_type": "code",
   "execution_count": 82,
   "metadata": {},
   "outputs": [
    {
     "data": {
      "image/png": "[encoded data removed]",
      "text/plain": [
       "<Figure size 432x288 with 1 Axes>"
      ]
     },
     "metadata": {},
     "output_type": "display_data"
    }
   ],
   "source": [
    "for j in range(N):\n",
    "    plt.plot(gamma_grid, gmm_values[:, j], label=rf'$beta$ = {beta_grid[j]:.2f}')\n",
    "plt.xlabel('gamma')\n",
    "plt.legend()\n",
    "plt.show()"
   ]
  }
 ],
 "metadata": {
  "kernelspec": {
   "display_name": "Python 3",
   "language": "python",
   "name": "python3"
  },
  "language_info": {
   "codemirror_mode": {
    "name": "ipython",
    "version": 3
   },
   "file_extension": ".py",
   "mimetype": "text/x-python",
   "name": "python",
   "nbconvert_exporter": "python",
   "pygments_lexer": "ipython3",
   "version": "3.6.5"
  }
 },
 "nbformat": 4,
 "nbformat_minor": 2
}
