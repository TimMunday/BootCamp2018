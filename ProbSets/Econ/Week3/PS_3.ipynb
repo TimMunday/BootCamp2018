{
 "cells": [
  {
   "cell_type": "markdown",
   "metadata": {},
   "source": [
    "# PS 3 - OLG"
   ]
  },
  {
   "cell_type": "markdown",
   "metadata": {},
   "source": [
    "## 2.1"
   ]
  },
  {
   "cell_type": "code",
   "execution_count": 1,
   "metadata": {},
   "outputs": [],
   "source": [
    "import numpy as np\n",
    "import matplotlib as plt"
   ]
  },
  {
   "cell_type": "code",
   "execution_count": 2,
   "metadata": {},
   "outputs": [],
   "source": [
    "#Calibration\n",
    "\n",
    "beta_ss = 0.442\n",
    "delta_ss = 0.6415\n",
    "sigma_ss = 3\n",
    "A_ss = 1\n",
    "alpha_ss = 0.35\n",
    "L_ss = 2.2\n",
    "\n",
    "f_params_21 = (L_ss, A_ss, alpha_ss, delta_ss)\n",
    "eul_args_22 = (beta_ss, sigma_ss, L_ss, A_ss, alpha_ss, delta_ss)"
   ]
  },
  {
   "cell_type": "code",
   "execution_count": 3,
   "metadata": {},
   "outputs": [],
   "source": [
    "def wage_ss(args_w, bvec_guess):\n",
    "    L, A, alpha = args_w\n",
    "    K = bvec_guess.sum()\n",
    "    w = (1-alpha)*A*(K/L)**alpha\n",
    "    return w\n",
    "\n",
    "def r_ss(args_k, bvec_guess):\n",
    "    L, A, alpha, delta = args_k\n",
    "    K = bvec_guess.sum()\n",
    "    r = alpha*A*(L/K)**(1-alpha) - delta\n",
    "    return r"
   ]
  },
  {
   "cell_type": "code",
   "execution_count": 4,
   "metadata": {},
   "outputs": [],
   "source": [
    "def feasible(f_params, bvec_guess):\n",
    "    \n",
    "    L, A, alpha, delta = f_params\n",
    "        \n",
    "    #Consumption block\n",
    "    \n",
    "    c_cnstr = np.zeros(3)\n",
    "    c_1_ss = wage_ss([L, A, alpha], bvec_guess) - bvec_guess[0]\n",
    "    c_2_ss = wage_ss([L, A, alpha], bvec_guess) - bvec_guess[1] + (1+r_ss([L, A, alpha, delta], bvec_guess))*bvec_guess[0]\n",
    "    c_3_ss = 0.2*wage_ss([L, A, alpha], bvec_guess) + (1+r_ss([L, A, alpha, delta], bvec_guess))*bvec_guess[1]\n",
    "    c_cnstr = np.zeros((3))\n",
    "    \n",
    "    if c_1_ss <= 0:\n",
    "        c_cnstr[0] = True\n",
    "    else:\n",
    "        c_cnstr[0] = False\n",
    "    \n",
    "    if c_2_ss <= 0:\n",
    "        c_cnstr[1] = True\n",
    "    else:\n",
    "        c_cnstr[1] = False\n",
    "    \n",
    "    if c_3_ss <= 0:\n",
    "        c_cnstr[2] = True\n",
    "    else:\n",
    "        c_cnstr[2] = False\n",
    "    \n",
    "    #Capital block\n",
    "    \n",
    "    K_cnstr = np.zeros(1)\n",
    "    if bvec_guess.sum() <= 0:\n",
    "        K_cnstr[0] = True\n",
    "    else:\n",
    "        K_cnstr[0] = False\n",
    "    \n",
    "    #B block\n",
    "    \n",
    "    b_cnstr = np.zeros(2)\n",
    "    \n",
    "    if c_cnstr[0] == True:\n",
    "        b_cnstr[0] = True\n",
    "        b_cnstr[1] = False\n",
    "    \n",
    "    if c_cnstr[1] == True:\n",
    "        b_cnstr[0] = True\n",
    "        b_cnstr[1] = True\n",
    "    \n",
    "    if c_cnstr[2] == True:\n",
    "        b_cnstr[0] = False\n",
    "        b_cnstr[1] = True\n",
    "    \n",
    "    return b_cnstr, c_cnstr, K_cnstr"
   ]
  },
  {
   "cell_type": "code",
   "execution_count": 5,
   "metadata": {},
   "outputs": [
    {
     "name": "stdout",
     "output_type": "stream",
     "text": [
      "(array([1., 0.]), array([1., 0., 0.]), array([0.]))\n",
      "(array([0., 0.]), array([0., 0., 0.]), array([0.]))\n",
      "(array([0., 0.]), array([0., 0., 0.]), array([0.]))\n"
     ]
    }
   ],
   "source": [
    "bvec_guess_1 = np.array([1.0, 1.2])\n",
    "output_a = feasible(f_params_21, bvec_guess_1)\n",
    "\n",
    "bvec_guess_2 = np.array([0.06, -0.001])\n",
    "output_b = feasible(f_params_21, bvec_guess_2)\n",
    "\n",
    "bvec_guess_3 = np.array([0.1, 0.1])\n",
    "output_c = feasible(f_params_21, bvec_guess_3)\n",
    "\n",
    "print(output_a)\n",
    "print(output_b)\n",
    "print(output_c)"
   ]
  },
  {
   "cell_type": "markdown",
   "metadata": {},
   "source": [
    "## 2.2"
   ]
  },
  {
   "cell_type": "code",
   "execution_count": 6,
   "metadata": {},
   "outputs": [],
   "source": [
    "def Eul_error(bvec_guess, eul_args):\n",
    "    beta, sigma, L, A, alpha, delta = eul_args\n",
    "    \n",
    "    EulErr_ss = np.zeros(2) #intialise vector\n",
    "    \n",
    "    c_1_ss = wage_ss([L, A, alpha], bvec_guess) - bvec_guess[0]\n",
    "    c_2_ss = wage_ss([L, A, alpha], bvec_guess) - bvec_guess[1] + (1+r_ss([L, A, alpha, delta], bvec_guess))*bvec_guess[0]\n",
    "    c_3_ss = 0.2*wage_ss([L, A, alpha], bvec_guess) + (1+r_ss([L, A, alpha, delta], bvec_guess))*bvec_guess[1]\n",
    "    \n",
    "    if c_1_ss <= 1e-6:\n",
    "        Uprime_1 = 1e8\n",
    "    else:\n",
    "        Uprime_1 = c_1_ss**(-sigma)\n",
    "    \n",
    "    if c_2_ss <= 1e-6:\n",
    "        Uprime_2 = 1e8\n",
    "    else:\n",
    "        Uprime_2 = c_2_ss**(-sigma)\n",
    "        \n",
    "    if c_1_ss <= 1e-6:\n",
    "        Uprime_3 = 1e8\n",
    "    else:\n",
    "        Uprime_3 = c_3_ss**(-sigma)\n",
    "\n",
    "    EulErr_ss[0] = beta*(1+r_ss([L, A, alpha, delta], bvec_guess))*Uprime_2 - Uprime_1\n",
    "    EulErr_ss[1] = beta*(1+r_ss([L, A, alpha, delta], bvec_guess))*Uprime_3 - Uprime_2\n",
    "    \n",
    "    return EulErr_ss"
   ]
  },
  {
   "cell_type": "code",
   "execution_count": 7,
   "metadata": {},
   "outputs": [],
   "source": [
    "import time\n",
    "import scipy.optimize as opt\n",
    "from matplotlib import pyplot as plt\n",
    "\n",
    "def get_ss(params, bvec_guess, ss_graphs):\n",
    "    beta, sigma, L, A, alpha, delta, ss_tol = params\n",
    "    start_time = time.clock()\n",
    "    \n",
    "    root =  opt.root(Eul_error, bvec_guess, [beta, sigma, L, A, alpha, delta], tol=ss_tol)\n",
    "    \n",
    "    #Now find all values based on roots\n",
    "    \n",
    "    bvec = root.x\n",
    "    b_ss = bvec\n",
    "    \n",
    "    w_ss = wage_ss([L, A, alpha], bvec)\n",
    "    rate_ss = r_ss([L, A, alpha, delta], bvec)\n",
    "    \n",
    "    c_ss = np.zeros(3)\n",
    "    \n",
    "    c_ss[0] = w_ss - bvec[0]\n",
    "    c_ss[1] = w_ss - bvec[1] + (1+rate_ss)*bvec[0]\n",
    "    c_ss[2] = 0.2*w_ss + (1+rate_ss)*bvec[1]\n",
    "    \n",
    "    K_ss = bvec.sum()\n",
    "    Y_ss = A*(K_ss**alpha)*L**(1-alpha)\n",
    "    C_ss = c_ss.sum()\n",
    "    R_Cerr_ss = Y_ss - C_ss- delta*K_ss\n",
    "    \n",
    "    EulErr_ss = Eul_error(bvec, [beta, sigma, L, A, alpha, delta])\n",
    "    \n",
    "    plt.style.use('seaborn-darkgrid')\n",
    "    palette = plt.get_cmap('tab20b')\n",
    "    if ss_graphs == True:\n",
    "        plt.bar(['c_1_ss', 'c_2_ss', 'c_3_ss'], c_ss, color = palette(3))\n",
    "        plt.xlabel('Cohort')\n",
    "        plt.ylabel('Consumption')\n",
    "        plt.show()\n",
    "    \n",
    "    ss_time = time.clock() - start_time\n",
    "    \n",
    "    ss_output = {'b_ss': b_ss, 'c_ss': c_ss, 'w_ss': w_ss, 'rate_ss': rate_ss,\n",
    "                 'K_ss': K_ss, 'Y_ss': Y_ss, 'C_ss': C_ss,\n",
    "                 'EulErr_ss': EulErr_ss, 'RCerr_ss': R_Cerr_ss,\n",
    "                 'ss_time': ss_time}\n",
    "\n",
    "    return ss_output"
   ]
  },
  {
   "cell_type": "code",
   "execution_count": 8,
   "metadata": {},
   "outputs": [
    {
     "data": {
      "image/png": "[encoded data removed]",
      "text/plain": [
       "<Figure size 432x288 with 1 Axes>"
      ]
     },
     "metadata": {},
     "output_type": "display_data"
    },
    {
     "data": {
      "text/plain": [
       "{'b_ss': array([0.01931262, 0.05841243]),\n",
       " 'c_ss': array([0.18241333, 0.20961424, 0.24087656]),\n",
       " 'w_ss': 0.20172594930954846,\n",
       " 'rate_ss': 2.4330257711489436,\n",
       " 'K_ss': 0.07772504796371657,\n",
       " 'Y_ss': 0.682764751509241,\n",
       " 'C_ss': 0.6329041332405168,\n",
       " 'EulErr_ss': array([ 0.00253831, -0.0054862 ]),\n",
       " 'RCerr_ss': 5.551115123125783e-17,\n",
       " 'ss_time': 0.3907520812633206}"
      ]
     },
     "execution_count": 8,
     "metadata": {},
     "output_type": "execute_result"
    }
   ],
   "source": [
    "params_23 = beta_ss, sigma_ss, L_ss, A_ss, alpha_ss, delta_ss, 0.001\n",
    "\n",
    "output = get_ss(params_23, bvec_guess_3, True)\n",
    "output"
   ]
  },
  {
   "cell_type": "code",
   "execution_count": 9,
   "metadata": {},
   "outputs": [
    {
     "data": {
      "image/png": "[encoded data removed]",
      "text/plain": [
       "<Figure size 432x288 with 1 Axes>"
      ]
     },
     "metadata": {},
     "output_type": "display_data"
    },
    {
     "data": {
      "text/plain": [
       "{'b_ss': array([0.02817716, 0.07686583]),\n",
       " 'c_ss': array([0.1959755 , 0.22861645, 0.26669351]),\n",
       " 'w_ss': 0.22415265671589663,\n",
       " 'rate_ss': 1.8863668551735306,\n",
       " 'K_ss': 0.10504298717498473,\n",
       " 'Y_ss': 0.7586705304230349,\n",
       " 'C_ss': 0.6912854541502821,\n",
       " 'EulErr_ss': array([-0.00087544, -0.00013795]),\n",
       " 'RCerr_ss': 1.1102230246251565e-16,\n",
       " 'ss_time': 0.13963659360089276}"
      ]
     },
     "execution_count": 9,
     "metadata": {},
     "output_type": "execute_result"
    }
   ],
   "source": [
    "#Suppose beta rises\n",
    "\n",
    "beta_new = 0.55\n",
    "\n",
    "params_24 = beta_new, sigma_ss, L_ss, A_ss, alpha_ss, delta_ss, 0.001\n",
    "output_2 = get_ss(params_24, bvec_guess_3, True)\n",
    "output_2"
   ]
  },
  {
   "cell_type": "markdown",
   "metadata": {},
   "source": [
    "## 2.3"
   ]
  },
  {
   "cell_type": "code",
   "execution_count": 10,
   "metadata": {},
   "outputs": [],
   "source": [
    "#Some more parameterisation\n",
    "T = 20\n",
    "path_toler = 1e-9\n",
    "xi = 0.2\n",
    "L = 2.2\n",
    "A = 1\n",
    "beta = 0.442\n",
    "delta = 0.6415\n",
    "sigma = 3\n",
    "A = 1\n",
    "alpha = 0.35\n",
    "n_vec = np.array([1.0, 1.0, 0.2])"
   ]
  },
  {
   "cell_type": "code",
   "execution_count": 11,
   "metadata": {},
   "outputs": [],
   "source": [
    "#Steady state b's\n",
    "bbar = output['b_ss']\n",
    "bbar2 = bbar[0]\n",
    "bbar3 = bbar[1]"
   ]
  },
  {
   "cell_type": "code",
   "execution_count": 12,
   "metadata": {},
   "outputs": [],
   "source": [
    "#Initial b's\n",
    "b21 = 0.8*bbar2\n",
    "b31 = 1.1*bbar3"
   ]
  },
  {
   "cell_type": "code",
   "execution_count": 13,
   "metadata": {},
   "outputs": [],
   "source": [
    "#Guess path for K\n",
    "K1 = b21 + b31\n",
    "Kbar = bbar2 + bbar3\n",
    "Kpath = np.linspace(K1, Kbar, T)\n",
    "Kpath = np.append(Kpath, np.array([[Kbar],[Kbar],[Kbar], [Kbar], [Kbar]]))"
   ]
  },
  {
   "cell_type": "code",
   "execution_count": 14,
   "metadata": {},
   "outputs": [],
   "source": [
    "#Create the initial rpaths and wpaths\n",
    "\n",
    "Wpath = ((1-alpha)*A/(L**alpha))*Kpath**alpha\n",
    "Rpath = alpha*A*(L/Kpath)**(1-alpha) - delta"
   ]
  },
  {
   "cell_type": "code",
   "execution_count": 15,
   "metadata": {},
   "outputs": [],
   "source": [
    "#Get the older generations b3 in time period 2\n",
    "from matplotlib import pyplot as plt\n",
    "import scipy.optimize as opt\n",
    "\n",
    "def get_a_life_err(b32, b32args): \n",
    "    rpath, wpath, beta, sigma = b32args\n",
    "    error = ((1+rpath[0])*b21 + wpath[0] - b32)**(-sigma) - beta*(1+rpath[1])*((1+rpath[1])*b32 + wpath[1]*0.2)**(-sigma)\n",
    "    return error\n",
    "    \n",
    "\n",
    "def get_a_life(rpath, wpath, beta, sigma, b32):\n",
    "    root =  opt.root(get_a_life_err, b32, [rpath, wpath, beta, sigma], tol=1e-8)  \n",
    "    b32_p = root.x\n",
    "    return b32_p"
   ]
  },
  {
   "cell_type": "code",
   "execution_count": 16,
   "metadata": {},
   "outputs": [
    {
     "data": {
      "text/plain": [
       "array([0.05560851])"
      ]
     },
     "execution_count": 16,
     "metadata": {},
     "output_type": "execute_result"
    }
   ],
   "source": [
    "b32_first = get_a_life(Rpath, Wpath, beta, sigma, 0.18)\n",
    "b32_first"
   ]
  },
  {
   "cell_type": "code",
   "execution_count": 43,
   "metadata": {},
   "outputs": [],
   "source": [
    "def Eul_error_tp(b, eul_tp_args):\n",
    "    beta, sigma, w1, w2, w3, r1, r2, r3 = eul_tp_args\n",
    "    \n",
    "    #b = [b21, b32]\n",
    "    EulErr_tp = np.zeros(2) #intialise vector\n",
    "    \n",
    "    c_1_tp = w1 - b[0]\n",
    "    c_2_tp = w2 - b[1] + (1+r2)*b[0]\n",
    "    c_3_tp = 0.2*w3 + (1+r3)*b[1]\n",
    "    \n",
    "    if c_1_tp <= 1e-22:\n",
    "        Uprime_1 = 1e8\n",
    "    else:\n",
    "        Uprime_1 = c_1_tp**(-sigma)\n",
    "    \n",
    "    if c_2_tp <= 1e-22:\n",
    "        Uprime_2 = 1e8\n",
    "    else:\n",
    "        Uprime_2 = c_2_tp**(-sigma)\n",
    "        \n",
    "    if c_1_tp <= 1e-22:\n",
    "        Uprime_3 = 1e8\n",
    "    else:\n",
    "        Uprime_3 = c_3_tp**(-sigma)\n",
    "\n",
    "    EulErr_tp[0] = beta*(1+r2)*Uprime_2 - Uprime_1\n",
    "    EulErr_tp[1] = beta*(1+r3)*Uprime_3 - Uprime_2\n",
    "    \n",
    "    return EulErr_tp"
   ]
  },
  {
   "cell_type": "code",
   "execution_count": 44,
   "metadata": {},
   "outputs": [],
   "source": [
    "#Function that gives entire time path of b's given a guess at Kpath\n",
    "def get_some_lives(bvec_tp, rpath, wpath, beta, sigma):\n",
    "    \n",
    "    init_b_mat = np.zeros((len(Kpath), 2))\n",
    "    init_b_mat[0,:] = bvec_tp\n",
    "    \n",
    "    \n",
    "    for i in range(T):\n",
    "        root = opt.root(Eul_error_tp, bvec_tp, [beta, sigma, wpath[i], wpath[i+1], wpath[i+2], rpath[i], rpath[i+1], rpath[i+2]], tol=1e-8)\n",
    "        b_result = root.x\n",
    "        init_b_mat[i, 0] = b_result[0]\n",
    "        init_b_mat[i+1, 1] = b_result[1]\n",
    "    \n",
    "    return init_b_mat\n"
   ]
  },
  {
   "cell_type": "code",
   "execution_count": 45,
   "metadata": {},
   "outputs": [],
   "source": [
    "#Now lets find the time path\n",
    "\n",
    "def solve():\n",
    "    b_guess = np.array([0.02, 0.02]) #some initial guess for optimizer to use\n",
    "    b32_first = get_a_life(Rpath, Wpath, beta, sigma, 0.18) #First guess at b32\n",
    "\n",
    "    iters = 0\n",
    "    dist = 0.1\n",
    "    tptol = 1e-8\n",
    "\n",
    "    Rpath_1 = Rpath.copy()\n",
    "    Wpath_1 = Wpath.copy()\n",
    "    Kpath_1 = Kpath.copy()\n",
    "    \n",
    "    Kprimepath = Kpath.copy()\n",
    "    \n",
    "    while iters < 500 and dist > tptol:\n",
    "        b_mat = get_some_lives(b_guess, Rpath_1, Wpath_1, beta, sigma)\n",
    "        b32_first = get_a_life(Rpath_1, Wpath_1, beta, sigma, 0.18)\n",
    "        b_mat[0, 1] = b32_first #fill hole at top right\n",
    "        temp = Kpath.copy()\n",
    "        temp = b_mat.sum(axis = 1)\n",
    "        Kprimepath[1:T+1] = temp[0:T]\n",
    "        dist = ((Kprimepath - Kpath_1)**2).sum()\n",
    "        Kpathnew = xi * Kprimepath + (1-xi)*Kpath_1\n",
    "    \n",
    "        Kpath_1 = Kpathnew\n",
    "        Wpath_1 = ((1-alpha)*A/(L**alpha))*Kpathnew**alpha\n",
    "        Rpath_1 = alpha*A*(L/Kpathnew)**(1-alpha) - delta\n",
    "        iters += 1\n",
    "        \n",
    "    print(iters)\n",
    "    print(dist)\n",
    "    return Kprimepath, b_mat"
   ]
  },
  {
   "cell_type": "code",
   "execution_count": 46,
   "metadata": {},
   "outputs": [
    {
     "name": "stdout",
     "output_type": "stream",
     "text": [
      "30\n",
      "8.517134272839238e-09\n"
     ]
    }
   ],
   "source": [
    "TimePath, b_final = solve()"
   ]
  },
  {
   "cell_type": "code",
   "execution_count": 57,
   "metadata": {},
   "outputs": [
    {
     "data": {
      "image/png": "[encoded data removed]",
      "text/plain": [
       "<Figure size 864x576 with 1 Axes>"
      ]
     },
     "metadata": {},
     "output_type": "display_data"
    }
   ],
   "source": [
    "plt.figure(figsize=(12, 8))\n",
    "plt.plot(TimePath)\n",
    "plt.xlabel('Time period')\n",
    "plt.ylabel('K')\n",
    "plt.title('Time path to steady state capital')\n",
    "plt.show()"
   ]
  },
  {
   "cell_type": "code",
   "execution_count": 58,
   "metadata": {},
   "outputs": [
    {
     "data": {
      "image/png": "[encoded data removed]",
      "text/plain": [
       "<Figure size 864x576 with 1 Axes>"
      ]
     },
     "metadata": {},
     "output_type": "display_data"
    }
   ],
   "source": [
    "Wpath_fin = ((1-alpha)*A/(L**alpha))*TimePath**alpha\n",
    "Rpath_fin = alpha*A*(L/TimePath)**(1-alpha) - delta\n",
    "\n",
    "plt.figure(figsize=(12, 8))\n",
    "plt.plot(Wpath_fin)\n",
    "plt.xlabel('Time period')\n",
    "plt.ylabel('W')\n",
    "plt.title('Time path to steady state wage rate')\n",
    "plt.show()"
   ]
  },
  {
   "cell_type": "code",
   "execution_count": 59,
   "metadata": {},
   "outputs": [
    {
     "data": {
      "image/png": "[encoded data removed]",
      "text/plain": [
       "<Figure size 864x576 with 1 Axes>"
      ]
     },
     "metadata": {},
     "output_type": "display_data"
    }
   ],
   "source": [
    "plt.figure(figsize=(12, 8))\n",
    "plt.plot(Rpath_fin)\n",
    "plt.xlabel('Time period')\n",
    "plt.ylabel('R')\n",
    "plt.title('Time path to steady state interest rate')\n",
    "plt.show()"
   ]
  },
  {
   "cell_type": "code",
   "execution_count": 48,
   "metadata": {},
   "outputs": [],
   "source": [
    "#Modify the array of b's such that it includes the first period and steady state\n",
    "\n",
    "borrowing = np.zeros((25,2)) #initialise matrix\n",
    "borrowing[1:24, :] = b_final[0:23, :]\n",
    "borrowing[0, 0] = b21\n",
    "borrowing[0, 1] = b31\n",
    "borrowing[21, 0] = bbar2\n",
    "borrowing[21, 1] = bbar3\n",
    "borrowing[22, 0] = bbar2\n",
    "borrowing[22, 1] = bbar3\n",
    "borrowing[23, 0] = bbar2\n",
    "borrowing[23, 1] = bbar3\n",
    "borrowing[24, 0] = bbar2\n",
    "borrowing[24, 1] = bbar3"
   ]
  },
  {
   "cell_type": "code",
   "execution_count": 49,
   "metadata": {},
   "outputs": [
    {
     "data": {
      "text/plain": [
       "array([[0.0154501 , 0.06425367],\n",
       "       [0.02038112, 0.05499231],\n",
       "       [0.01862154, 0.05911087],\n",
       "       [0.01943406, 0.05773556],\n",
       "       [0.01917454, 0.0584497 ],\n",
       "       [0.01931594, 0.05826772],\n",
       "       [0.01928368, 0.05840196],\n",
       "       [0.01931084, 0.05838661],\n",
       "       [0.01930897, 0.05841499],\n",
       "       [0.01931476, 0.05841665],\n",
       "       [0.0193153 , 0.05842276],\n",
       "       [0.01931644, 0.05842352],\n",
       "       [0.01931652, 0.05842417],\n",
       "       [0.01931653, 0.05842365],\n",
       "       [0.01931631, 0.0584229 ],\n",
       "       [0.01931605, 0.05842188],\n",
       "       [0.01931573, 0.05842079],\n",
       "       [0.01931541, 0.05841965],\n",
       "       [0.01931508, 0.05841849],\n",
       "       [0.01931473, 0.05841733],\n",
       "       [0.01931418, 0.05841613],\n",
       "       [0.01931262, 0.05841243],\n",
       "       [0.01931262, 0.05841243],\n",
       "       [0.01931262, 0.05841243],\n",
       "       [0.01931262, 0.05841243]])"
      ]
     },
     "execution_count": 49,
     "metadata": {},
     "output_type": "execute_result"
    }
   ],
   "source": [
    "borrowing"
   ]
  },
  {
   "cell_type": "code",
   "execution_count": 50,
   "metadata": {},
   "outputs": [
    {
     "data": {
      "text/plain": [
       "array([[ 4.56929933e+01, -8.26283907e+00],\n",
       "       [-1.58617905e+01,  3.28751232e+00],\n",
       "       [ 7.17976787e+00, -9.70797219e-01],\n",
       "       [-2.35492595e+00,  6.10379923e-01],\n",
       "       [ 1.21958268e+00, -1.30964944e-01],\n",
       "       [-3.13520812e-01,  8.95040646e-02],\n",
       "       [ 2.19166246e-01, -4.18235532e-02],\n",
       "       [-3.61087374e-02, -1.39528656e-02],\n",
       "       [ 3.57285281e-02, -3.67788334e-02],\n",
       "       [-8.80170450e-03, -3.24506836e-02],\n",
       "       [-9.79007482e-04, -3.45944049e-02],\n",
       "       [-8.75971901e-03, -3.19651918e-02],\n",
       "       [-8.03129098e-03, -2.99578359e-02],\n",
       "       [-9.04566645e-03, -2.71004441e-02],\n",
       "       [-8.67912928e-03, -2.42535165e-02],\n",
       "       [ 0.00000000e+00,  0.00000000e+00],\n",
       "       [ 0.00000000e+00,  0.00000000e+00],\n",
       "       [ 0.00000000e+00,  0.00000000e+00],\n",
       "       [ 0.00000000e+00,  0.00000000e+00],\n",
       "       [ 0.00000000e+00,  0.00000000e+00],\n",
       "       [ 0.00000000e+00,  0.00000000e+00],\n",
       "       [ 0.00000000e+00,  0.00000000e+00],\n",
       "       [ 0.00000000e+00,  0.00000000e+00],\n",
       "       [ 0.00000000e+00,  0.00000000e+00],\n",
       "       [ 0.00000000e+00,  0.00000000e+00],\n",
       "       [ 0.00000000e+00,  0.00000000e+00],\n",
       "       [ 0.00000000e+00,  0.00000000e+00],\n",
       "       [ 0.00000000e+00,  0.00000000e+00],\n",
       "       [ 0.00000000e+00,  0.00000000e+00],\n",
       "       [ 0.00000000e+00,  0.00000000e+00]])"
      ]
     },
     "execution_count": 50,
     "metadata": {},
     "output_type": "execute_result"
    }
   ],
   "source": [
    "#Find euler errors along time path\n",
    "\n",
    "#Get final paths of W and R\n",
    "Wpath_fin = ((1-alpha)*A/(L**alpha))*TimePath**alpha\n",
    "Rpath_fin = alpha*A*(L/TimePath)**(1-alpha) - delta\n",
    "\n",
    "\n",
    "Error_fin = np.zeros((30,2))\n",
    "for i in range(0,15):\n",
    "    q = np.array([borrowing[i, 0], borrowing[i+1, 1]])\n",
    "    W1 = Wpath_fin[i]\n",
    "    W2 = Wpath_fin[i+1]\n",
    "    W3 = Wpath_fin[i+2]\n",
    "    R1 = Rpath_fin[i]\n",
    "    R2 = Rpath_fin[i]\n",
    "    R3 = Rpath_fin[i+1]\n",
    "    Error_fin[i, :] = Eul_error_tp(q, [beta, sigma, W1, W2, W3, R1, R2, R3])\n"
   ]
  },
  {
   "cell_type": "code",
   "execution_count": 52,
   "metadata": {},
   "outputs": [
    {
     "name": "stdout",
     "output_type": "stream",
     "text": [
      "Max Euler error 45.692993345329995\n"
     ]
    }
   ],
   "source": [
    "print('Max Euler error', np.max(Error_fin))"
   ]
  },
  {
   "cell_type": "code",
   "execution_count": 65,
   "metadata": {},
   "outputs": [
    {
     "data": {
      "text/plain": [
       "(array([ 2,  8,  9, 18, 19, 20, 21, 22, 23, 24], dtype=int64),)"
      ]
     },
     "execution_count": 65,
     "metadata": {},
     "output_type": "execute_result"
    }
   ],
   "source": [
    "#Distance to steady state\n",
    "\n",
    "Difference = TimePath - Kbar\n",
    "loc = np.where(np.abs(Difference) < 0.00001)\n",
    "loc\n",
    "#Within 0.00001 in the second 3rd period, never further than 0.00001 after the 19th period"
   ]
  }
 ],
 "metadata": {
  "kernelspec": {
   "display_name": "Python 3",
   "language": "python",
   "name": "python3"
  },
  "language_info": {
   "codemirror_mode": {
    "name": "ipython",
    "version": 3
   },
   "file_extension": ".py",
   "mimetype": "text/x-python",
   "name": "python",
   "nbconvert_exporter": "python",
   "pygments_lexer": "ipython3",
   "version": "3.6.5"
  }
 },
 "nbformat": 4,
 "nbformat_minor": 2
}
