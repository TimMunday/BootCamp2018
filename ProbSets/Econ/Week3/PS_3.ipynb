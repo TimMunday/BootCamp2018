{
 "cells": [
  {
   "cell_type": "markdown",
   "metadata": {},
   "source": [
    "# PS 3 - OLG"
   ]
  },
  {
   "cell_type": "markdown",
   "metadata": {},
   "source": [
    "## 2.1"
   ]
  },
  {
   "cell_type": "code",
   "execution_count": 1,
   "metadata": {},
   "outputs": [],
   "source": [
    "import numpy as np\n",
    "import matplotlib as plt"
   ]
  },
  {
   "cell_type": "code",
   "execution_count": 40,
   "metadata": {},
   "outputs": [],
   "source": [
    "#Calibration\n",
    "\n",
    "beta_ss = 0.442\n",
    "delta_ss = 0.6415\n",
    "sigma_ss = 3\n",
    "A_ss = 1\n",
    "alpha_ss = 0.35\n",
    "L_ss = 2.2\n",
    "\n",
    "f_params_21 = (L_ss, A_ss, alpha_ss, delta_ss)\n",
    "eul_args_22 = (beta_ss, sigma_ss, L_ss, A_ss, alpha_ss, delta_ss)"
   ]
  },
  {
   "cell_type": "code",
   "execution_count": 26,
   "metadata": {},
   "outputs": [],
   "source": [
    "def wage_ss(args_w, bvec_guess):\n",
    "    L, A, alpha = args_w\n",
    "    K = bvec_guess.sum()\n",
    "    w = (1-alpha)*A*(K/L)**alpha\n",
    "    return w\n",
    "\n",
    "def r_ss(args_k, bvec_guess):\n",
    "    L, A, alpha, delta = args_k\n",
    "    K = bvec_guess.sum()\n",
    "    r = alpha*A*(L/K)**(1-alpha) - delta\n",
    "    return r\n"
   ]
  },
  {
   "cell_type": "code",
   "execution_count": 37,
   "metadata": {},
   "outputs": [],
   "source": [
    "def feasible(f_params, bvec_guess):\n",
    "    \n",
    "    L, A, alpha, delta = f_params\n",
    "        \n",
    "    #Consumption block\n",
    "    \n",
    "    c_cnstr = np.zeros(3)\n",
    "    c_1_ss = wage_ss([L, A, alpha], bvec_guess) - bvec_guess[0]\n",
    "    c_2_ss = wage_ss([L, A, alpha], bvec_guess) - bvec_guess[1] + (1+r_ss([L, A, alpha, delta], bvec_guess))*bvec_guess[0]\n",
    "    c_3_ss = 0.2*wage_ss([L, A, alpha], bvec_guess) + (1+r_ss([L, A, alpha, delta], bvec_guess))*bvec_guess[1]\n",
    "    c_cnstr = np.zeros((3))\n",
    "    \n",
    "    if c_1_ss <= 0:\n",
    "        c_cnstr[0] = True\n",
    "    else:\n",
    "        c_cnstr[0] = False\n",
    "    \n",
    "    if c_2_ss <= 0:\n",
    "        c_cnstr[1] = True\n",
    "    else:\n",
    "        c_cnstr[1] = False\n",
    "    \n",
    "    if c_3_ss <= 0:\n",
    "        c_cnstr[2] = True\n",
    "    else:\n",
    "        c_cnstr[2] = False\n",
    "    \n",
    "    #Capital block\n",
    "    \n",
    "    K_cnstr = np.zeros(1)\n",
    "    if bvec_guess.sum() <= 0:\n",
    "        K_cnstr[0] = True\n",
    "    else:\n",
    "        K_cnstr[0] = False\n",
    "    \n",
    "    #B block\n",
    "    \n",
    "    b_cnstr = np.zeros(2)\n",
    "    \n",
    "    if c_cnstr[0] == True:\n",
    "        b_cnstr[0] = True\n",
    "        b_cnstr[1] = False\n",
    "    \n",
    "    if c_cnstr[1] == True:\n",
    "        b_cnstr[0] = True\n",
    "        b_cnstr[1] = True\n",
    "    \n",
    "    if c_cnstr[2] == True:\n",
    "        b_cnstr[0] = False\n",
    "        b_cnstr[1] = True\n",
    "    \n",
    "    return b_cnstr, c_cnstr, K_cnstr"
   ]
  },
  {
   "cell_type": "code",
   "execution_count": 38,
   "metadata": {},
   "outputs": [
    {
     "name": "stdout",
     "output_type": "stream",
     "text": [
      "(array([1., 0.]), array([1., 0., 0.]), array([0.]))\n",
      "(array([0., 0.]), array([0., 0., 0.]), array([0.]))\n",
      "(array([0., 0.]), array([0., 0., 0.]), array([0.]))\n"
     ]
    }
   ],
   "source": [
    "bvec_guess_1 = np.array([1.0, 1.2])\n",
    "output_a = feasible(f_params_21, bvec_guess_1)\n",
    "\n",
    "bvec_guess_2 = np.array([0.06, -0.001])\n",
    "output_b = feasible(f_params_21, bvec_guess_2)\n",
    "\n",
    "bvec_guess_3 = np.array([0.1, 0.1])\n",
    "output_c = feasible(f_params_21, bvec_guess_3)\n",
    "\n",
    "print(output_a)\n",
    "print(output_b)\n",
    "print(output_c)"
   ]
  },
  {
   "cell_type": "markdown",
   "metadata": {},
   "source": [
    "## 2.2"
   ]
  },
  {
   "cell_type": "code",
   "execution_count": 103,
   "metadata": {},
   "outputs": [],
   "source": [
    "def Eul_error(bvec_guess, eul_args):\n",
    "    beta, sigma, L, A, alpha, delta = eul_args\n",
    "    \n",
    "    EulErr_ss = np.zeros(2) #intialise vector\n",
    "    \n",
    "    c_1_ss = wage_ss([L, A, alpha], bvec_guess) - bvec_guess[0]\n",
    "    c_2_ss = wage_ss([L, A, alpha], bvec_guess) - bvec_guess[1] + (1+r_ss([L, A, alpha, delta], bvec_guess))*bvec_guess[0]\n",
    "    c_3_ss = 0.2*wage_ss([L, A, alpha], bvec_guess) + (1+r_ss([L, A, alpha, delta], bvec_guess))*bvec_guess[1]\n",
    "    \n",
    "    if c_1_ss <= 1e-6:\n",
    "        Uprime_1 = 1e8\n",
    "    else:\n",
    "        Uprime_1 = c_1_ss**(-sigma)\n",
    "    \n",
    "    if c_2_ss <= 1e-6:\n",
    "        Uprime_2 = 1e8\n",
    "    else:\n",
    "        Uprime_2 = c_2_ss**(-sigma)\n",
    "        \n",
    "    if c_1_ss <= 1e-6:\n",
    "        Uprime_3 = 1e8\n",
    "    else:\n",
    "        Uprime_3 = c_3_ss**(-sigma)\n",
    "\n",
    "    EulErr_ss[0] = beta*(1+r_ss([L, A, alpha, delta], bvec_guess))*Uprime_2 - Uprime_1\n",
    "    EulErr_ss[1] = beta*(1+r_ss([L, A, alpha, delta], bvec_guess))*Uprime_3 - Uprime_2\n",
    "    \n",
    "    return EulErr_ss"
   ]
  },
  {
   "cell_type": "code",
   "execution_count": 104,
   "metadata": {},
   "outputs": [],
   "source": [
    "import time\n",
    "import scipy.optimize as opt\n",
    "from matplotlib import pyplot as plt\n",
    "\n",
    "def get_ss(params, bvec_guess, ss_graphs):\n",
    "    beta, sigma, L, A, alpha, delta, ss_tol = params\n",
    "    start_time = time.clock()\n",
    "    \n",
    "    root =  opt.root(Eul_error, bvec_guess, [beta, sigma, L, A, alpha, delta], tol=ss_tol)\n",
    "    \n",
    "    #Now find all values based on roots\n",
    "    \n",
    "    bvec = root.x\n",
    "    b_ss = bvec\n",
    "    \n",
    "    w_ss = wage_ss([L, A, alpha], bvec)\n",
    "    rate_ss = r_ss([L, A, alpha, delta], bvec)\n",
    "    \n",
    "    c_ss = np.zeros(3)\n",
    "    \n",
    "    c_ss[0] = w_ss - bvec[0]\n",
    "    c_ss[1] = w_ss - bvec[1] + (1+rate_ss)*bvec[0]\n",
    "    c_ss[2] = 0.2*w_ss + (1+rate_ss)*bvec[1]\n",
    "    \n",
    "    K_ss = bvec.sum()\n",
    "    Y_ss = A*(K_ss**alpha)*L**(1-alpha)\n",
    "    C_ss = c_ss.sum()\n",
    "    R_Cerr_ss = Y_ss - C_ss- delta*K_ss\n",
    "    \n",
    "    EulErr_ss = Eul_error(bvec, [beta, sigma, L, A, alpha, delta])\n",
    "    \n",
    "    plt.style.use('seaborn-darkgrid')\n",
    "    palette = plt.get_cmap('tab20b')\n",
    "    if ss_graphs == True:\n",
    "        plt.bar(['c_1_ss', 'c_2_ss', 'c_3_ss'], c_ss, color = palette(3))\n",
    "        plt.xlabel('Cohort')\n",
    "        plt.ylabel('Consumption')\n",
    "        plt.show()\n",
    "    \n",
    "    ss_time = time.clock() - start_time\n",
    "    \n",
    "    ss_output = {'b_ss': b_ss, 'c_ss': c_ss, 'w_ss': w_ss, 'rate_ss': rate_ss,\n",
    "                 'K_ss': K_ss, 'Y_ss': Y_ss, 'C_ss': C_ss,\n",
    "                 'EulErr_ss': EulErr_ss, 'RCerr_ss': R_Cerr_ss,\n",
    "                 'ss_time': ss_time}\n",
    "\n",
    "    return ss_output"
   ]
  },
  {
   "cell_type": "code",
   "execution_count": 107,
   "metadata": {},
   "outputs": [
    {
     "data": {
      "image/png": "[encoded data removed]",
      "text/plain": [
       "<Figure size 432x288 with 1 Axes>"
      ]
     },
     "metadata": {},
     "output_type": "display_data"
    },
    {
     "data": {
      "text/plain": [
       "{'b_ss': array([0.01931262, 0.05841243]),\n",
       " 'c_ss': array([0.18241333, 0.20961424, 0.24087656]),\n",
       " 'w_ss': 0.20172594930954846,\n",
       " 'rate_ss': 2.4330257711489436,\n",
       " 'K_ss': 0.07772504796371657,\n",
       " 'Y_ss': 0.682764751509241,\n",
       " 'C_ss': 0.6329041332405168,\n",
       " 'EulErr_ss': array([ 0.00253831, -0.0054862 ]),\n",
       " 'RCerr_ss': 5.551115123125783e-17,\n",
       " 'ss_time': 0.13261068918063756}"
      ]
     },
     "execution_count": 107,
     "metadata": {},
     "output_type": "execute_result"
    }
   ],
   "source": [
    "params_23 = beta_ss, sigma_ss, L_ss, A_ss, alpha_ss, delta_ss, 0.001\n",
    "\n",
    "output = get_ss(params_23, bvec_guess_3, True)\n",
    "output"
   ]
  },
  {
   "cell_type": "code",
   "execution_count": 108,
   "metadata": {},
   "outputs": [
    {
     "data": {
      "image/png": "[encoded data removed]",
      "text/plain": [
       "<Figure size 432x288 with 1 Axes>"
      ]
     },
     "metadata": {},
     "output_type": "display_data"
    },
    {
     "data": {
      "text/plain": [
       "{'b_ss': array([0.02817716, 0.07686583]),\n",
       " 'c_ss': array([0.1959755 , 0.22861645, 0.26669351]),\n",
       " 'w_ss': 0.22415265671589663,\n",
       " 'rate_ss': 1.8863668551735306,\n",
       " 'K_ss': 0.10504298717498473,\n",
       " 'Y_ss': 0.7586705304230349,\n",
       " 'C_ss': 0.6912854541502821,\n",
       " 'EulErr_ss': array([-0.00087544, -0.00013795]),\n",
       " 'RCerr_ss': 1.1102230246251565e-16,\n",
       " 'ss_time': 0.1269020924942197}"
      ]
     },
     "execution_count": 108,
     "metadata": {},
     "output_type": "execute_result"
    }
   ],
   "source": [
    "#Suppose beta rises\n",
    "\n",
    "beta_new = 0.55\n",
    "\n",
    "params_24 = beta_new, sigma_ss, L_ss, A_ss, alpha_ss, delta_ss, 0.001\n",
    "output_2 = get_ss(params_24, bvec_guess_3, True)\n",
    "output_2"
   ]
  }
 ],
 "metadata": {
  "kernelspec": {
   "display_name": "Python 3",
   "language": "python",
   "name": "python3"
  },
  "language_info": {
   "codemirror_mode": {
    "name": "ipython",
    "version": 3
   },
   "file_extension": ".py",
   "mimetype": "text/x-python",
   "name": "python",
   "nbconvert_exporter": "python",
   "pygments_lexer": "ipython3",
   "version": "3.6.5"
  }
 },
 "nbformat": 4,
 "nbformat_minor": 2
}
