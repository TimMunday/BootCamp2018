{
 "cells": [
  {
   "cell_type": "markdown",
   "metadata": {},
   "source": [
    "# Economics Problem Set 1\n",
    "\n",
    "\n"
   ]
  },
  {
   "cell_type": "markdown",
   "metadata": {},
   "source": [
    "## Question 1\n",
    "\n",
    "\n",
    "### 1. State variables:\n",
    "\n",
    "Stock of oil $S_t$\n",
    "Price $p_t$\n",
    "\n",
    "### 2. Control variables:\n",
    "\n",
    "Amount of oil to sell $x_t$\n",
    "\n",
    "### 3. Transition equation:\n",
    "\n",
    "$$S_{t+1} = S_t - x_t$$\n",
    "\n",
    "### 4. Sequence problem\n",
    "\n",
    "Max $E_{t}\\{\\Sigma_{s=1}^{\\infty}p_{t+s}x_{t+s}(\\frac{1}{1+r})^s) \\}$\n",
    "subject to $S_{t+s+1} = S_{t+s} - x_{t+s}$    $\\forall s$ and $S_t = B$ and $S_{t+s} \\geqslant 0$\n",
    "\n",
    "The Bellman equation is of the form:\n",
    "\n",
    "$$V(S) = Max_x\\{px + \\frac{1}{1+r} V(S - x)\\}$$\n",
    "\n",
    "### 5. The Euler equation\n",
    "\n",
    "$$p_{t+s} = p_{t+1+s}(\\frac{1}{1+r})$$\n",
    "\n",
    "### 6. The solution\n",
    "\n",
    "Since the payoff function is linear, the solution is piecewise.\n",
    "\n",
    "If $p_{t+1+s} = p_{t+s}$ for all s, then $x_t = B$, i.e. we sell everything today. This is because we get the same absolute payoff from selling a marginal unit in any period, but we discount the future, so we sell everything today.\n",
    "\n",
    "If $p_{t+1+s} > (1+r)p_{t+s}$ then $x_{t+s} = 0$ for all s. This is actually a violation of the transversality condition, and so the model is not stationary in this case.\n",
    "\n",
    "A necessary condition for an interior solution is $p_{t+s}(1+r) = p_{t+s+1}$\n"
   ]
  },
  {
   "cell_type": "markdown",
   "metadata": {},
   "source": [
    "## Question two\n",
    "\n",
    "### 1. State variables:\n",
    "\n",
    "Capital today: $k_t$\n",
    "Shock today: $z_t$\n",
    "\n",
    "### 2. Control variables:\n",
    "\n",
    "Capital tomorrow: $k_{t+1}$\n",
    "Consumption today: $c_t$\n",
    "\n",
    "### 3. Bellman Equation:\n",
    "\n",
    "$$V(z_t, k_t) = Max_c\\{U(C_{t}) + \\beta E_tV(z_{t+1}, k_{t+1})\\}$$\n",
    "\n",
    "subject to the resource contraint:\n",
    "\n",
    "$$k_{t+1} + c_{t} = z_{t}k_{t}^\\alpha + (1-\\delta)k_{t}$$\n",
    "\n"
   ]
  },
  {
   "cell_type": "markdown",
   "metadata": {},
   "source": [
    "#### Import some packages"
   ]
  },
  {
   "cell_type": "code",
   "execution_count": 2,
   "metadata": {},
   "outputs": [],
   "source": [
    "#Imports\n",
    "import numpy as np\n",
    "import matplotlib.pyplot as plt\n",
    "\n",
    "# to print plots inline\n",
    "%matplotlib inline"
   ]
  },
  {
   "cell_type": "markdown",
   "metadata": {},
   "source": [
    "### Set Parameters\n",
    "\n",
    "Parameters:\n",
    "* $\\gamma$ : Coefficient of Relative Risk Aversion\n",
    "* $\\beta$ : Discount factor\n",
    "* $\\delta$ : Rate of depreciation\n",
    "* $\\alpha$ : Curvature of production function\n",
    "* $\\sigma_z$ : Standard dev of productivity shocks\n"
   ]
  },
  {
   "cell_type": "code",
   "execution_count": 3,
   "metadata": {},
   "outputs": [],
   "source": [
    "gamma = 0.5\n",
    "beta = 0.96\n",
    "delta = 0.05\n",
    "alpha = 0.4\n",
    "sigmaz = 0.2"
   ]
  },
  {
   "cell_type": "markdown",
   "metadata": {},
   "source": [
    "### Create Grid Space"
   ]
  },
  {
   "cell_type": "code",
   "execution_count": null,
   "metadata": {},
   "outputs": [],
   "source": [
    "'''\n",
    "------------------------------------------------------------------------\n",
    "Create Grid for State Space - Capital    \n",
    "------------------------------------------------------------------------\n",
    "lb_k      = scalar, lower bound of capital grid\n",
    "ub_k      = scalar, upper bound of capital grid \n",
    "size_k    = integer, number of grid points in capital state space\n",
    "k_grid    = vector, size_k x 1 vector of capital grid points \n",
    "------------------------------------------------------------------------\n",
    "'''\n",
    "lb_k = 0.4 #Note that the steady state of k is 11.65 so we create grid around that\n",
    "ub_k = 25 \n",
    "size_k = 200  # Number of grid points\n",
    "k_grid = np.linspace(lb_k, ub_k, size_k)\n",
    "\n",
    "'''\n",
    "------------------------------------------------------------------------\n",
    "Create Grid for State Space - Shock   \n",
    "------------------------------------------------------------------------\n",
    "lb_z      = scalar, lower bound of shock grid\n",
    "ub_z      = scalar, upper bound of shock grid \n",
    "size_z    = integer, number of grid points in shock state space\n",
    "z_grid    = vector, size_z x 1 vector of shock grid points \n",
    "------------------------------------------------------------------------\n",
    "'''\n",
    "lb_z = 0.1 #Note that since logz is normally distributed, z cannot be below 0\n",
    "ub_z = 10\n",
    "size_z = 200  # Number of grid points\n",
    "z_grid = np.linspace(lb_z, ub_z, size_z)\n",
    "\n",
    "'''\n",
    "------------------------------------------------------------------------\n",
    "Create grid of current utility values    \n",
    "------------------------------------------------------------------------\n",
    "C        = matrix, current consumption (c=z_tk_t^a - k_t+1 + (1-delta)k_t)\n",
    "U        = matrix, current period utility value for all possible\n",
    "           choices of w and w' (rows are w, columns w')\n",
    "------------------------------------------------------------------------\n",
    "'''\n",
    "\n",
    "#This part below is wrong\n",
    "C = np.zeros((size_w, size_w)) \n",
    "for i in range(size_w): # loop over w\n",
    "    for j in range(size_w): # loop over w'\n",
    "        C[i, j] = w_grid[i] - w_grid[j] / R # note that if w'>w, consumption negative\n",
    "# replace 0 and negative consumption with a tiny value \n",
    "# This is a way to impose non-negativity on cons\n",
    "C[C<=0] = 1e-15\n",
    "if sigma == 1:\n",
    "    U = np.log(C)\n",
    "else:\n",
    "    U = (C ** (1 - sigma)) / (1 - sigma)\n",
    "U[C<0] = -9999999"
   ]
  }
 ],
 "metadata": {
  "kernelspec": {
   "display_name": "Python 3",
   "language": "python",
   "name": "python3"
  },
  "language_info": {
   "codemirror_mode": {
    "name": "ipython",
    "version": 3
   },
   "file_extension": ".py",
   "mimetype": "text/x-python",
   "name": "python",
   "nbconvert_exporter": "python",
   "pygments_lexer": "ipython3",
   "version": "3.6.5"
  }
 },
 "nbformat": 4,
 "nbformat_minor": 2
}
